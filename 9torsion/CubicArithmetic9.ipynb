{
 "cells": [
  {
   "cell_type": "markdown",
   "metadata": {},
   "source": [
    "In this notebook we study part of the group structure of the smooth plane cubic $E$ with equation $x^2 y+y^2 z+z^2 x=0$. We will compute later the inflection points and one of them will be chosen as zero element. The choice of this curve comes from the following fact: the points $[1:0:0]$, $[0:1:0]$, and $[0:0:1]$ are points of $9$-torsion, for any choice of zero element among the flexes. In the next cell we construct a number field $K_4$ where all the points of $E[9]$ have coordinates in this field.\n",
    "\n",
    "This number field is constructed using a tower of extensions; a primitive element of $K_4$ is an element $e_4$, whose minimal polynomial is of degree $18$. Primitive elements of the intermediate extensions are also expressed in the field $K_4$. The documentation for this construction can be found in `Sagemath` help pages."
   ]
  },
  {
   "cell_type": "code",
   "execution_count": 1,
   "metadata": {},
   "outputs": [
    {
     "data": {
      "text/plain": [
       "x^18 - 9*x^17 + 36*x^16 - 69*x^15 + 360*x^13 - 993*x^12 + 1287*x^11 - 225*x^10 - 2557*x^9 + 5886*x^8 - 7713*x^7 + 6960*x^6 - 4473*x^5 + 2007*x^4 - 588*x^3 + 99*x^2 - 9*x + 1"
      ]
     },
     "execution_count": 1,
     "metadata": {},
     "output_type": "execute_result"
    }
   ],
   "source": [
    "R0.<t0>=QQ[]\n",
    "p0=t0^3 + 3*t0^2 - 1\n",
    "K0.<a0>=NumberField(p0)\n",
    "R1.<t1>=K0[]\n",
    "p1=t1^2+t1+1\n",
    "K1.<b1>=NumberField(p1)\n",
    "a1=K1(a0)\n",
    "K2.<c2>=K1.absolute_field()\n",
    "a2=K2(a1)\n",
    "b2=K2(b1)\n",
    "R2.<t2>=K2[]\n",
    "p2=t2^3 + (-3/19*c2^5 + 13/19*c2^4 - 11/19*c2^3 - 7/19*c2^2 - 24/19*c2 - 6/19)*t2^2 + (-1/3*c2^4 + c2^3 - c2^2 + c2)*t2 + 8/57*c2^5 - 1/19*c2^4 - 5/19*c2^3 + 2/19*c2^2 - 4/19*c2 - 1/19\n",
    "K3.<d3>=NumberField(p2)\n",
    "a3=K3(a2)\n",
    "b3=K3(b2)\n",
    "c3=K3(c2)\n",
    "K4.<e4>=K3.absolute_field()\n",
    "a4=K4(a3)\n",
    "b4=K4(b3)\n",
    "c4=K4(c3)\n",
    "d4=K4(d3)\n",
    "R.<x,y,z>=K4[]\n",
    "e4.minpoly()"
   ]
  },
  {
   "cell_type": "markdown",
   "metadata": {},
   "source": [
    "The field $K_3$ (tower of extensions) is isomorphic to $K_4$: this is the expression of the primitive element $e_4$ in $K_3$."
   ]
  },
  {
   "cell_type": "code",
   "execution_count": 2,
   "metadata": {},
   "outputs": [
    {
     "data": {
      "text/plain": [
       "(-1/38*c2^5 - 28/171*c2^4 + 14/19*c2^3 + 2/19*c2^2 - 157/114*c2 - 97/38)*d3^2 + (101/342*c2^5 - 311/342*c2^4 - 37/114*c2^3 + 110/57*c2^2 + 160/57*c2 - 31/19)*d3 - 14/171*c2^5 + 29/171*c2^4 + 23/57*c2^3 - 83/114*c2^2 - 50/57*c2 - 1/19"
      ]
     },
     "execution_count": 2,
     "metadata": {},
     "output_type": "execute_result"
    }
   ],
   "source": [
    "K3(e4)"
   ]
  },
  {
   "cell_type": "markdown",
   "metadata": {},
   "source": [
    "For further use we define the Galois group of the extension."
   ]
  },
  {
   "cell_type": "code",
   "execution_count": 3,
   "metadata": {},
   "outputs": [],
   "source": [
    "GalK4=K4.automorphisms()"
   ]
  },
  {
   "cell_type": "markdown",
   "metadata": {},
   "source": [
    "Let us give the equation of the cubic $E$. In order to find the flexes we construct its Hessian."
   ]
  },
  {
   "cell_type": "code",
   "execution_count": 4,
   "metadata": {},
   "outputs": [],
   "source": [
    "f=x^2*y+y^2*z+z^2*x"
   ]
  },
  {
   "cell_type": "code",
   "execution_count": 5,
   "metadata": {},
   "outputs": [
    {
     "data": {
      "text/html": [
       "<html>\\[\\newcommand{\\Bold}[1]{\\mathbf{#1}}-x^{3} - y^{3} + 3 x y z - z^{3}\\]</html>"
      ],
      "text/latex": [
       "$$\\newcommand{\\Bold}[1]{\\mathbf{#1}}-x^{3} - y^{3} + 3 x y z - z^{3}$$"
      ],
      "text/plain": [
       "-x^3 - y^3 + 3*x*y*z - z^3"
      ]
     },
     "metadata": {},
     "output_type": "display_data"
    }
   ],
   "source": [
    "hes=Matrix(3,[f.derivative(u,v) for u in R.gens() for v in R.gens()]).det()/8\n",
    "show(hes)"
   ]
  },
  {
   "cell_type": "markdown",
   "metadata": {},
   "source": [
    "We seek for the intersection points of $E$ and its Hessian curve. Because of computational issues, we compute first the ideal over $\\mathbb{Q}$, and find its minimal primes\n",
    "\n",
    "and change again the base field to $K_4$. We look for a factor of degree $1$ which allows to find the first flexes."
   ]
  },
  {
   "cell_type": "code",
   "execution_count": 95,
   "metadata": {},
   "outputs": [
    {
     "data": {
      "text/html": [
       "<html>\\[\\newcommand{\\Bold}[1]{\\mathbf{#1}}\\left[\\left[y^{3} + 3 y^{2} z - z^{3}, x + y + z\\right], \\left[y^{4} - 4 y^{3} z + 3 x y z^{2} + 9 y^{2} z^{2} + 3 x z^{3} - 4 y z^{3} + z^{4}, x y^{2} - y^{3} + x y z + 2 y^{2} z + x z^{2} - y z^{2}, x^{2} - x y + y^{2} - x z - y z + z^{2}\\right]\\right]\\]</html>"
      ],
      "text/latex": [
       "$$\\newcommand{\\Bold}[1]{\\mathbf{#1}}\\left[\\left[y^{3} + 3 y^{2} z - z^{3}, x + y + z\\right], \\left[y^{4} - 4 y^{3} z + 3 x y z^{2} + 9 y^{2} z^{2} + 3 x z^{3} - 4 y z^{3} + z^{4}, x y^{2} - y^{3} + x y z + 2 y^{2} z + x z^{2} - y z^{2}, x^{2} - x y + y^{2} - x z - y z + z^{2}\\right]\\right]$$"
      ],
      "text/plain": [
       "[[y^3 + 3*y^2*z - z^3, x + y + z],\n",
       " [y^4 - 4*y^3*z + 3*x*y*z^2 + 9*y^2*z^2 + 3*x*z^3 - 4*y*z^3 + z^4,\n",
       "  x*y^2 - y^3 + x*y*z + 2*y^2*z + x*z^2 - y*z^2,\n",
       "  x^2 - x*y + y^2 - x*z - y*z + z^2]]"
      ]
     },
     "metadata": {},
     "output_type": "display_data"
    }
   ],
   "source": [
    "Jflex=R.change_ring(QQ).ideal(f,hes)\n",
    "Lflex=Jflex.minimal_associated_primes()\n",
    "L=[list(_.groebner_basis()) for _ in Lflex]\n",
    "show(L)"
   ]
  },
  {
   "cell_type": "markdown",
   "metadata": {},
   "source": [
    "We see that one ideal has a linear factor $q_0$ and the second ideal has a factor of degree $2$ which decomposes as the product of two linear factors, and we pick one of them as $p_0$."
   ]
  },
  {
   "cell_type": "code",
   "execution_count": 97,
   "metadata": {},
   "outputs": [
    {
     "data": {
      "text/plain": [
       "x + y + z"
      ]
     },
     "execution_count": 97,
     "metadata": {},
     "output_type": "execute_result"
    }
   ],
   "source": [
    "L=flatten(L)\n",
    "q0=[a for a in L if a.degree()==1][0].change_ring(K4)\n",
    "q0"
   ]
  },
  {
   "cell_type": "code",
   "execution_count": 103,
   "metadata": {},
   "outputs": [
    {
     "name": "stdout",
     "output_type": "stream",
     "text": [
      "2\n"
     ]
    },
    {
     "data": {
      "text/plain": [
       "x + (-735009/65773*e4^17 + 6144696/65773*e4^16 - 22520658/65773*e4^15 + 496497/901*e4^14 + 23394609/65773*e4^13 - 249882096/65773*e4^12 + 569487789/65773*e4^11 - 579021723/65773*e4^10 - 209602286/65773*e4^9 + 32977140/1241*e4^8 - 3202072236/65773*e4^7 + 3603462690/65773*e4^6 - 2787654327/65773*e4^5 + 1485687789/65773*e4^4 - 515527353/65773*e4^3 + 100486998/65773*e4^2 - 8950383/65773*e4 + 1124477/65773)*y + (735009/65773*e4^17 - 6144696/65773*e4^16 + 22520658/65773*e4^15 - 496497/901*e4^14 - 23394609/65773*e4^13 + 249882096/65773*e4^12 - 569487789/65773*e4^11 + 579021723/65773*e4^10 + 209602286/65773*e4^9 - 32977140/1241*e4^8 + 3202072236/65773*e4^7 - 3603462690/65773*e4^6 + 2787654327/65773*e4^5 - 1485687789/65773*e4^4 + 515527353/65773*e4^3 - 100486998/65773*e4^2 + 8950383/65773*e4 - 1190250/65773)*z"
      ]
     },
     "execution_count": 103,
     "metadata": {},
     "output_type": "execute_result"
    }
   ],
   "source": [
    "p0a=[a for a in L if a.degree()==2][0].change_ring(K4)\n",
    "print(len(p0a.factor()))\n",
    "p0=p0a.factor()[0][0]\n",
    "p0"
   ]
  },
  {
   "cell_type": "markdown",
   "metadata": {},
   "source": [
    "For each one of these linear polynomials we find another lineal polynomials, providing two inflection points. "
   ]
  },
  {
   "cell_type": "code",
   "execution_count": 104,
   "metadata": {},
   "outputs": [
    {
     "name": "stdout",
     "output_type": "stream",
     "text": [
      "y + (-2007469/65773*e4^17 + 16732917/65773*e4^16 - 61194066/65773*e4^15 + 98154640/65773*e4^14 + 64390743/65773*e4^13 - 679364978/65773*e4^12 + 1545049211/65773*e4^11 - 1567231719/65773*e4^10 - 575728958/65773*e4^9 + 89582782/1241*e4^8 - 8687372163/65773*e4^7 + 9768656099/65773*e4^6 - 7551011501/65773*e4^5 + 236412567/3869*e4^4 - 1390557478/65773*e4^3 + 268479332/65773*e4^2 - 23174676/65773*e4 + 179308/3869)*z\n",
      "y + (-71/1241*e4^17 + 522/1241*e4^16 - 1694/1241*e4^15 + 1775/1241*e4^14 + 5103/1241*e4^13 - 22371/1241*e4^12 + 33763/1241*e4^11 - 7044/1241*e4^10 - 64322/1241*e4^9 + 130573/1241*e4^8 - 136263/1241*e4^7 + 87761/1241*e4^6 - 43504/1241*e4^5 + 33588/1241*e4^4 - 33772/1241*e4^3 + 17014/1241*e4^2 - 795/1241*e4 - 399/1241)*z\n"
     ]
    }
   ],
   "source": [
    "GBp=R.ideal([f,hes,p0]).groebner_basis()\n",
    "GBq=R.ideal([f,hes,q0]).groebner_basis()\n",
    "p1=GBp[0].factor()[0][0]\n",
    "print(p1)\n",
    "q1=GBq[0].factor()[0][0]\n",
    "print(q1)"
   ]
  },
  {
   "cell_type": "markdown",
   "metadata": {},
   "source": [
    "Using the Galois group we find all the flexes."
   ]
  },
  {
   "cell_type": "code",
   "execution_count": 114,
   "metadata": {},
   "outputs": [
    {
     "data": {
      "text/plain": [
       "9"
      ]
     },
     "execution_count": 114,
     "metadata": {},
     "output_type": "execute_result"
    }
   ],
   "source": [
    "GBq1=R.ideal([q0,q1]).groebner_basis()\n",
    "Q0=vector([_.reduce(GBq1+[z-1]).change_ring(K4) for _ in (x,y,z)])\n",
    "PI=[]\n",
    "for hm in GalK4:\n",
    "    V=vector([hm(_) for _ in Q0])\n",
    "    if V not in PI:\n",
    "        PI.append(V)\n",
    "GBp1=R.ideal([p0,p1]).groebner_basis()\n",
    "P0=vector([_.reduce(GBp1+[z-1]).change_ring(K4) for _ in (x,y,z)])\n",
    "for hm in GalK4:\n",
    "    V=vector([hm(_) for _ in P0])\n",
    "    if V not in PI:\n",
    "        PI.append(V)\n",
    "len(PI)"
   ]
  },
  {
   "cell_type": "markdown",
   "metadata": {},
   "source": [
    "In order to normalize homogeneous coordinates, we put $1$ the last non-zero coordinate. This makes easier to check it two vectors define the same point in $\\mathbb{P}^2$. We set also the equation of the polar line with respect to a point (the tangent line if the point is in $E$). We check that the points in `PI` are flexes."
   ]
  },
  {
   "cell_type": "code",
   "execution_count": 115,
   "metadata": {},
   "outputs": [],
   "source": [
    "def normaliza(V):\n",
    "    if V[2]!=0:\n",
    "        return V/V[2]\n",
    "    elif V[1]!=0:\n",
    "        return V/V[1]\n",
    "    else:\n",
    "        return V/V[0]\n",
    "def polar(V):\n",
    "    return(vector(f.gradient())(*V)*vector([x,y,z]))"
   ]
  },
  {
   "cell_type": "code",
   "execution_count": 116,
   "metadata": {},
   "outputs": [
    {
     "data": {
      "text/plain": [
       "True"
      ]
     },
     "execution_count": 116,
     "metadata": {},
     "output_type": "execute_result"
    }
   ],
   "source": [
    "[polar(j).resultant(f).factor()[0][1] for j in PI]==9*[3]"
   ]
  },
  {
   "cell_type": "markdown",
   "metadata": {},
   "source": [
    "The next function constructs, given $P_1,P_2\\in E$, the *third* point of the line $\\overline{P_1P_2}$ in $E$. We recheck that the points in PI are flexes."
   ]
  },
  {
   "cell_type": "code",
   "execution_count": 117,
   "metadata": {},
   "outputs": [],
   "source": [
    "def tercerpunto(P1,P2,cuerpo=K4):\n",
    "    Ra=R.change_ring(cuerpo)\n",
    "    Q=P1.cross_product(P2)\n",
    "    if Q==0:\n",
    "        Q=vector(f.gradient())(*P1)\n",
    "    a,b,c=Q\n",
    "    if c!=0:\n",
    "        a,b=[a/c,b/c]\n",
    "        ff=Ra(f(z=-a*x-b*y)/(x*P1[1]-y*P1[0])/(x*P2[1]-y*P2[0]))\n",
    "        u,v=[-ff.coefficient({y:1}),ff.coefficient({x:1})]\n",
    "        V=vector([u,v,-a*u-b*v])\n",
    "    elif b!=0:\n",
    "        a=a/b\n",
    "        ff=Ra(f(y=-a*x)/(x*P1[2]-z*P1[0])/(x*P2[2]-z*P2[0]))\n",
    "        u,v=[-ff.coefficient({z:1}),ff.coefficient({x:1})]\n",
    "        V=vector([u,-a*u,v])\n",
    "    elif a!=0:\n",
    "        ff=Ra(f(x=0)/(z*P1[1]-y*P1[2])/(z*P2[1]-y*P2[2]))\n",
    "        V=vector([0,-ff.coefficient({z:1}),ff.coefficient({y:1})])\n",
    "    else:\n",
    "        print(\"Resultado nulo\")\n",
    "        return (None)\n",
    "    return (normaliza(V))"
   ]
  },
  {
   "cell_type": "code",
   "execution_count": 118,
   "metadata": {},
   "outputs": [
    {
     "data": {
      "text/plain": [
       "True"
      ]
     },
     "execution_count": 118,
     "metadata": {},
     "output_type": "execute_result"
    }
   ],
   "source": [
    "flex=True\n",
    "for P in PI:\n",
    "    flex=flex and tercerpunto(P,P)==P\n",
    "flex"
   ]
  },
  {
   "cell_type": "markdown",
   "metadata": {},
   "source": [
    "We fix the point `PI[0]`$:=O$ as the zero element in the law group structure of $E$. We define three functions for this law group: $P\\mapsto \\langle-1\\rangle P$ (`opuesto`), $(P,Q)\\mapsto P\\dot{+}Q$ (`suma`), and $(n,P)\\mapsto\\langle n\\rangle P$ (`multiplo`)."
   ]
  },
  {
   "cell_type": "code",
   "execution_count": 119,
   "metadata": {},
   "outputs": [],
   "source": [
    "def opuesto(Q1,cuerpo=K4):\n",
    "    return tercerpunto(PI[0],Q1,cuerpo=cuerpo)"
   ]
  },
  {
   "cell_type": "code",
   "execution_count": 120,
   "metadata": {},
   "outputs": [],
   "source": [
    "def suma(Q1,Q2,cuerpo=K4):\n",
    "    tercer=tercerpunto(Q1,Q2,cuerpo=cuerpo)\n",
    "    return opuesto(tercer,cuerpo=cuerpo)"
   ]
  },
  {
   "cell_type": "code",
   "execution_count": 121,
   "metadata": {},
   "outputs": [],
   "source": [
    "def multiplo(P,n,cuerpo=K4):\n",
    "    if n==0:\n",
    "        return PI[0]\n",
    "    if n>0:\n",
    "        Q=normaliza(P)\n",
    "        for j in range(n-1):\n",
    "            Q=suma(P,Q,cuerpo=cuerpo)\n",
    "        return Q\n",
    "    return multiplo(opuesto(P,cuerpo=cuerpo),-n,cuerpo=cuerpo)"
   ]
  },
  {
   "cell_type": "markdown",
   "metadata": {},
   "source": [
    "Let us check how the map $P\\mapsto \\langle-1\\rangle P$ holds in the set of flexes."
   ]
  },
  {
   "cell_type": "code",
   "execution_count": 122,
   "metadata": {},
   "outputs": [
    {
     "name": "stdout",
     "output_type": "stream",
     "text": [
      "0 -> 0\n",
      "1 -> 2\n",
      "3 -> 4\n",
      "5 -> 6\n",
      "7 -> 8\n"
     ]
    }
   ],
   "source": [
    "opuestos=[]\n",
    "for j in range(9):\n",
    "    P=PI[j]\n",
    "    k=PI.index(opuesto(P))\n",
    "    if j not in opuestos:\n",
    "        print (j,'->',k)\n",
    "        opuestos.append(k)"
   ]
  },
  {
   "cell_type": "markdown",
   "metadata": {},
   "source": [
    "Let us pick up the first triangle $\\mathcal{L}_1$. Its associated flex is `PI[1]`. Its equation is given."
   ]
  },
  {
   "cell_type": "code",
   "execution_count": 123,
   "metadata": {},
   "outputs": [
    {
     "data": {
      "text/plain": [
       "True"
      ]
     },
     "execution_count": 123,
     "metadata": {},
     "output_type": "execute_result"
    }
   ],
   "source": [
    "P1=vector([1,0,0])\n",
    "P2=vector([0,1,0])\n",
    "P3=vector([0,0,1])\n",
    "triangulo1=[P1,P2,P3]\n",
    "multiplo(P1,-2)==P3 and multiplo(P3,-2)==P2"
   ]
  },
  {
   "cell_type": "code",
   "execution_count": 124,
   "metadata": {},
   "outputs": [
    {
     "data": {
      "text/plain": [
       "True"
      ]
     },
     "execution_count": 124,
     "metadata": {},
     "output_type": "execute_result"
    }
   ],
   "source": [
    "multiplo(P1,3)==multiplo(P2,3)==multiplo(P3,3)==suma(P1,suma(P2,P3))==PI[1]"
   ]
  },
  {
   "cell_type": "code",
   "execution_count": 125,
   "metadata": {},
   "outputs": [
    {
     "data": {
      "text/plain": [
       "x*y*z"
      ]
     },
     "execution_count": 125,
     "metadata": {},
     "output_type": "execute_result"
    }
   ],
   "source": [
    "T1=prod(polar(_) for _ in triangulo1)\n",
    "T1"
   ]
  },
  {
   "cell_type": "markdown",
   "metadata": {},
   "source": [
    "We define a second triangle $\\mathcal{L}'_1$ by choosing as $9$-torsion point `P1`$\\dot+$`PI[6]`. "
   ]
  },
  {
   "cell_type": "code",
   "execution_count": 126,
   "metadata": {},
   "outputs": [
    {
     "data": {
      "text/html": [
       "<html>\\[\\newcommand{\\Bold}[1]{\\mathbf{#1}}\\mathrm{True}\\]</html>"
      ],
      "text/latex": [
       "$$\\newcommand{\\Bold}[1]{\\mathbf{#1}}\\mathrm{True}$$"
      ],
      "text/plain": [
       "True"
      ]
     },
     "metadata": {},
     "output_type": "display_data"
    },
    {
     "data": {
      "text/plain": [
       "[x - 1, x - 1, x^2 - 3*x + 9, x - 1]"
      ]
     },
     "execution_count": 126,
     "metadata": {},
     "output_type": "execute_result"
    }
   ],
   "source": [
    "triangulo2=[suma(P1,PI[6])]\n",
    "triangulo2+=[multiplo(triangulo2[-1],-2)]\n",
    "triangulo2+=[multiplo(triangulo2[-1],-2)]\n",
    "show(multiplo(triangulo2[0],3)==PI[1])\n",
    "T2=prod(polar(_) for _ in triangulo2)\n",
    "T2=T2/T2.monomial_coefficient(z^3)\n",
    "[_.minpoly() for _ in T2.coefficients()]"
   ]
  },
  {
   "cell_type": "markdown",
   "metadata": {},
   "source": [
    "We have constructed the the equation of this second triangle. Its coefficients live in a smaller field. Let us find it. The coefficient of $x y z$ is not in $\\mathbb{Q}$ (the only one). So we consider the subfield $L_2$ generated by this coefficient; $h_2$ is the inclusion."
   ]
  },
  {
   "cell_type": "code",
   "execution_count": 127,
   "metadata": {},
   "outputs": [
    {
     "data": {
      "text/plain": [
       "x^3 + y^3 + (-2205027/65773*e4^17 + 18434088/65773*e4^16 - 67561974/65773*e4^15 + 1489491/901*e4^14 + 70183827/65773*e4^13 - 749646288/65773*e4^12 + 1708463367/65773*e4^11 - 1737065169/65773*e4^10 - 628806858/65773*e4^9 + 98931420/1241*e4^8 - 9606216708/65773*e4^7 + 10810388070/65773*e4^6 - 8362962981/65773*e4^5 + 4457063367/65773*e4^4 - 1546582059/65773*e4^3 + 301460994/65773*e4^2 - 26851149/65773*e4 + 3570750/65773)*x*y*z + z^3"
      ]
     },
     "execution_count": 127,
     "metadata": {},
     "output_type": "execute_result"
    }
   ],
   "source": [
    "T2"
   ]
  },
  {
   "cell_type": "code",
   "execution_count": 128,
   "metadata": {},
   "outputs": [],
   "source": [
    "L2.<u2>,h2=K4.subfield(T2.coefficient(x*y*z))"
   ]
  },
  {
   "cell_type": "code",
   "execution_count": 129,
   "metadata": {},
   "outputs": [
    {
     "data": {
      "text/plain": [
       "x^3 + y^3 + u2*x*y*z + z^3"
      ]
     },
     "execution_count": 129,
     "metadata": {},
     "output_type": "execute_result"
    }
   ],
   "source": [
    "T2.change_ring(L2)"
   ]
  },
  {
   "cell_type": "markdown",
   "metadata": {},
   "source": [
    "This is the curve studied in the worksheet `CubicTriangle1`. The two triangles have the same associated flex. We consider now a new triangle $\\mathcal{L}_2$. This is the case studied in `CubicTriangle2`."
   ]
  },
  {
   "cell_type": "code",
   "execution_count": 130,
   "metadata": {},
   "outputs": [
    {
     "name": "stdout",
     "output_type": "stream",
     "text": [
      "[True, True, True]\n"
     ]
    },
    {
     "data": {
      "text/plain": [
       "[x - 1, x + 3, x - 1, x + 3, x + 3, x + 3, x - 1]"
      ]
     },
     "execution_count": 130,
     "metadata": {},
     "output_type": "execute_result"
    }
   ],
   "source": [
    "triangulo3=[multiplo(P1,2)]\n",
    "triangulo3+=[multiplo(triangulo3[-1],-2)]\n",
    "triangulo3+=[multiplo(triangulo3[-1],-2)]\n",
    "print([multiplo(_,3)==multiplo(PI[1],2) for _ in triangulo3])\n",
    "T3=prod(polar(_) for _ in triangulo3)\n",
    "T3=T3/T3.monomial_coefficient(z^3)\n",
    "[_.minpoly() for _ in T3.coefficients()]"
   ]
  },
  {
   "cell_type": "code",
   "execution_count": 131,
   "metadata": {},
   "outputs": [
    {
     "data": {
      "text/plain": [
       "x^3 - 3*x*y^2 + y^3 - 3*x^2*z - 3*x*y*z - 3*y*z^2 + z^3"
      ]
     },
     "execution_count": 131,
     "metadata": {},
     "output_type": "execute_result"
    }
   ],
   "source": [
    "T3"
   ]
  },
  {
   "cell_type": "markdown",
   "metadata": {},
   "source": [
    "The other relevant elements of the $9$-torsion are more complicated. Let us explain the function `conica`. We look for a conic $C$ such that $(C\\cdot E)_0=2$, $(C\\dot E)_Q=1$ ($Q$ is a flex distinct to $O$) and there is another point $R$ such that $(C\\cdot E)_R=6$; $R$ is a point of order $9$ since $Q\\dot+\\langle 3\\rangle R=O$. We can describe the conic $C$ via a vector parametrization\n",
    "$$\n",
    "t\\mapsto Q_2 t^2 + Q_1 t + Q_0.\n",
    "$$\n",
    "We want the image of $t=\\infty$ to be $Q$, i.e $Q=Q_2$. We want the image for $t=0$ to be $O$, i.e., $Q_0$ equals a multiple of $O$. We want also the conic to have contact order $2$ at $O$ with the tangent line to $E$ at $O$. The Plücker coordinates of this line are obtained evaluating the gradient vector of $f$ at $O$. \n",
    "The evaluation of the equation of the line at the parametrization is the scalar product of this gradient with the parametrization. Since we want this evaluation to be a multiple of $t^2$, $Q_1$ must be orthogonal to the gradient, i.e., a linear combination of $O$ and the cross product of $O$ and the gradient.\n",
    "The parametrization has three indeterminates. We want $R$ to be the value $t=1$. This produces an ideal of the rings of indeterminates, and its Gröbner basis is the output."
   ]
  },
  {
   "cell_type": "code",
   "execution_count": 132,
   "metadata": {},
   "outputs": [],
   "source": [
    "T10=PI[0].cross_product(vector(f.gradient())(*PI[0]))\n",
    "T10=T10/gcd(T10)"
   ]
  },
  {
   "cell_type": "code",
   "execution_count": 133,
   "metadata": {},
   "outputs": [],
   "source": [
    "S.<alpha1,alpha2,alpha3,t>=PolynomialRing(K4,order='lex')\n",
    "def conica(Q):\n",
    "    T1=PI[0].cross_product(vector(f.gradient())(*PI[0]))\n",
    "    T1=(T1/gcd(T1)).change_ring(S)\n",
    "    Q=Q.change_ring(S)\n",
    "    P=PI[0].change_ring(S)\n",
    "    V=Q*t^2+t*(alpha1*P+alpha2*T1)+alpha3*P\n",
    "    f0=f(*V)\n",
    "    f0=S(f0/t^2)\n",
    "    g0=f0-f0.coefficient({t:3})*(t-1)^3\n",
    "    J=S.ideal([g0.coefficient({t:j}) for j in [0,1,2]])\n",
    "    return J.groebner_basis()"
   ]
  },
  {
   "cell_type": "markdown",
   "metadata": {},
   "source": [
    "There must be three solutions for $R$, and they are conjugate in the number field. Step by step, we find the solutions to produce the solution $V$."
   ]
  },
  {
   "cell_type": "code",
   "execution_count": 134,
   "metadata": {},
   "outputs": [],
   "source": [
    "G=conica(PI[6])\n",
    "beta1=alpha1.reduce(G)\n",
    "G1=[_(alpha1=beta1) for _ in G]\n",
    "G1=S.ideal(G1).groebner_basis()\n",
    "G1=[G1[0]]+[S(_/alpha3) for _ in G1[1:]]\n",
    "G1=S.ideal(G1).groebner_basis()\n",
    "beta2=alpha2.reduce(G1)\n",
    "G2=[_(alpha2=beta2) for _ in G1]\n",
    "G2=S.ideal(G2).groebner_basis()\n",
    "#R5.<t5>=K4[]\n",
    "#p=G2[0](alpha3=t5)\n",
    "#p2=p.factor()[0][0]\n",
    "#p2\n",
    "G3=[G2[0].factor()[0][0]]\n",
    "beta3=alpha3.reduce(G3)\n",
    "beta2=beta2(alpha3=beta3)\n",
    "beta1=beta1(alpha2=beta2,alpha3=beta3)\n",
    "V=PI[6]+K4(beta1)*PI[0]+K4(beta2)*T10+K4(beta3)*PI[0]\n",
    "V=V.change_ring(K4)\n",
    "V=V/V[2]"
   ]
  },
  {
   "cell_type": "code",
   "execution_count": 141,
   "metadata": {},
   "outputs": [
    {
     "data": {
      "text/plain": [
       "True"
      ]
     },
     "execution_count": 141,
     "metadata": {},
     "output_type": "execute_result"
    }
   ],
   "source": [
    "multiplo(V,3)==PI[5]"
   ]
  },
  {
   "cell_type": "markdown",
   "metadata": {},
   "source": [
    "We construct a triangle $\\mathcal{L}_3$ and we produce an equation in a number field of degree $6$."
   ]
  },
  {
   "cell_type": "code",
   "execution_count": 142,
   "metadata": {},
   "outputs": [
    {
     "data": {
      "text/plain": [
       "[x^6 + 84*x^5 + 2193*x^4 - 236*x^3 - 75*x^2 + 3*x + 1,\n",
       " x^6 + 117*x^5 + 4167*x^4 - 6048*x^3 - 2079*x^2 + 3240*x + 1161,\n",
       " x^6 + 81*x^5 + 2358*x^4 + 19845*x^3 + 47169*x^2 - 19926*x + 1971,\n",
       " x^6 + 3*x^5 - 75*x^4 - 236*x^3 + 2193*x^2 + 84*x + 1,\n",
       " x^6 - 90*x^5 + 2628*x^4 - 9396*x^3 + 13230*x^2 - 8343*x + 1971,\n",
       " x^6 - 81*x^5 + 1458*x^4 + 38637*x^3 + 216513*x^2 + 354294*x + 177147,\n",
       " x^6 - 54*x^5 + 1143*x^4 - 10260*x^3 + 34047*x^2 - 12150*x + 1161,\n",
       " x^6 + 18*x^5 + 117*x^4 + 108*x^3 - 621*x^2 - 567*x + 1161,\n",
       " x^6 + 9*x^5 - 45*x^4 - 486*x^3 + 1080*x^2 + 3483*x + 1971,\n",
       " x - 1]"
      ]
     },
     "execution_count": 142,
     "metadata": {},
     "output_type": "execute_result"
    }
   ],
   "source": [
    "triangulo4=[V]\n",
    "triangulo4+=[multiplo(triangulo4[-1],-2)]\n",
    "triangulo4+=[multiplo(triangulo4[-1],-2)]\n",
    "T4=prod(polar(_) for _ in triangulo4)\n",
    "T4=T4/T4.monomial_coefficient(z^3)\n",
    "[_.minpoly() for _ in T4.coefficients()]"
   ]
  },
  {
   "cell_type": "code",
   "execution_count": 143,
   "metadata": {},
   "outputs": [
    {
     "data": {
      "text/plain": [
       "u0*x^3 + (4399/51219*u0^5 + 369490/51219*u0^4 + 9644752/51219*u0^3 - 157303/7317*u0^2 - 406624/51219*u0 + 30932/51219)*x^2*y + (-4399/17073*u0^5 - 369490/17073*u0^4 - 9644752/17073*u0^3 + 157303/2439*u0^2 + 491989/17073*u0 - 65078/17073)*x*y^2 + (4399/17073*u0^5 + 369490/17073*u0^4 + 9644752/17073*u0^3 - 157303/2439*u0^2 - 474916/17073*u0 + 65078/17073)*y^3 + (-u0 + 1)*x^2*z + (-4399/17073*u0^5 - 369490/17073*u0^4 - 9644752/17073*u0^3 + 157303/2439*u0^2 + 457843/17073*u0 - 82151/17073)*x*y*z + (17596/51219*u0^5 + 1477960/51219*u0^4 + 38579008/51219*u0^3 - 629212/7317*u0^2 - 1933810/51219*u0 + 277385/51219)*y^2*z + (-8798/51219*u0^5 - 738980/51219*u0^4 - 19289504/51219*u0^3 + 314606/7317*u0^2 + 966905/51219*u0 - 61864/51219)*x*z^2 + (4399/17073*u0^5 + 369490/17073*u0^4 + 9644752/17073*u0^3 - 157303/2439*u0^2 - 474916/17073*u0 + 48005/17073)*y*z^2 + z^3"
      ]
     },
     "execution_count": 143,
     "metadata": {},
     "output_type": "execute_result"
    }
   ],
   "source": [
    "rr=e4.minpoly().roots(QQbar)[0][0]\n",
    "K5.<e5>=NumberField(e4.minpoly(),embedding=rr)\n",
    "hm=K4.hom([e5],K5)\n",
    "R5=R.change_ring(K5)\n",
    "#T4a=vector([hm(_) for _ in T4.coefficients()])*vector([R5(_) for _ in T4.monomials()])\n",
    "L0.<u0>,h0=K4.subfield(T4.coefficients()[0])\n",
    "T4a=T4.change_ring(L0)\n",
    "T4a"
   ]
  },
  {
   "cell_type": "markdown",
   "metadata": {},
   "source": [
    "This is the equation used for the computations of the abelian group. These computations allow to recover the whole $9$-torsion of $E$."
   ]
  },
  {
   "cell_type": "code",
   "execution_count": null,
   "metadata": {},
   "outputs": [],
   "source": []
  },
  {
   "cell_type": "code",
   "execution_count": null,
   "metadata": {},
   "outputs": [],
   "source": []
  },
  {
   "cell_type": "code",
   "execution_count": null,
   "metadata": {},
   "outputs": [],
   "source": []
  },
  {
   "cell_type": "code",
   "execution_count": null,
   "metadata": {},
   "outputs": [],
   "source": []
  }
 ],
 "metadata": {
  "kernelspec": {
   "display_name": "SageMath 9.5.beta7",
   "language": "sage",
   "name": "sagemath-dev"
  },
  "language_info": {
   "codemirror_mode": {
    "name": "ipython",
    "version": 3
   },
   "file_extension": ".py",
   "mimetype": "text/x-python",
   "name": "python",
   "nbconvert_exporter": "python",
   "pygments_lexer": "ipython3",
   "version": "3.10.0"
  }
 },
 "nbformat": 4,
 "nbformat_minor": 4
}
