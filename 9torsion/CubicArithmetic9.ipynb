{
 "cells": [
  {
   "cell_type": "markdown",
   "metadata": {},
   "source": [
    "In this notebook we study part of the group structure of the smooth plane cubic $E$ with equation $x^2 y+y^2 z+z^2 x=0$. We will compute later the inflection points and one of them will be chosen as zero element. The choice of this curve comes from the following fact: the points $[1:0:0]$, $[0:1:0]$, and $[0:0:1]$ are points of $9$-torsion, for any choice of zero element among the flexes. In the next cell we construct a number field $K_4$ where all the points of $E[9]$ have coordinates in this field.\n",
    "\n",
    "This number field is constructed using a tower of extensions; a primitive element of $K_4$ is an element $e_4$, whose minimal polynomial is of degree $18$. Primitive elements of the intermediate extensions are also expressed in the field $K_4$. The documentation for this construction can be found in `Sagemath` help pages."
   ]
  },
  {
   "cell_type": "code",
   "execution_count": 1,
   "metadata": {},
   "outputs": [
    {
     "data": {
      "text/plain": [
       "x^18 - 9*x^17 + 36*x^16 - 69*x^15 + 360*x^13 - 993*x^12 + 1287*x^11 - 225*x^10 - 2557*x^9 + 5886*x^8 - 7713*x^7 + 6960*x^6 - 4473*x^5 + 2007*x^4 - 588*x^3 + 99*x^2 - 9*x + 1"
      ]
     },
     "execution_count": 1,
     "metadata": {},
     "output_type": "execute_result"
    }
   ],
   "source": [
    "R0.<t0>=QQ[]\n",
    "p0=t0^3 + 3*t0^2 - 1\n",
    "K0.<a0>=NumberField(p0)\n",
    "R1.<t1>=K0[]\n",
    "p1=t1^2+t1+1\n",
    "K1.<b1>=NumberField(p1)\n",
    "a1=K1(a0)\n",
    "K2.<c2>=K1.absolute_field()\n",
    "a2=K2(a1)\n",
    "b2=K2(b1)\n",
    "R2.<t2>=K2[]\n",
    "p2=t2^3 + (-3/19*c2^5 + 13/19*c2^4 - 11/19*c2^3 - 7/19*c2^2 - 24/19*c2 - 6/19)*t2^2 + (-1/3*c2^4 + c2^3 - c2^2 + c2)*t2 + 8/57*c2^5 - 1/19*c2^4 - 5/19*c2^3 + 2/19*c2^2 - 4/19*c2 - 1/19\n",
    "K3.<d3>=NumberField(p2)\n",
    "a3=K3(a2)\n",
    "b3=K3(b2)\n",
    "c3=K3(c2)\n",
    "K4.<e4>=K3.absolute_field()\n",
    "a4=K4(a3)\n",
    "b4=K4(b3)\n",
    "c4=K4(c3)\n",
    "d4=K4(d3)\n",
    "R.<x,y,z>=K4[]\n",
    "e4.minpoly()"
   ]
  },
  {
   "cell_type": "markdown",
   "metadata": {},
   "source": [
    "The field $K_3$ (tower of extensions) is isomorphic to $K_4$: this is the expression of the primitive element $e_4$ in $K_3$."
   ]
  },
  {
   "cell_type": "code",
   "execution_count": 2,
   "metadata": {},
   "outputs": [
    {
     "data": {
      "text/plain": [
       "(-1/38*c2^5 - 28/171*c2^4 + 14/19*c2^3 + 2/19*c2^2 - 157/114*c2 - 97/38)*d3^2 + (101/342*c2^5 - 311/342*c2^4 - 37/114*c2^3 + 110/57*c2^2 + 160/57*c2 - 31/19)*d3 - 14/171*c2^5 + 29/171*c2^4 + 23/57*c2^3 - 83/114*c2^2 - 50/57*c2 - 1/19"
      ]
     },
     "execution_count": 2,
     "metadata": {},
     "output_type": "execute_result"
    }
   ],
   "source": [
    "K3(e4)"
   ]
  },
  {
   "cell_type": "markdown",
   "metadata": {},
   "source": [
    "For further use we define the Galois group of the extension."
   ]
  },
  {
   "cell_type": "code",
   "execution_count": 3,
   "metadata": {},
   "outputs": [],
   "source": [
    "GalK4=K4.automorphisms()"
   ]
  },
  {
   "cell_type": "markdown",
   "metadata": {},
   "source": [
    "Let us give the equation of the cubic $E$. In order to find the flexes we construct its Hessian."
   ]
  },
  {
   "cell_type": "code",
   "execution_count": 4,
   "metadata": {},
   "outputs": [],
   "source": [
    "f=x^2*y+y^2*z+z^2*x"
   ]
  },
  {
   "cell_type": "code",
   "execution_count": 5,
   "metadata": {},
   "outputs": [],
   "source": [
    "hes=Matrix(3,[f.derivative(u,v) for u in R.gens() for v in R.gens()]).det()"
   ]
  },
  {
   "cell_type": "markdown",
   "metadata": {},
   "source": [
    "We seek for the intersection points of $E$ and its Hessian curve. Because of computational issues, we compute first the ideal over $\\mathbb{Q}$, find its minimal primes and change again the base field to $K_4$."
   ]
  },
  {
   "cell_type": "code",
   "execution_count": 6,
   "metadata": {},
   "outputs": [
    {
     "data": {
      "text/plain": [
       "2"
      ]
     },
     "execution_count": 6,
     "metadata": {},
     "output_type": "execute_result"
    }
   ],
   "source": [
    "Jflex=R.change_ring(QQ).ideal(f,hes)\n",
    "Lflex=Jflex.minimal_associated_primes()\n",
    "LFlex2=[_.change_ring(R) for _ in Lflex]\n",
    "len(LFlex2)"
   ]
  },
  {
   "cell_type": "markdown",
   "metadata": {},
   "source": [
    "Let us start with the first prime ideal. We compute its groebner basis and extract some useful elements."
   ]
  },
  {
   "cell_type": "code",
   "execution_count": 7,
   "metadata": {},
   "outputs": [
    {
     "data": {
      "text/plain": [
       "x + (735009/65773*e4^17 - 6144696/65773*e4^16 + 22520658/65773*e4^15 - 496497/901*e4^14 - 23394609/65773*e4^13 + 249882096/65773*e4^12 - 569487789/65773*e4^11 + 579021723/65773*e4^10 + 209602286/65773*e4^9 - 32977140/1241*e4^8 + 3202072236/65773*e4^7 - 3603462690/65773*e4^6 + 2787654327/65773*e4^5 - 1485687789/65773*e4^4 + 515527353/65773*e4^3 - 100486998/65773*e4^2 + 8950383/65773*e4 - 1190250/65773)*y + (-735009/65773*e4^17 + 6144696/65773*e4^16 - 22520658/65773*e4^15 + 496497/901*e4^14 + 23394609/65773*e4^13 - 249882096/65773*e4^12 + 569487789/65773*e4^11 - 579021723/65773*e4^10 - 209602286/65773*e4^9 + 32977140/1241*e4^8 - 3202072236/65773*e4^7 + 3603462690/65773*e4^6 - 2787654327/65773*e4^5 + 1485687789/65773*e4^4 - 515527353/65773*e4^3 + 100486998/65773*e4^2 - 8950383/65773*e4 + 1124477/65773)*z"
      ]
     },
     "execution_count": 7,
     "metadata": {},
     "output_type": "execute_result"
    }
   ],
   "source": [
    "GB0=LFlex2[0].groebner_basis()\n",
    "aux0=GB0[2].factor()[0][0]\n",
    "aux0"
   ]
  },
  {
   "cell_type": "code",
   "execution_count": 8,
   "metadata": {},
   "outputs": [
    {
     "data": {
      "text/plain": [
       "y + (-375145/65773*e4^17 + 3097980/65773*e4^16 - 11238044/65773*e4^15 + 17783365/65773*e4^14 + 12461751/65773*e4^13 - 125085775/65773*e4^12 + 16582759/3869*e4^11 - 282867030/65773*e4^10 - 111057570/65773*e4^9 + 16444552/1241*e4^8 - 1584777678/65773*e4^7 + 1774356237/65773*e4^6 - 1364455076/65773*e4^5 + 719629101/65773*e4^4 - 243700647/65773*e4^3 + 2582011/3869*e4^2 - 2656632/65773*e4 + 377233/65773)*z"
      ]
     },
     "execution_count": 8,
     "metadata": {},
     "output_type": "execute_result"
    }
   ],
   "source": [
    "GB1=R.ideal(GB0+[aux0]).groebner_basis()\n",
    "aux1=GB1[0].factor()[0][0]\n",
    "aux1"
   ]
  },
  {
   "cell_type": "markdown",
   "metadata": {},
   "source": [
    "These two polynomials allow to find a solution. The action of the Galois group yield more solutions, up to $6$."
   ]
  },
  {
   "cell_type": "code",
   "execution_count": 9,
   "metadata": {},
   "outputs": [
    {
     "data": {
      "text/plain": [
       "6"
      ]
     },
     "execution_count": 9,
     "metadata": {},
     "output_type": "execute_result"
    }
   ],
   "source": [
    "GB2=R.ideal(GB0+[aux0,aux1]).groebner_basis()\n",
    "Pi1=[vector([_.reduce(GB2+[z-1]) for _ in (x,y,z)])]\n",
    "for hm in GalK4:\n",
    "    V=vector([hm(_) for _ in Pi1[0]])\n",
    "    if V not in Pi1:\n",
    "        Pi1.append(V)\n",
    "len(Pi1)"
   ]
  },
  {
   "cell_type": "markdown",
   "metadata": {},
   "source": [
    "The other three flexes come from the other prime ideal. Because of the action of the Galois group, we consider only one of the below prime ideals. The action of the Galois group provides the rest of the flexes."
   ]
  },
  {
   "cell_type": "code",
   "execution_count": 10,
   "metadata": {},
   "outputs": [
    {
     "data": {
      "text/plain": [
       "3"
      ]
     },
     "execution_count": 10,
     "metadata": {},
     "output_type": "execute_result"
    }
   ],
   "source": [
    "Lflex21=[_.groebner_basis() for _ in LFlex2[1].minimal_associated_primes()]\n",
    "len(Lflex21)"
   ]
  },
  {
   "cell_type": "code",
   "execution_count": 11,
   "metadata": {},
   "outputs": [
    {
     "data": {
      "text/plain": [
       "3"
      ]
     },
     "execution_count": 11,
     "metadata": {},
     "output_type": "execute_result"
    }
   ],
   "source": [
    "Pi2=[vector([a.reduce(Lflex21[0]+[z-1]) for a in (x,y)]+[1])]\n",
    "for hm in GalK4:\n",
    "    V=vector([hm(_) for _ in Pi2[0]])\n",
    "    if V not in Pi2:\n",
    "        Pi2.append(V)\n",
    "len(Pi2)"
   ]
  },
  {
   "cell_type": "code",
   "execution_count": 12,
   "metadata": {},
   "outputs": [
    {
     "data": {
      "text/plain": [
       "9"
      ]
     },
     "execution_count": 12,
     "metadata": {},
     "output_type": "execute_result"
    }
   ],
   "source": [
    "PI=Pi2+Pi1\n",
    "len(Set([tuple(_) for _ in PI]))"
   ]
  },
  {
   "cell_type": "markdown",
   "metadata": {},
   "source": [
    "In order to normalize homogeneous coordinates, we put $1$ the last non-zero coordinate. This makes easier to check it two vectors define the same point in $\\mathbb{P}^2$. We set also the equation of the polar line with respect to a point (the tangent line if the point is in $E$). We check that the points in `PI` are flexes."
   ]
  },
  {
   "cell_type": "code",
   "execution_count": 13,
   "metadata": {},
   "outputs": [],
   "source": [
    "def normaliza(V):\n",
    "    if V[2]!=0:\n",
    "        return V/V[2]\n",
    "    elif V[1]!=0:\n",
    "        return V/V[1]\n",
    "    else:\n",
    "        return V/V[0]\n",
    "def polar(V):\n",
    "    return(vector(f.gradient())(*V)*vector([x,y,z]))"
   ]
  },
  {
   "cell_type": "code",
   "execution_count": 14,
   "metadata": {},
   "outputs": [
    {
     "data": {
      "text/plain": [
       "True"
      ]
     },
     "execution_count": 14,
     "metadata": {},
     "output_type": "execute_result"
    }
   ],
   "source": [
    "[polar(j).resultant(f).factor()[0][1] for j in PI]==9*[3]"
   ]
  },
  {
   "cell_type": "markdown",
   "metadata": {},
   "source": [
    "The next function constructs, given $P_1,P_2\\in E$, the *third* point of the line $\\overline{P_1P_2}$ in $E$. We recheck that the points in PI are flexes."
   ]
  },
  {
   "cell_type": "code",
   "execution_count": 15,
   "metadata": {},
   "outputs": [],
   "source": [
    "def tercerpunto(P1,P2,cuerpo=K4):\n",
    "    Ra=R.change_ring(cuerpo)\n",
    "    Q=P1.cross_product(P2)\n",
    "    if Q==0:\n",
    "        Q=vector(f.gradient())(*P1)\n",
    "    a,b,c=Q\n",
    "    if c!=0:\n",
    "        a,b=[a/c,b/c]\n",
    "        ff=Ra(f(z=-a*x-b*y)/(x*P1[1]-y*P1[0])/(x*P2[1]-y*P2[0]))\n",
    "        u,v=[-ff.coefficient({y:1}),ff.coefficient({x:1})]\n",
    "        V=vector([u,v,-a*u-b*v])\n",
    "    elif b!=0:\n",
    "        a=a/b\n",
    "        ff=Ra(f(y=-a*x)/(x*P1[2]-z*P1[0])/(x*P2[2]-z*P2[0]))\n",
    "        u,v=[-ff.coefficient({z:1}),ff.coefficient({x:1})]\n",
    "        V=vector([u,-a*u,v])\n",
    "    elif a!=0:\n",
    "        ff=Ra(f(x=0)/(z*P1[1]-y*P1[2])/(z*P2[1]-y*P2[2]))\n",
    "        V=vector([0,-ff.coefficient({z:1}),ff.coefficient({y:1})])\n",
    "    else:\n",
    "        print(\"Resultado nulo\")\n",
    "        return (None)\n",
    "    return (normaliza(V))"
   ]
  },
  {
   "cell_type": "code",
   "execution_count": 16,
   "metadata": {},
   "outputs": [
    {
     "data": {
      "text/plain": [
       "True"
      ]
     },
     "execution_count": 16,
     "metadata": {},
     "output_type": "execute_result"
    }
   ],
   "source": [
    "flex=True\n",
    "for P in PI:\n",
    "    flex=flex and tercerpunto(P,P)==P\n",
    "flex"
   ]
  },
  {
   "cell_type": "markdown",
   "metadata": {},
   "source": [
    "We fix the point `PI[0]`$:=O$ as the zero element in the law group structure of $E$. We define three functions for this law group: $P\\mapsto \\langle-1\\rangleP$ (`opuesto`), $(P,Q)\\mapsto P\\dot{+}Q$ (`suma`), and $(n,P)\\mapsto\\langle n\\rangle P$ (`multiplo`)."
   ]
  },
  {
   "cell_type": "code",
   "execution_count": 17,
   "metadata": {},
   "outputs": [],
   "source": [
    "def opuesto(Q1,cuerpo=K4):\n",
    "    return tercerpunto(PI[0],Q1,cuerpo=cuerpo)"
   ]
  },
  {
   "cell_type": "code",
   "execution_count": 18,
   "metadata": {},
   "outputs": [],
   "source": [
    "def suma(Q1,Q2,cuerpo=K4):\n",
    "    tercer=tercerpunto(Q1,Q2,cuerpo=cuerpo)\n",
    "    return opuesto(tercer,cuerpo=cuerpo)"
   ]
  },
  {
   "cell_type": "code",
   "execution_count": 19,
   "metadata": {},
   "outputs": [],
   "source": [
    "def multiplo(P,n,cuerpo=K4):\n",
    "    if n==0:\n",
    "        return PI[0]\n",
    "    if n>0:\n",
    "        Q=normaliza(P)\n",
    "        for j in range(n-1):\n",
    "            Q=suma(P,Q,cuerpo=cuerpo)\n",
    "        return Q\n",
    "    return multiplo(opuesto(P,cuerpo=cuerpo),-n,cuerpo=cuerpo)"
   ]
  },
  {
   "cell_type": "markdown",
   "metadata": {},
   "source": [
    "Let us check how the map $P\\mapsto \\langle-1\\rangle P$ holds in the set of flexes."
   ]
  },
  {
   "cell_type": "code",
   "execution_count": 20,
   "metadata": {},
   "outputs": [
    {
     "name": "stdout",
     "output_type": "stream",
     "text": [
      "0 -> 0\n",
      "1 -> 2\n",
      "3 -> 7\n",
      "4 -> 6\n",
      "5 -> 8\n"
     ]
    }
   ],
   "source": [
    "opuestos=[]\n",
    "for j in range(9):\n",
    "    P=PI[j]\n",
    "    k=PI.index(opuesto(P))\n",
    "    if j not in opuestos:\n",
    "        print (j,'->',k)\n",
    "        opuestos.append(k)"
   ]
  },
  {
   "cell_type": "markdown",
   "metadata": {},
   "source": [
    "Let us pick up the first triangle $\\mathcal{L}_1$. Its associated flex is `PI[1]`. Its equation is given."
   ]
  },
  {
   "cell_type": "code",
   "execution_count": 21,
   "metadata": {},
   "outputs": [
    {
     "data": {
      "text/plain": [
       "True"
      ]
     },
     "execution_count": 21,
     "metadata": {},
     "output_type": "execute_result"
    }
   ],
   "source": [
    "P1=vector([1,0,0])\n",
    "P2=vector([0,1,0])\n",
    "P3=vector([0,0,1])\n",
    "triangulo1=[P1,P2,P3]\n",
    "multiplo(P1,-2)==P3 and multiplo(P3,-2)==P2"
   ]
  },
  {
   "cell_type": "code",
   "execution_count": 22,
   "metadata": {},
   "outputs": [
    {
     "data": {
      "text/plain": [
       "True"
      ]
     },
     "execution_count": 22,
     "metadata": {},
     "output_type": "execute_result"
    }
   ],
   "source": [
    "multiplo(P1,3)==multiplo(P2,3)==multiplo(P3,3)==suma(P1,suma(P2,P3))==PI[1]"
   ]
  },
  {
   "cell_type": "code",
   "execution_count": 23,
   "metadata": {},
   "outputs": [
    {
     "data": {
      "text/plain": [
       "x*y*z"
      ]
     },
     "execution_count": 23,
     "metadata": {},
     "output_type": "execute_result"
    }
   ],
   "source": [
    "T1=prod(polar(_) for _ in triangulo1)\n",
    "T1"
   ]
  },
  {
   "cell_type": "markdown",
   "metadata": {},
   "source": [
    "We define a second triangle $\\mathcal{L}'_1$ by choosing as $9$-torsion point `P1`$\\dot+$`PI[6]`. "
   ]
  },
  {
   "cell_type": "code",
   "execution_count": 24,
   "metadata": {},
   "outputs": [
    {
     "data": {
      "text/html": [
       "<html><script type=\"math/tex; mode=display\">\\newcommand{\\Bold}[1]{\\mathbf{#1}}\\mathrm{True}</script></html>"
      ],
      "text/plain": [
       "True"
      ]
     },
     "metadata": {},
     "output_type": "display_data"
    },
    {
     "data": {
      "text/plain": [
       "[x - 1, x - 1, x^2 - 3*x + 9, x - 1]"
      ]
     },
     "execution_count": 24,
     "metadata": {},
     "output_type": "execute_result"
    }
   ],
   "source": [
    "triangulo2=[suma(P1,PI[6])]\n",
    "triangulo2+=[multiplo(triangulo2[-1],-2)]\n",
    "triangulo2+=[multiplo(triangulo2[-1],-2)]\n",
    "show(multiplo(triangulo2[0],3)==PI[1])\n",
    "T2=prod(polar(_) for _ in triangulo2)\n",
    "T2=T2/T2.monomial_coefficient(z^3)\n",
    "[_.minpoly() for _ in T2.coefficients()]"
   ]
  },
  {
   "cell_type": "markdown",
   "metadata": {},
   "source": [
    "We have constructed the the equation of this second triangle. Its coefficients live in a smaller field. Let us find it. The coefficient of $x y z$ is not in $\\mathbb{Q}$ (the only one). So we consider the subfield $L_2$ generated by this coefficient; $h_2$ is the inclusion."
   ]
  },
  {
   "cell_type": "code",
   "execution_count": 25,
   "metadata": {},
   "outputs": [
    {
     "data": {
      "text/plain": [
       "x^3 + y^3 + (2205027/65773*e4^17 - 18434088/65773*e4^16 + 67561974/65773*e4^15 - 1489491/901*e4^14 - 70183827/65773*e4^13 + 749646288/65773*e4^12 - 1708463367/65773*e4^11 + 1737065169/65773*e4^10 + 628806858/65773*e4^9 - 98931420/1241*e4^8 + 9606216708/65773*e4^7 - 10810388070/65773*e4^6 + 8362962981/65773*e4^5 - 4457063367/65773*e4^4 + 1546582059/65773*e4^3 - 301460994/65773*e4^2 + 26851149/65773*e4 - 3373431/65773)*x*y*z + z^3"
      ]
     },
     "execution_count": 25,
     "metadata": {},
     "output_type": "execute_result"
    }
   ],
   "source": [
    "T2"
   ]
  },
  {
   "cell_type": "code",
   "execution_count": 26,
   "metadata": {},
   "outputs": [],
   "source": [
    "L2.<u2>,h2=K4.subfield(T2.coefficient(x*y*z))"
   ]
  },
  {
   "cell_type": "code",
   "execution_count": 27,
   "metadata": {},
   "outputs": [
    {
     "data": {
      "text/plain": [
       "x^3 + y^3 + (u2)*x*y*z + z^3"
      ]
     },
     "execution_count": 27,
     "metadata": {},
     "output_type": "execute_result"
    }
   ],
   "source": [
    "T2.change_ring(L2)"
   ]
  },
  {
   "cell_type": "markdown",
   "metadata": {},
   "source": [
    "This is the curve studied in the worksheet `CubicTriangle1`. The two triangles have the same associated flex. We consider now a new triangle $\\mathcal{L}_2$. This is the case studied in `CubicTriangle2`."
   ]
  },
  {
   "cell_type": "code",
   "execution_count": 28,
   "metadata": {},
   "outputs": [
    {
     "name": "stdout",
     "output_type": "stream",
     "text": [
      "[True, True, True]\n"
     ]
    },
    {
     "data": {
      "text/plain": [
       "[x - 1, x + 3, x - 1, x + 3, x + 3, x + 3, x - 1]"
      ]
     },
     "execution_count": 28,
     "metadata": {},
     "output_type": "execute_result"
    }
   ],
   "source": [
    "triangulo3=[multiplo(P1,2)]\n",
    "triangulo3+=[multiplo(triangulo3[-1],-2)]\n",
    "triangulo3+=[multiplo(triangulo3[-1],-2)]\n",
    "print([multiplo(_,3)==multiplo(PI[1],2) for _ in triangulo3])\n",
    "T3=prod(polar(_) for _ in triangulo3)\n",
    "T3=T3/T3.monomial_coefficient(z^3)\n",
    "[_.minpoly() for _ in T3.coefficients()]"
   ]
  },
  {
   "cell_type": "code",
   "execution_count": 29,
   "metadata": {},
   "outputs": [
    {
     "data": {
      "text/plain": [
       "x^3 - 3*x*y^2 + y^3 - 3*x^2*z - 3*x*y*z - 3*y*z^2 + z^3"
      ]
     },
     "execution_count": 29,
     "metadata": {},
     "output_type": "execute_result"
    }
   ],
   "source": [
    "T3"
   ]
  },
  {
   "cell_type": "markdown",
   "metadata": {},
   "source": [
    "The other relevant elements of the $9$-torsion are more complicated. Let us explain the function `conica`. We look for a conic $C$ such that $(C\\cdot E)_0=2$, $(C\\dot E)_Q=1$ ($Q$ is a flex distinct to $O$) and there is another point $R$ such that $(C\\cdot E)_R=6$; $R$ is a point of order $9$ since $Q\\dot+\\langle 3\\rangle R=O$. We can describe the conic $C$ via a vector parametrization\n",
    "$$\n",
    "t\\mapsto Q_2 t^2 + Q_1 t + Q_0.\n",
    "$$\n",
    "We want the image of $t=\\infty$ to be $Q$, i.e $Q=Q_2$. We want the image for $t=0$ to be $O$, i.e., $Q_0$ equals a multiple of $O$. We want also the conic to have contact order $2$ at $O$ with the tangent line to $E$ at $O$. The Plücker coordinates of this line are obtained evaluating the gradient vector of $f$ at $O$. \n",
    "The evaluation of the equation of the line at the parametrization is the scalar product of this gradient with the parametrization. Since we want this evaluation to be a multiple of $t^2$, $Q_1$ must be orthogonal to the gradient, i.e., a linear combination of $O$ and the cross product of $O$ and the gradient.\n",
    "The parametrization has three indeterminates. We want $R$ to be the value $t=1$. This produces an ideal of the rings of indeterminates, and its Gröbner basis is the output."
   ]
  },
  {
   "cell_type": "code",
   "execution_count": 95,
   "metadata": {},
   "outputs": [],
   "source": [
    "#Comprobar después si es necesario \n",
    "T10=PI[0].cross_product(vector(f.gradient())(*PI[0]))\n",
    "T10=T10/gcd(T10)"
   ]
  },
  {
   "cell_type": "code",
   "execution_count": 31,
   "metadata": {},
   "outputs": [],
   "source": [
    "S.<alpha1,alpha2,alpha3,t>=PolynomialRing(K4,order='lex')\n",
    "def conica(Q):\n",
    "    T1=PI[0].cross_product(vector(f.gradient())(*PI[0]))\n",
    "    T1=(T1/gcd(T1)).change_ring(S)\n",
    "    Q=Q.change_ring(S)\n",
    "    P=PI[0].change_ring(S)\n",
    "    V=Q*t^2+t*(alpha1*P+alpha2*T1)+alpha3*P\n",
    "    f0=f(*V)\n",
    "    f0=S(f0/t^2)\n",
    "    g0=f0-f0.coefficient({t:3})*(t-1)^3\n",
    "    J=S.ideal([g0.coefficient({t:j}) for j in [0,1,2]])\n",
    "    return J.groebner_basis()"
   ]
  },
  {
   "cell_type": "markdown",
   "metadata": {},
   "source": [
    "There must be three solutions for $R$, and they are conjugate in the number field. Step by step, we find the solutions to produce the solution $V$."
   ]
  },
  {
   "cell_type": "code",
   "execution_count": 32,
   "metadata": {},
   "outputs": [],
   "source": [
    "G=conica(PI[6])\n",
    "beta1=alpha1.reduce(G)\n",
    "G1=[_(alpha1=beta1) for _ in G]\n",
    "G1=S.ideal(G1).groebner_basis()\n",
    "G1=[G1[0]]+[S(_/alpha3) for _ in G1[1:]]\n",
    "G1=S.ideal(G1).groebner_basis()\n",
    "beta2=alpha2.reduce(G1)\n",
    "G2=[_(alpha2=beta2) for _ in G1]\n",
    "G2=S.ideal(G2).groebner_basis()\n",
    "#R5.<t5>=K4[]\n",
    "#p=G2[0](alpha3=t5)\n",
    "#p2=p.factor()[0][0]\n",
    "#p2\n",
    "G3=[G2[0].factor()[0][0]]\n",
    "beta3=alpha3.reduce(G3)\n",
    "beta2=beta2(alpha3=beta3)\n",
    "beta1=beta1(alpha2=beta2,alpha3=beta3)\n",
    "V=PI[6]+K4(beta1)*PI[0]+K4(beta2)*T10+K4(beta3)*PI[0]\n",
    "V=V.change_ring(K4)\n",
    "V=V/V[2]"
   ]
  },
  {
   "cell_type": "code",
   "execution_count": 33,
   "metadata": {},
   "outputs": [
    {
     "data": {
      "text/plain": [
       "True"
      ]
     },
     "execution_count": 33,
     "metadata": {},
     "output_type": "execute_result"
    }
   ],
   "source": [
    "multiplo(V,3)==PI[4]"
   ]
  },
  {
   "cell_type": "markdown",
   "metadata": {},
   "source": [
    "We construct a triangle $\\mathcal{L}_3$ and we produce an equation in a number field of degree $6$."
   ]
  },
  {
   "cell_type": "code",
   "execution_count": 36,
   "metadata": {},
   "outputs": [
    {
     "data": {
      "text/plain": [
       "[x^6 + 84*x^5 + 2193*x^4 - 236*x^3 - 75*x^2 + 3*x + 1,\n",
       " x^6 - 108*x^5 + 4221*x^4 + 4320*x^3 + 3672*x^2 - 1458*x + 1161,\n",
       " x^6 - 9*x^5 + 1575*x^4 - 7938*x^3 + 53082*x^2 + 12069*x + 1971,\n",
       " x^6 + 3*x^5 - 75*x^4 - 236*x^3 + 2193*x^2 + 84*x + 1,\n",
       " x^6 + 9*x^5 + 2304*x^4 + 4617*x^3 + 6669*x^2 + 4212*x + 1971,\n",
       " x^6 - 81*x^5 + 1458*x^4 + 38637*x^3 + 216513*x^2 + 354294*x + 177147,\n",
       " x^6 + 45*x^5 + 846*x^4 + 6669*x^3 + 31698*x^2 + 7209*x + 1161,\n",
       " x^6 - 18*x^5 + 117*x^4 - 216*x^3 + 351*x^2 + 81*x + 1161,\n",
       " x^6 + 90*x^4 + 162*x^3 + 1728*x^2 - 1701*x + 1971,\n",
       " x - 1]"
      ]
     },
     "execution_count": 36,
     "metadata": {},
     "output_type": "execute_result"
    }
   ],
   "source": [
    "triangulo4=[V]\n",
    "triangulo4+=[multiplo(triangulo4[-1],-2)]\n",
    "triangulo4+=[multiplo(triangulo4[-1],-2)]\n",
    "T4=prod(polar(_) for _ in triangulo4)\n",
    "T4=T4/T4.monomial_coefficient(z^3)\n",
    "[_.minpoly() for _ in T4.coefficients()]"
   ]
  },
  {
   "cell_type": "code",
   "execution_count": 39,
   "metadata": {},
   "outputs": [
    {
     "data": {
      "text/plain": [
       "(u0)*x^3 + (11836/51219*u0^5 + 995026/51219*u0^4 + 26024155/51219*u0^3 - 142942/7317*u0^2 - 272470/51219*u0 - 38320/51219)*x^2*y + (12833/17073*u0^5 + 1076900/17073*u0^4 + 28052858/17073*u0^3 - 766769/2439*u0^2 - 391100/17073*u0 + 82429/17073)*x*y^2 + (4399/17073*u0^5 + 369490/17073*u0^4 + 9644752/17073*u0^3 - 157303/2439*u0^2 - 474916/17073*u0 + 65078/17073)*y^3 + (59/271*u0^5 + 14924/813*u0^4 + 392872/813*u0^3 + 27197/271*u0^2 - 12053/813*u0 - 2500/813)*x^2*z + (-4399/17073*u0^5 - 369490/17073*u0^4 - 9644752/17073*u0^3 + 157303/2439*u0^2 + 457843/17073*u0 - 82151/17073)*x*y*z + (25987/51219*u0^5 + 2177044/51219*u0^4 + 56497537/51219*u0^3 - 2705659/7317*u0^2 + 840755/51219*u0 + 120014/51219)*y^2*z + (-35768/51219*u0^5 - 3007628/51219*u0^4 - 78702035/51219*u0^3 + 216818/7317*u0^2 + 1045979/51219*u0 + 122189/51219)*x*z^2 + (-16550/17073*u0^5 - 1390304/17073*u0^4 - 36303170/17073*u0^3 + 521996/2439*u0^2 + 644213/17073*u0 - 29929/17073)*y*z^2 + z^3"
      ]
     },
     "execution_count": 39,
     "metadata": {},
     "output_type": "execute_result"
    }
   ],
   "source": [
    "rr=e4.minpoly().roots(QQbar)[0][0]\n",
    "K5.<e5>=NumberField(e4.minpoly(),embedding=rr)\n",
    "hm=K4.hom([e5],K5)\n",
    "R5=R.change_ring(K5)\n",
    "#T4a=vector([hm(_) for _ in T4.coefficients()])*vector([R5(_) for _ in T4.monomials()])\n",
    "L0.<u0>,h0=K4.subfield(T4.coefficients()[0])\n",
    "T4a=T4.change_ring(L0)\n",
    "T4a"
   ]
  },
  {
   "cell_type": "markdown",
   "metadata": {},
   "source": [
    "This is the equation used for the computations of the abelian group. These computations allow to recover the whole $9$-torsion of $E$."
   ]
  },
  {
   "cell_type": "code",
   "execution_count": null,
   "metadata": {},
   "outputs": [],
   "source": []
  }
 ],
 "metadata": {
  "kernelspec": {
   "display_name": "SageMath 9.1.beta9",
   "language": "sage",
   "name": "sagemath"
  },
  "language_info": {
   "codemirror_mode": {
    "name": "ipython",
    "version": 3
   },
   "file_extension": ".py",
   "mimetype": "text/x-python",
   "name": "python",
   "nbconvert_exporter": "python",
   "pygments_lexer": "ipython3",
   "version": "3.7.3"
  }
 },
 "nbformat": 4,
 "nbformat_minor": 4
}
