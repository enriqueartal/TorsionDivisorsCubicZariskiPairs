{
 "cells": [
  {
   "cell_type": "markdown",
   "metadata": {},
   "source": [
    "We compute in this worksheet the orbifold fundamental group of another one of the groups of Proposition 4.3 in the paper `Torsion divisors of plane curves with maximal flexes and Zariski pairs` by E. Artal, S. Bannai, T. Shirane and H. Tokunaga. As for other groups we use the package `sirocco` by M.Á Marco and M. Rodríguez. Since we need to know which are the meridians of the irreducible components (including the line at infinity), instead of using the method `fundamental_group` we need to use internal functions of `sirocco` in order to obtain the braid monodromy for a projection. In order to do that, we need to provide a geometric basis of the fundamental group of the complement of the discriminant of the projection, follwoing the ideas of C. Alquézar. A complete version of this construction will be part of `sirocco` in forthcoming versions. At this point we will consider a cell decomposition of a disc containing the discriminant and such that each $2$-cell contains exactly one point of the discriminant. The function `get_voronoi` provides this decomposition."
   ]
  },
  {
   "cell_type": "code",
   "execution_count": 1,
   "metadata": {},
   "outputs": [],
   "source": [
    "from sage.schemes.curves import zariski_vankampen as zv\n",
    "\n",
    "import numpy as np\n",
    "\n",
    "from matplotlib import pyplot as plt\n",
    "\n",
    "from scipy.spatial import Voronoi, voronoi_plot_2d\n",
    "\n",
    "import copy\n",
    "\n",
    "def get_voronoi(points):\n",
    "    discpoints = np.array([(CC(a).real(), CC(a).imag()) for a in points])\n",
    "    added_points = 3 * abs(discpoints).max() + 1.0\n",
    "    configuration = np.vstack([discpoints, np.array([[added_points, 0], [-added_points, 0],\n",
    "                                               [0, added_points], [0, -added_points]])])\n",
    "    V = Voronoi(configuration)\n",
    "    return (V)"
   ]
  },
  {
   "cell_type": "markdown",
   "metadata": {},
   "source": [
    "We introduce the curve. The equations are in $\\mathbb{Q}$; $f$ is the cubic, $T_1$ is the equation of one triangle (which contains the line at infinity) and $T_2$ is the equation of another triangle (this polynomial has three linear factors in an extension of $\\mathbb{Q}$)."
   ]
  },
  {
   "cell_type": "code",
   "execution_count": 2,
   "metadata": {},
   "outputs": [],
   "source": [
    "S1.<x,y>=QQ[]\n",
    "f=x^2*y+y^2+x\n",
    "T1=x*y\n",
    "T2=x^3 - 3*x*y^2 + y^3 - 3*x^2 - 3*x*y - 3*y + 1\n",
    "F=(f*T1*T2)(x=x+y)"
   ]
  },
  {
   "cell_type": "markdown",
   "metadata": {},
   "source": [
    "The variable `disc` contains the points in the discriminant and the variable `segs` the edges where the braids needed to obtain the fundamental group are computed. The variable `V` contains the information of the Voronoi diagram used to compute the braids, which will be developed in the next cells."
   ]
  },
  {
   "cell_type": "code",
   "execution_count": 4,
   "metadata": {},
   "outputs": [],
   "source": [
    "disc = zv.discrim(F)\n",
    "segs = zv.segments(disc)\n",
    "V=get_voronoi(disc)\n",
    "#vtc=list(Set(flatten(segs)))\n",
    "#ars=[tuple([vtc.index(a),vtc.index(b)]) for a,b in segs]"
   ]
  },
  {
   "cell_type": "markdown",
   "metadata": {},
   "source": [
    "This is a technical cell where the main objects are the following ones:\n",
    "\n",
    "- `Vre`: It is a dictionnary containing the $2$-cells, as lists of integers denoting the oriented edges. Not all the cells are counterclockwisely oriented. It will be corrected later.\n",
    "- `borde_e`: It is a list of edges codifying the counterclockwise boundary of the disk."
   ]
  },
  {
   "cell_type": "code",
   "execution_count": 5,
   "metadata": {},
   "outputs": [],
   "source": [
    "Ve0=[tuple(_) for _ in V.ridge_vertices if -1 not in _]\n",
    "Ve={j:Ve0[j-1] for j in [1..len(Ve0)]}\n",
    "for j in [1..len(Ve0)]:\n",
    "    Ve[-j]=(Ve[j][1],Ve[j][0])\n",
    "eV={j:i for i,j in Ve.items()}\n",
    "Vr0=[_ for _ in V.regions if -1 not in _ and len(_)>0]\n",
    "Vrv={j:tuple(Vr0[j]) for j in range(len(Vr0))}\n",
    "aux=Vrv.items()\n",
    "Rv={_[1]:_[0] for _ in aux}\n",
    "def vr2ve(reg,cerrado=True):\n",
    "    res=[]\n",
    "    n=len(reg)\n",
    "    for j in range(n-1):\n",
    "        a=(reg[j],reg[j+1])\n",
    "        m=eV[a]\n",
    "        res.append(m)\n",
    "    if cerrado: \n",
    "        m=eV[(reg[n-1],reg[0])]\n",
    "        res.append(m)\n",
    "    return (tuple(res))\n",
    "\n",
    "def ve2vr(reg,cerrado=True):\n",
    "    if len(reg)==0:\n",
    "        Print(\"Error\")\n",
    "        return (None)\n",
    "    if cerrado and Ve[reg[0]][0]!=Ve[reg[-1]][1]:\n",
    "        Print(\"Error\")\n",
    "        return (None)\n",
    "    for j in range(len(reg)-1):\n",
    "        if Ve[reg[j]][1]!=Ve[reg[j+1]][0]:\n",
    "            Print (\"Error\")\n",
    "            return (None)\n",
    "    res = tuple([Ve[a][0] for a in reg])\n",
    "    if not cerrado:\n",
    "        res.append(Ve[-1][1])\n",
    "    return (res)\n",
    "Vre={j:vr2ve(Vrv[j]) for j in Vrv.keys()}\n",
    "Vretot=[abs(i) for j in Vre.keys() for i in Vre[j] ]\n",
    "borde_e_unordered=[j for j in Vretot if Vretot.count(j)==1]\n",
    "borde_v_unordered=list(Set(flatten([Ve[_] for _ in borde_e_unordered])))\n",
    "borde_e=[]\n",
    "borde_v=[0]\n",
    "a=0\n",
    "borde_v_unordered.remove(a)\n",
    "while borde_v_unordered!=[]:\n",
    "    u=[_ for _ in borde_e_unordered if a in Ve[_]]\n",
    "    b=u[0]\n",
    "    borde_e_unordered.remove(b)\n",
    "    ar=list(copy.copy(Ve[b]))  \n",
    "    if a==ar[0]:\n",
    "        borde_e.append(b)\n",
    "    else:\n",
    "        borde_e.append(-b)\n",
    "    ar.remove(a)\n",
    "    a=ar[0]\n",
    "    borde_v.append(a)\n",
    "    if a in borde_v_unordered:\n",
    "        borde_v_unordered.remove(a)\n",
    "b=borde_e_unordered[0]\n",
    "ar=Ve[b]\n",
    "if a==ar[0]:\n",
    "    borde_e.append(b)\n",
    "else:\n",
    "    borde_e.append(-b)\n",
    "borde_e=tuple(borde_e)\n",
    "borde_v=tuple(borde_v)\n",
    "if borde_v.index(3)>borde_v.index(1):\n",
    "    borde_v=tuple([0]+[_ for _ in reversed(borde_v[1:])])\n",
    "    borde_e=tuple([-_ for _ in reversed(borde_e)])"
   ]
  },
  {
   "cell_type": "markdown",
   "metadata": {},
   "source": [
    "Some normalizations are doing; in particular, all the cells are now positively oriented."
   ]
  },
  {
   "cell_type": "code",
   "execution_count": 6,
   "metadata": {},
   "outputs": [],
   "source": [
    "def desplazar(i,lista):\n",
    "    return (lista[i:]+lista[:i])\n",
    "borde_e=desplazar(10,borde_e)\n",
    "guardar=[13, 12, 14, 2, 5, 3, 4, 6, 9, 1, 8, 7, 10, 0, 11]\n",
    "Vre[13]=desplazar(2,Vre[13])\n",
    "Vre[12]=desplazar(2,[-i for i in reversed(Vre[12])])\n",
    "Vre[14]=desplazar(1,[-i for i in reversed(Vre[14])])\n",
    "Vre[2]=desplazar(1,[-i for i in reversed(Vre[2])])\n",
    "Vre[5]=desplazar(3,Vre[5])\n",
    "Vre[3]=desplazar(2,[-i for i in reversed(Vre[3])])\n",
    "Vre[4]=desplazar(2,[-i for i in reversed(Vre[4])])\n",
    "Vre[6]=desplazar(1,Vre[6])\n",
    "Vre[9]=desplazar(3,Vre[9])\n",
    "Vre[1]=desplazar(2,[-i for i in reversed(Vre[1])])\n",
    "Vre[8]=desplazar(3,[-i for i in reversed(Vre[8])])\n",
    "Vre[7]=desplazar(3,Vre[7])\n",
    "Vre[10]=desplazar(0,Vre[10])\n",
    "Vre[0]=desplazar(0,Vre[0])\n",
    "Vre[11]=desplazar(4,[-i for i in reversed(Vre[11])])"
   ]
  },
  {
   "cell_type": "markdown",
   "metadata": {},
   "source": [
    "The list determining a geometric basis is given. For each element in `caminos`, the first list is a path from the base point to a cell, and the second one a lasso around a cell."
   ]
  },
  {
   "cell_type": "code",
   "execution_count": 8,
   "metadata": {},
   "outputs": [],
   "source": [
    "caminos=[([],[43,39,-44,-1])]\n",
    "caminos+=[(caminos[-1][0]+[43],[40,41,-42,-39])]\n",
    "caminos+=[(caminos[-1][0]+[40],[-45,15,46,-41])]\n",
    "caminos+=[(caminos[-1][0]+[-45],[-13,12,14,-15])]\n",
    "caminos+=[(caminos[-1][0]+[-13],[23,21,17,-25,-24,-12])]\n",
    "caminos+=[(caminos[-1][0]+[23,21],[16,-18,-17])]\n",
    "caminos+=[(caminos[-2][0]+[23],[-20,19,4,22,-16,-21])]\n",
    "caminos+=[(caminos[-1][0]+[-20,19,4],[-6,-26,27,25,18,-22])]\n",
    "caminos+=[(caminos[-2][0]+[-20],[-34,2,35,10,32,29,-36,-5,-19])]\n",
    "caminos+=[(caminos[-1][0]+[-34,2,35],[9,-11,-10])]\n",
    "caminos+=[(caminos[-1][0]+[9],[33,-28,-32,11])]\n",
    "caminos+=[(caminos[-1][0]+[33],[31,-30,-29,28])]\n",
    "caminos+=[(caminos[-1][0]+[31],[-37,-8,36,30])]\n",
    "caminos+=[(caminos[-1][0]+[-37],[-7,6,-4,5,8])]\n",
    "caminos+=[(caminos[-6][0]+[-34,2,],[-3,38,26,7,37,-31,-33,-9,-35])]"
   ]
  },
  {
   "cell_type": "markdown",
   "metadata": {},
   "source": [
    "We check each cell is represented by an element of `caminos`."
   ]
  },
  {
   "cell_type": "code",
   "execution_count": 9,
   "metadata": {},
   "outputs": [
    {
     "data": {
      "text/plain": [
       "True"
      ]
     },
     "execution_count": 9,
     "metadata": {},
     "output_type": "execute_result"
    }
   ],
   "source": [
    "coincide=True\n",
    "for j in range(15):\n",
    "    coincide=coincide and (caminos[j][1]==[i for i in Vre[guardar[j]]])\n",
    "coincide"
   ]
  },
  {
   "cell_type": "markdown",
   "metadata": {},
   "source": [
    "The package `sirocco` is used to obtain the braids."
   ]
  },
  {
   "cell_type": "code",
   "execution_count": 11,
   "metadata": {},
   "outputs": [],
   "source": [
    "tr1=[zv.braid_in_segment(F,*s) for s in segs]"
   ]
  },
  {
   "cell_type": "markdown",
   "metadata": {},
   "source": [
    "We define a free group generated by the edges and we translate the paths in `caminos` as elements in this group, and also the boundary of the union of cells. We check that it is a geometric basis as the reversed product equals the boundary."
   ]
  },
  {
   "cell_type": "code",
   "execution_count": 15,
   "metadata": {},
   "outputs": [
    {
     "data": {
      "text/plain": [
       "15"
      ]
     },
     "execution_count": 15,
     "metadata": {},
     "output_type": "execute_result"
    }
   ],
   "source": [
    "FG=FreeGroup(len(Ve0))\n",
    "base1=[]\n",
    "for u in caminos:\n",
    "    gen1=[FG(a) for a in u]\n",
    "    base1.append(gen1)\n",
    "infinito=FG(borde_e)\n",
    "len(base1)"
   ]
  },
  {
   "cell_type": "code",
   "execution_count": 16,
   "metadata": {},
   "outputs": [
    {
     "data": {
      "text/plain": [
       "True"
      ]
     },
     "execution_count": 16,
     "metadata": {},
     "output_type": "execute_result"
    }
   ],
   "source": [
    "lazos=[a[0]*a[1]/a[0] for a in base1]\n",
    "infinito==prod(_ for _ in reversed(lazos))"
   ]
  },
  {
   "cell_type": "markdown",
   "metadata": {},
   "source": [
    "We define a morphism from this free group to the braid group to construct the braid monodromy"
   ]
  },
  {
   "cell_type": "code",
   "execution_count": 18,
   "metadata": {},
   "outputs": [
    {
     "data": {
      "text/plain": [
       "[2, 8, 1, 2, 8, 2, 1, 1, 1, 2, 8, 2, 2, 8, 1]"
      ]
     },
     "execution_count": 18,
     "metadata": {},
     "output_type": "execute_result"
    }
   ],
   "source": [
    "B=BraidGroup(8)\n",
    "libre2braid=FG.hom(tr1,B)\n",
    "trenzas=[libre2braid(a) for a in lazos]\n",
    "[_.exponent_sum() for _ in trenzas]"
   ]
  },
  {
   "cell_type": "markdown",
   "metadata": {},
   "source": [
    "We want to modify the above decomposition in order to have positive braids for the middle braids. The result will be kept in the list `puiseux`. Each element of the list `puiseux` have four entries: two braids $\\tau_1,\\tau_2$ ($\\tau_2$ is a positive algebraic braid) and two numbers $m,n$. The braid associated to the basis element is $\\tau_1\\cdot\\tau_2\\cdot\\tau_1^{-1}$; $m$ is the first strand involved in $\\tau_2$ and $n$ is the number of strands involved in $\\tau_2$.\n",
    "\n",
    "In order to keep this computations as short as possible, we need to manipulate the braids one by one."
   ]
  },
  {
   "cell_type": "code",
   "execution_count": 234,
   "metadata": {},
   "outputs": [],
   "source": [
    "puiseux=[]"
   ]
  },
  {
   "cell_type": "code",
   "execution_count": 235,
   "metadata": {},
   "outputs": [
    {
     "data": {
      "text/plain": [
       "True"
      ]
     },
     "execution_count": 235,
     "metadata": {},
     "output_type": "execute_result"
    }
   ],
   "source": [
    "trenzas[0]==B((7, 7))"
   ]
  },
  {
   "cell_type": "code",
   "execution_count": 236,
   "metadata": {},
   "outputs": [],
   "source": [
    "puiseux.append([B.one(),B([7,7]),7,2])"
   ]
  },
  {
   "cell_type": "code",
   "execution_count": 237,
   "metadata": {},
   "outputs": [
    {
     "data": {
      "text/plain": [
       "True"
      ]
     },
     "execution_count": 237,
     "metadata": {},
     "output_type": "execute_result"
    }
   ],
   "source": [
    "trenzas[1]==B((7, 6, 5, 6, 5, 6, 5, 6, 6, -7))"
   ]
  },
  {
   "cell_type": "code",
   "execution_count": 238,
   "metadata": {},
   "outputs": [],
   "source": [
    "puiseux.append([B([7]),B([6, 5, 6, 5, 6, 5, 6, 6]),5,3])"
   ]
  },
  {
   "cell_type": "code",
   "execution_count": 239,
   "metadata": {},
   "outputs": [
    {
     "data": {
      "text/plain": [
       "True"
      ]
     },
     "execution_count": 239,
     "metadata": {},
     "output_type": "execute_result"
    }
   ],
   "source": [
    "u=B((7, 6, 6 ,5))\n",
    "v=B((4,))\n",
    "trenzas[2]==u*v/u"
   ]
  },
  {
   "cell_type": "code",
   "execution_count": 240,
   "metadata": {},
   "outputs": [],
   "source": [
    "puiseux.append([u,v,4,2])"
   ]
  },
  {
   "cell_type": "code",
   "execution_count": 241,
   "metadata": {},
   "outputs": [
    {
     "data": {
      "text/plain": [
       "True"
      ]
     },
     "execution_count": 241,
     "metadata": {},
     "output_type": "execute_result"
    }
   ],
   "source": [
    "u=B((7, 6 ,5, 4))\n",
    "v=B((3,))^2\n",
    "trenzas[3]==u*v/u"
   ]
  },
  {
   "cell_type": "code",
   "execution_count": 242,
   "metadata": {},
   "outputs": [],
   "source": [
    "puiseux.append([u,v,3,2])"
   ]
  },
  {
   "cell_type": "code",
   "execution_count": 243,
   "metadata": {},
   "outputs": [
    {
     "data": {
      "text/plain": [
       "True"
      ]
     },
     "execution_count": 243,
     "metadata": {},
     "output_type": "execute_result"
    }
   ],
   "source": [
    "u=B((7, 6 ,5, 4, 3))\n",
    "v=B((1, 2, 1, 2, 1, 2, 1, 1))\n",
    "trenzas[4]==u*v/u"
   ]
  },
  {
   "cell_type": "code",
   "execution_count": 244,
   "metadata": {},
   "outputs": [],
   "source": [
    "puiseux.append([u,v,1,3])"
   ]
  },
  {
   "cell_type": "code",
   "execution_count": 245,
   "metadata": {},
   "outputs": [
    {
     "data": {
      "text/plain": [
       "True"
      ]
     },
     "execution_count": 245,
     "metadata": {},
     "output_type": "execute_result"
    }
   ],
   "source": [
    "u=B((5, ))\n",
    "v=B((6,))^2\n",
    "trenzas[5]==u*v/u"
   ]
  },
  {
   "cell_type": "code",
   "execution_count": 246,
   "metadata": {},
   "outputs": [],
   "source": [
    "puiseux.append([u,v,6,2])"
   ]
  },
  {
   "cell_type": "code",
   "execution_count": 247,
   "metadata": {},
   "outputs": [
    {
     "data": {
      "text/plain": [
       "True"
      ]
     },
     "execution_count": 247,
     "metadata": {},
     "output_type": "execute_result"
    }
   ],
   "source": [
    "u=B([1, 1, 2])\n",
    "v=B((3,))\n",
    "trenzas[6]==u*v/u"
   ]
  },
  {
   "cell_type": "code",
   "execution_count": 248,
   "metadata": {},
   "outputs": [],
   "source": [
    "puiseux.append([u,v,3,2])"
   ]
  },
  {
   "cell_type": "code",
   "execution_count": 249,
   "metadata": {},
   "outputs": [
    {
     "data": {
      "text/plain": [
       "True"
      ]
     },
     "execution_count": 249,
     "metadata": {},
     "output_type": "execute_result"
    }
   ],
   "source": [
    "u=B([5, -3, 4])\n",
    "v=B((3,))\n",
    "trenzas[7]==u*v/u"
   ]
  },
  {
   "cell_type": "code",
   "execution_count": 250,
   "metadata": {},
   "outputs": [],
   "source": [
    "puiseux.append([u,v,3,2])"
   ]
  },
  {
   "cell_type": "code",
   "execution_count": 251,
   "metadata": {},
   "outputs": [
    {
     "data": {
      "text/plain": [
       "True"
      ]
     },
     "execution_count": 251,
     "metadata": {},
     "output_type": "execute_result"
    }
   ],
   "source": [
    "u=B([-6, 4, 5])\n",
    "v=B((6,))\n",
    "trenzas[8]==u*v/u"
   ]
  },
  {
   "cell_type": "code",
   "execution_count": 252,
   "metadata": {},
   "outputs": [],
   "source": [
    "puiseux.append([u,v,6,2])"
   ]
  },
  {
   "cell_type": "code",
   "execution_count": 253,
   "metadata": {},
   "outputs": [
    {
     "data": {
      "text/plain": [
       "True"
      ]
     },
     "execution_count": 253,
     "metadata": {},
     "output_type": "execute_result"
    }
   ],
   "source": [
    "u=B([1])\n",
    "v=B((2,))^2\n",
    "trenzas[9]==u*v/u"
   ]
  },
  {
   "cell_type": "code",
   "execution_count": 254,
   "metadata": {},
   "outputs": [],
   "source": [
    "puiseux.append([u,v,2,2])"
   ]
  },
  {
   "cell_type": "code",
   "execution_count": 255,
   "metadata": {},
   "outputs": [
    {
     "data": {
      "text/plain": [
       "True"
      ]
     },
     "execution_count": 255,
     "metadata": {},
     "output_type": "execute_result"
    }
   ],
   "source": [
    "u=B([1, 2, -3, -6, -6])\n",
    "v=B(2*(5, 4, 5)+ 2*(5,))\n",
    "trenzas[10]==u*v/u"
   ]
  },
  {
   "cell_type": "code",
   "execution_count": 256,
   "metadata": {},
   "outputs": [],
   "source": [
    "puiseux.append([u,v,4,3])"
   ]
  },
  {
   "cell_type": "code",
   "execution_count": 257,
   "metadata": {},
   "outputs": [
    {
     "data": {
      "text/plain": [
       "True"
      ]
     },
     "execution_count": 257,
     "metadata": {},
     "output_type": "execute_result"
    }
   ],
   "source": [
    "u=B([1, -6, -6, -6, -5, 4, 2,])\n",
    "v=B((3,))^2\n",
    "trenzas[11]==u*v/u"
   ]
  },
  {
   "cell_type": "code",
   "execution_count": 258,
   "metadata": {},
   "outputs": [],
   "source": [
    "puiseux.append([u,v,3,2])"
   ]
  },
  {
   "cell_type": "code",
   "execution_count": 259,
   "metadata": {},
   "outputs": [
    {
     "data": {
      "text/plain": [
       "True"
      ]
     },
     "execution_count": 259,
     "metadata": {},
     "output_type": "execute_result"
    }
   ],
   "source": [
    "u=B([-6, 5, -3, 6,  4, -5])\n",
    "v= B((6, ))^2\n",
    "trenzas[12]==u*v/u"
   ]
  },
  {
   "cell_type": "code",
   "execution_count": 260,
   "metadata": {},
   "outputs": [],
   "source": [
    "puiseux.append([u,v,6,2])"
   ]
  },
  {
   "cell_type": "code",
   "execution_count": 261,
   "metadata": {},
   "outputs": [
    {
     "data": {
      "text/plain": [
       "True"
      ]
     },
     "execution_count": 261,
     "metadata": {},
     "output_type": "execute_result"
    }
   ],
   "source": [
    "u=B([4, 7, 6, 5, 4, 6, 7, -6, -6, 5, -6, 3])\n",
    "v=B(2*(5, 4, 5)+ 2*(4,))\n",
    "trenzas[13]==u*v/u"
   ]
  },
  {
   "cell_type": "code",
   "execution_count": 262,
   "metadata": {},
   "outputs": [],
   "source": [
    "puiseux.append([u,v,4,3])"
   ]
  },
  {
   "cell_type": "code",
   "execution_count": 263,
   "metadata": {},
   "outputs": [
    {
     "data": {
      "text/plain": [
       "True"
      ]
     },
     "execution_count": 263,
     "metadata": {},
     "output_type": "execute_result"
    }
   ],
   "source": [
    "u=B([-6, -6, 5, 4, 3])\n",
    "v=B([2])\n",
    "trenzas[14]==u*v/u"
   ]
  },
  {
   "cell_type": "code",
   "execution_count": 264,
   "metadata": {},
   "outputs": [
    {
     "data": {
      "text/plain": [
       "15"
      ]
     },
     "execution_count": 264,
     "metadata": {},
     "output_type": "execute_result"
    }
   ],
   "source": [
    "puiseux.append([u,v,2,2])\n",
    "len(puiseux)"
   ]
  },
  {
   "cell_type": "markdown",
   "metadata": {},
   "source": [
    "We have all the Puiseux decompositions of the braids. We need to identify to which component each meridian belongs. We see that the generators $\\mu_2,\\mu_4,\\mu_6$ correspond to the cubic. The other ones (and the meridian at infinity) correspond to the lines. We may distinguish the two triangles but we will do it later. This is done looking at the orbits by the monodromy action.\n",
    "\n",
    "We start with the free group corresponding to the fundamental group of the complement of the curve in a vertical line. We add the orbifold relations: the cubes of the meridians of the lines and the 9th power of the meridian of the cubic."
   ]
  },
  {
   "cell_type": "code",
   "execution_count": 265,
   "metadata": {},
   "outputs": [
    {
     "name": "stdout",
     "output_type": "stream",
     "text": [
      "[[1], [2, 4, 6], [3], [5], [7], [8]]\n"
     ]
    }
   ],
   "source": [
    "permutaciones=PermutationGroup([_.permutation() for _ in trenzas])\n",
    "print(permutaciones.orbits())\n",
    "FL8=FreeGroup(8)\n",
    "L8=[FL8(_)^3 for _ in [[1], [3], [5], [7], [8], [1..8]]]+[FL8([2])^9]"
   ]
  },
  {
   "cell_type": "markdown",
   "metadata": {},
   "source": [
    "We add the relations of the braid monodromy using the Puiseux decomposition."
   ]
  },
  {
   "cell_type": "code",
   "execution_count": 266,
   "metadata": {},
   "outputs": [],
   "source": [
    "for tau1,tau2,m0,m1 in puiseux:\n",
    "    for j in [m0..m0+m1-1]:\n",
    "        v=((FL8([j])*tau2)/FL8([j]))*tau1^-1\n",
    "        L8.append(v)"
   ]
  },
  {
   "cell_type": "code",
   "execution_count": 267,
   "metadata": {},
   "outputs": [],
   "source": [
    "G=(FL8/L8)"
   ]
  },
  {
   "cell_type": "markdown",
   "metadata": {},
   "source": [
    "We simplify the presentation and we keep track of the meridians. We see that this orbifold group is finite. As it is bigger than the abelianization, the group is not abelian."
   ]
  },
  {
   "cell_type": "code",
   "execution_count": 268,
   "metadata": {},
   "outputs": [],
   "source": [
    "hom1=G.simplification_isomorphism()\n",
    "G1=hom1.codomain()"
   ]
  },
  {
   "cell_type": "code",
   "execution_count": 269,
   "metadata": {},
   "outputs": [
    {
     "data": {
      "text/plain": [
       "6561"
      ]
     },
     "execution_count": 269,
     "metadata": {},
     "output_type": "execute_result"
    }
   ],
   "source": [
    "G1.order()"
   ]
  },
  {
   "cell_type": "code",
   "execution_count": 270,
   "metadata": {},
   "outputs": [
    {
     "data": {
      "text/plain": [
       "2187"
      ]
     },
     "execution_count": 270,
     "metadata": {},
     "output_type": "execute_result"
    }
   ],
   "source": [
    "prod(G1.abelian_invariants())"
   ]
  },
  {
   "cell_type": "markdown",
   "metadata": {},
   "source": [
    "We express the meridians in terms of the generators of $G_1$."
   ]
  },
  {
   "cell_type": "code",
   "execution_count": 273,
   "metadata": {},
   "outputs": [
    {
     "data": {
      "text/plain": [
       "[(1,),\n",
       " (3,),\n",
       " (4,),\n",
       " (5,),\n",
       " (6,),\n",
       " (-6, -5, 3, 1, -2, -1, -3, -4, 1, -2, -1, -3, -2, -1),\n",
       " (2,)]"
      ]
     },
     "execution_count": 273,
     "metadata": {},
     "output_type": "execute_result"
    }
   ],
   "source": [
    "meridianos=[hom1(G(_)).Tietze() for _ in [[1],[3],[5],[7],[8],[-8..-1],[2]]]\n",
    "meridianos"
   ]
  },
  {
   "cell_type": "markdown",
   "metadata": {},
   "source": [
    "Since there are `GAP` functions which are not natively translated in `Sagemath` we translate some objects into `GAP`."
   ]
  },
  {
   "cell_type": "code",
   "execution_count": 275,
   "metadata": {},
   "outputs": [
    {
     "data": {
      "text/plain": [
       "[3, 3, 3, 3, 3, 3, 9]"
      ]
     },
     "execution_count": 275,
     "metadata": {},
     "output_type": "execute_result"
    }
   ],
   "source": [
    "G1gap=G1.gap()\n",
    "meridianosgap=[G1(_).gap() for _ in meridianos]\n",
    "hom=G1gap.IsomorphismPermGroup()\n",
    "G1a=hom.Range()\n",
    "[hom.Image(_).Order() for _ in meridianosgap]"
   ]
  },
  {
   "cell_type": "markdown",
   "metadata": {},
   "source": [
    "We check the commutators of the meridians. One of them, $v$, is the generator of the derived subgroup."
   ]
  },
  {
   "cell_type": "code",
   "execution_count": 276,
   "metadata": {},
   "outputs": [
    {
     "data": {
      "text/plain": [
       "3"
      ]
     },
     "execution_count": 276,
     "metadata": {},
     "output_type": "execute_result"
    }
   ],
   "source": [
    "G1gap.DerivedSubgroup().Size()"
   ]
  },
  {
   "cell_type": "code",
   "execution_count": 277,
   "metadata": {},
   "outputs": [
    {
     "name": "stdout",
     "output_type": "stream",
     "text": [
      "0 1 1\n",
      "0 2 3\n",
      "0 3 1\n",
      "0 4 3\n",
      "0 5 1\n",
      "1 2 1\n",
      "1 3 3\n",
      "1 4 1\n",
      "1 5 3\n",
      "2 3 1\n",
      "2 4 3\n",
      "2 5 1\n",
      "3 4 1\n",
      "3 5 3\n",
      "4 5 1\n"
     ]
    }
   ],
   "source": [
    "conms={(i,j):hom.Image(meridianosgap[i]*meridianosgap[j]/meridianosgap[i]/meridianosgap[j]) for i in [0..5] for j in [i+1..6]}\n",
    "for i in [0..4]:\n",
    "    for j in [i+1..5]:\n",
    "        print (i,j,conms[i,j].Order())"
   ]
  },
  {
   "cell_type": "code",
   "execution_count": 278,
   "metadata": {},
   "outputs": [],
   "source": [
    "v=conms[0,2]"
   ]
  },
  {
   "cell_type": "markdown",
   "metadata": {},
   "source": [
    "The commutations of the meridians allow us to identify the triangles. The meridians of distinct triangles pairwise commute. And the meridians in the same triangle do not commute."
   ]
  },
  {
   "cell_type": "code",
   "execution_count": 281,
   "metadata": {},
   "outputs": [],
   "source": [
    "X=[0,2,4]\n",
    "Y=[1,3,5]"
   ]
  },
  {
   "cell_type": "code",
   "execution_count": 282,
   "metadata": {},
   "outputs": [
    {
     "name": "stdout",
     "output_type": "stream",
     "text": [
      "3\n",
      "3\n",
      "3\n"
     ]
    }
   ],
   "source": [
    "for i in X:\n",
    "    for j in X:\n",
    "        if i<j:\n",
    "            print(conms[i,j].Order())"
   ]
  },
  {
   "cell_type": "code",
   "execution_count": 283,
   "metadata": {},
   "outputs": [
    {
     "name": "stdout",
     "output_type": "stream",
     "text": [
      "3\n",
      "3\n",
      "3\n"
     ]
    }
   ],
   "source": [
    "for i in Y:\n",
    "    for j in Y:\n",
    "        if i<j:\n",
    "            print(conms[i,j].Order())"
   ]
  },
  {
   "cell_type": "code",
   "execution_count": 284,
   "metadata": {},
   "outputs": [
    {
     "name": "stdout",
     "output_type": "stream",
     "text": [
      "1\n",
      "1\n",
      "1\n",
      "1\n",
      "1\n",
      "1\n",
      "1\n",
      "1\n",
      "1\n"
     ]
    }
   ],
   "source": [
    "for i in X:\n",
    "    for j in Y:\n",
    "        if i<j:\n",
    "            print(conms[i,j].Order())\n",
    "        if j<i:\n",
    "            print(conms[j,i].Order())"
   ]
  },
  {
   "cell_type": "markdown",
   "metadata": {},
   "source": [
    "We check which commutators equal $v$ or $v^{-1}$."
   ]
  },
  {
   "cell_type": "code",
   "execution_count": 285,
   "metadata": {},
   "outputs": [
    {
     "name": "stdout",
     "output_type": "stream",
     "text": [
      "True\n",
      "False\n",
      "False\n",
      "True\n",
      "True\n",
      "False\n"
     ]
    }
   ],
   "source": [
    "for i in [0..4]:\n",
    "    for j in [i+1..5]:\n",
    "        if conms[i,j].Order()==3:\n",
    "            print(v==conms[i,j])"
   ]
  },
  {
   "cell_type": "code",
   "execution_count": 286,
   "metadata": {},
   "outputs": [
    {
     "name": "stdout",
     "output_type": "stream",
     "text": [
      "0 =inverse of v\n",
      "1 =inverse of v\n",
      "2 =inverse of v\n",
      "3 =inverse of v\n",
      "4 =inverse of v\n",
      "5 =inverse of v\n"
     ]
    }
   ],
   "source": [
    "for i in [0..5]:\n",
    "    u=conms[i,6]\n",
    "    if u.Order()==1:\n",
    "        print(i,\"trivial\")\n",
    "    elif u==v:\n",
    "        print(i,\"=v\")\n",
    "    else:\n",
    "        print(i,\"=inverse of v\")"
   ]
  },
  {
   "cell_type": "code",
   "execution_count": null,
   "metadata": {},
   "outputs": [],
   "source": []
  }
 ],
 "metadata": {
  "kernelspec": {
   "display_name": "SageMath 9.1.beta9",
   "language": "sage",
   "name": "sagemath"
  },
  "language_info": {
   "codemirror_mode": {
    "name": "ipython",
    "version": 3
   },
   "file_extension": ".py",
   "mimetype": "text/x-python",
   "name": "python",
   "nbconvert_exporter": "python",
   "pygments_lexer": "ipython3",
   "version": "3.7.3"
  }
 },
 "nbformat": 4,
 "nbformat_minor": 4
}
