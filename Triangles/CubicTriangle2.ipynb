{
 "cells": [
  {
   "cell_type": "markdown",
   "metadata": {},
   "source": [
    "We compute in this worksheet the orbifold fundamental group $G_2$ of Proposition 4.3 in the paper `Torsion divisors of plane curves with maximal flexes and Zariski pairs` by E. Artal, S. Bannai, T. Shirane and H. Tokunaga. As for other groups we use the package `sirocco` by M.Á Marco and M. Rodríguez. Since we need to know which are the meridians of the irreducible components (including the line at infinity), instead of using the method `fundamental_group` we use `braid_monodromy`."
   ]
  },
  {
   "cell_type": "markdown",
   "metadata": {},
   "source": [
    "We introduce the curve. The equations are in $\\mathbb{Q}$; $f$ is the cubic, $T_1$ is the equation of one triangle (which contains the line at infinity) and $T_2$ is the equation of another triangle (this polynomial has three linear factors in an extension of $\\mathbb{Q}$)."
   ]
  },
  {
   "cell_type": "code",
   "execution_count": 2,
   "metadata": {},
   "outputs": [],
   "source": [
    "S1.<x,y>=QQ[]\n",
    "f=x^2*y+y^2+x\n",
    "T1=x*y\n",
    "T2=x^3 - 3*x*y^2 + y^3 - 3*x^2 - 3*x*y - 3*y + 1\n",
    "F=(f*T1*T2)(x=x+y)"
   ]
  },
  {
   "cell_type": "code",
   "execution_count": 3,
   "metadata": {},
   "outputs": [
    {
     "name": "stdout",
     "output_type": "stream",
     "text": [
      "CPU times: user 782 ms, sys: 1.1 s, total: 1.88 s\n",
      "Wall time: 8.92 s\n"
     ]
    }
   ],
   "source": [
    "%%time\n",
    "C=Curve(F)\n",
    "L=C.braid_monodromy()"
   ]
  },
  {
   "cell_type": "code",
   "execution_count": 4,
   "metadata": {},
   "outputs": [
    {
     "data": {
      "text/plain": [
       "15"
      ]
     },
     "execution_count": 4,
     "metadata": {},
     "output_type": "execute_result"
    }
   ],
   "source": [
    "len(L)"
   ]
  },
  {
   "cell_type": "code",
   "execution_count": 5,
   "metadata": {},
   "outputs": [],
   "source": [
    "def trconm(L):\n",
    "    A=[]\n",
    "    for j in range(len(L)):\n",
    "        if j not in A:\n",
    "            L1=[k for k in range(j+1,len(L)) if L[j]+L[k]==0]\n",
    "            if L1!=[]:\n",
    "                k=L1[0]\n",
    "                L2=[i for i in L[j+1:k] if abs(abs(i)-abs(L[j]))<2]\n",
    "                if L2==[]:\n",
    "                    A+=[j,k]\n",
    "    return tuple(L[j] for j in range(len(L)) if j not in A)\n",
    "\n",
    "def trconm2(L0):\n",
    "    L1=[_ for _ in L0]\n",
    "    L2=trconm(L1)\n",
    "    while len(L2)<len(L1):\n",
    "        L1=[_ for _ in L2]\n",
    "        L2=trconm(L1)\n",
    "    return(L2)\n",
    "\n",
    "def romper(L0):\n",
    "    c0=()\n",
    "    b0=L0\n",
    "    while b0[0]+b0[-1]==0:\n",
    "        c0=c0+(b0[0],)\n",
    "        b0=b0[1:-1]\n",
    "    return (c0,b0)"
   ]
  },
  {
   "cell_type": "code",
   "execution_count": 6,
   "metadata": {},
   "outputs": [],
   "source": [
    "F1=FreeGroup(8)\n",
    "B=BraidGroup(8)\n",
    "pares0=[]\n",
    "for aux in L:\n",
    "    aux=B(F1(aux.Tietze()).Tietze())\n",
    "    aux=B(trconm2(aux.Tietze()))\n",
    "    pares0.append(romper(aux.Tietze()))\n",
    "puiseux=[]"
   ]
  },
  {
   "cell_type": "markdown",
   "metadata": {},
   "source": [
    "We want to modify the above decomposition in order to have positive braids for the middle braids. The result will be kept in the list `puiseux`. Each element of the list `puiseux` have four entries: two braids $\\tau_1,\\tau_2$ ($\\tau_2$ is a positive algebraic braid) and two numbers $m,n$. The braid associated to the basis element is $\\tau_1\\cdot\\tau_2\\cdot\\tau_1^{-1}$; $m$ is the first strand involved in $\\tau_2$ and $n$ is the number of strands involved in $\\tau_2$.\n",
    "\n",
    "In order to keep this computations as short as possible, we need to manipulate the braids one by one."
   ]
  },
  {
   "cell_type": "code",
   "execution_count": 7,
   "metadata": {},
   "outputs": [
    {
     "name": "stdout",
     "output_type": "stream",
     "text": [
      "((1, 7, 6, 5, 4, 5, 3, 6, 7, 2, 1, 5, 6, 4, 5, -4, 6, 3, 4, 5, 6, 2, 3, 7, 4, 6, 5), (6, 4, 7, 3, 6, -7, -6, -5, 4, -7, -3, 5, -4))\n"
     ]
    }
   ],
   "source": [
    "print(pares0[0])"
   ]
  },
  {
   "cell_type": "code",
   "execution_count": 8,
   "metadata": {},
   "outputs": [
    {
     "data": {
      "text/plain": [
       "True"
      ]
     },
     "execution_count": 8,
     "metadata": {},
     "output_type": "execute_result"
    }
   ],
   "source": [
    "v=B((-6, -6, 5, 4, 3,))\n",
    "w=B([2,])\n",
    "u=L[0]\n",
    "m=1\n",
    "u==v*w^m/v"
   ]
  },
  {
   "cell_type": "code",
   "execution_count": 9,
   "metadata": {},
   "outputs": [],
   "source": [
    "puiseux.append([v,w^m,2,2])"
   ]
  },
  {
   "cell_type": "code",
   "execution_count": 10,
   "metadata": {},
   "outputs": [
    {
     "name": "stdout",
     "output_type": "stream",
     "text": [
      "((1, 7, 6, 5, 4, 5, 3, 6, 7, 2, 1, 5, 6, 4, 5, -4, 6, 3, 4, 5, 6, 2, 3, 7, 4, 6, 5, 4, -5, 3, 7, -4, 5, 6, 2, 5, 7, 4, 3, 6, -4), (5, 7, 6, 5, 5, 6, 5, 6, 6, -7))\n"
     ]
    }
   ],
   "source": [
    "print(pares0[1])"
   ]
  },
  {
   "cell_type": "code",
   "execution_count": 11,
   "metadata": {},
   "outputs": [
    {
     "data": {
      "text/plain": [
       "True"
      ]
     },
     "execution_count": 11,
     "metadata": {},
     "output_type": "execute_result"
    }
   ],
   "source": [
    "v=B((1, 7, 6, 5, 4, 3, 6, 7, 5, 6, 7, 2, 7, 6, 5, 4, 3, -6, 7, -6, 5, 4, 4, 5, 6, 7,))\n",
    "w=B([5, 6, 6, 5, 6, 5, 5, 6,])\n",
    "u=L[1]\n",
    "m=1\n",
    "u==v*w^m/v"
   ]
  },
  {
   "cell_type": "code",
   "execution_count": 12,
   "metadata": {},
   "outputs": [],
   "source": [
    "puiseux.append([v,w^m,5,3])"
   ]
  },
  {
   "cell_type": "code",
   "execution_count": 13,
   "metadata": {},
   "outputs": [
    {
     "name": "stdout",
     "output_type": "stream",
     "text": [
      "((1, 7, 6, 5, 4, 5, 3, 6, 7, 2, 1, 5, 6, 4, 5, -4, 6, 3, 4, 5, 6, 2, 3, 7, 4, 6, 5, 4, -5, 3, 7, -4, 5, 6, 2, 5), (7, 4, 3, 6, -4, 7, -6, -2, -3, -2, -6, 7, 6, 7, -6, 3, 2, 3, -6, 4, -3, -4))\n"
     ]
    }
   ],
   "source": [
    "print(pares0[2])"
   ]
  },
  {
   "cell_type": "code",
   "execution_count": 14,
   "metadata": {},
   "outputs": [
    {
     "data": {
      "text/plain": [
       "True"
      ]
     },
     "execution_count": 14,
     "metadata": {},
     "output_type": "execute_result"
    }
   ],
   "source": [
    "v=B((-6, -6, 5, 5, 4,))\n",
    "w=B([3])\n",
    "u=L[2]\n",
    "m=2\n",
    "u==v*w^m/v"
   ]
  },
  {
   "cell_type": "code",
   "execution_count": 15,
   "metadata": {},
   "outputs": [],
   "source": [
    "puiseux.append([v,w^m,3,2])"
   ]
  },
  {
   "cell_type": "code",
   "execution_count": 16,
   "metadata": {},
   "outputs": [
    {
     "name": "stdout",
     "output_type": "stream",
     "text": [
      "((1, 7, 6, 5, 4, 5, 3, 6, 7, 2, 1, 5, 6, 4, 5, -4, 6, 3, 4, 5, 6, 2, 3, 7, 4, 6, 5, 4, -5, 3, 7, -4, 5, 6, 2, 5), (4, 3, -4, -3, -2, -3, -4, 3, 4, 3, 2, 3))\n"
     ]
    }
   ],
   "source": [
    "print(pares0[3])"
   ]
  },
  {
   "cell_type": "code",
   "execution_count": 17,
   "metadata": {},
   "outputs": [
    {
     "data": {
      "text/plain": [
       "True"
      ]
     },
     "execution_count": 17,
     "metadata": {},
     "output_type": "execute_result"
    }
   ],
   "source": [
    "v=B((1, -6, -6, -6, -5, 4, 2,))\n",
    "w=B([3, ])\n",
    "u=L[3]\n",
    "m=2\n",
    "u==v*w^m/v"
   ]
  },
  {
   "cell_type": "code",
   "execution_count": 18,
   "metadata": {
    "tags": []
   },
   "outputs": [],
   "source": [
    "puiseux.append([v,w^m,3,2])"
   ]
  },
  {
   "cell_type": "code",
   "execution_count": 19,
   "metadata": {},
   "outputs": [
    {
     "name": "stdout",
     "output_type": "stream",
     "text": [
      "((1, 7, 6, 5, 4, 5, 3, 6, 7, 2, 1, 5, 6, 4, 5, -4, 6, 3, 4, 5, 6, 2, 3, 7, 4, 6, 5, 4, -5, 3, 7, -4), (5, 6, 2, 5, 6, -3, -2, -3, 6, 5, 2, 6, 5, 3))\n"
     ]
    }
   ],
   "source": [
    "print(pares0[4])"
   ]
  },
  {
   "cell_type": "code",
   "execution_count": 20,
   "metadata": {},
   "outputs": [
    {
     "data": {
      "text/plain": [
       "True"
      ]
     },
     "execution_count": 20,
     "metadata": {},
     "output_type": "execute_result"
    }
   ],
   "source": [
    "v=B((1, 7, 6, 5, 4, 5, 3, 2, 5, 6, 7, 5, 4, 6, 5, -4, 3, 4, 5, 6, 5, 4, 6, 7))\n",
    "w=B([6, 5, 6, 5, 6, 6, 6, 5])\n",
    "u=L[4]\n",
    "m=1\n",
    "u==v*w^m/v"
   ]
  },
  {
   "cell_type": "code",
   "execution_count": 21,
   "metadata": {},
   "outputs": [],
   "source": [
    "puiseux.append([v,w^m,5,3])"
   ]
  },
  {
   "cell_type": "code",
   "execution_count": 22,
   "metadata": {},
   "outputs": [
    {
     "name": "stdout",
     "output_type": "stream",
     "text": [
      "((1, 7, 6, 5, 4, 5, 3, 6, 7, 2, 1, 5, 6, 4, 5, -4, 6, 3, 4, 5, 6, 2), (3, 7, 4, 6, 5, 4, -5, 3, 7, -4, -3, -4, 7, -5, -6, -7))\n"
     ]
    }
   ],
   "source": [
    "print(pares0[5])"
   ]
  },
  {
   "cell_type": "code",
   "execution_count": 23,
   "metadata": {},
   "outputs": [
    {
     "data": {
      "text/plain": [
       "True"
      ]
     },
     "execution_count": 23,
     "metadata": {},
     "output_type": "execute_result"
    }
   ],
   "source": [
    "v=B((1,   ))\n",
    "w=B([2])\n",
    "u=L[5]\n",
    "m=2\n",
    "u==v*w^m/v"
   ]
  },
  {
   "cell_type": "code",
   "execution_count": 24,
   "metadata": {},
   "outputs": [],
   "source": [
    "puiseux.append([v,w^m,2,2])"
   ]
  },
  {
   "cell_type": "code",
   "execution_count": 25,
   "metadata": {},
   "outputs": [
    {
     "name": "stdout",
     "output_type": "stream",
     "text": [
      "((1, 7, 6, 5, 4, 5, 3, 6, 7, 2, 5, 6, 4, 5, -4, 6, 3, 4), (5, 6, 7, 6, 5, -7, 4, -5, -6, -5, -7))\n"
     ]
    }
   ],
   "source": [
    "print(pares0[6])"
   ]
  },
  {
   "cell_type": "code",
   "execution_count": 26,
   "metadata": {},
   "outputs": [
    {
     "data": {
      "text/plain": [
       "True"
      ]
     },
     "execution_count": 26,
     "metadata": {},
     "output_type": "execute_result"
    }
   ],
   "source": [
    "v=B((-6, 4, 5,  ))\n",
    "w=B([6])\n",
    "u=L[6]\n",
    "m=1\n",
    "u==v*w^m/v"
   ]
  },
  {
   "cell_type": "code",
   "execution_count": 27,
   "metadata": {},
   "outputs": [],
   "source": [
    "puiseux.append([v,w^m,6,2])"
   ]
  },
  {
   "cell_type": "code",
   "execution_count": 28,
   "metadata": {},
   "outputs": [
    {
     "name": "stdout",
     "output_type": "stream",
     "text": [
      "((1, 7, 6, 5, 4, 5, 3, 6, 7, 2, 1, 5, 6), (4, -7, 2, -6, -5, -4, 3, -5, 4, 5, -2, 6, 7))\n"
     ]
    }
   ],
   "source": [
    "print(pares0[7])"
   ]
  },
  {
   "cell_type": "code",
   "execution_count": 29,
   "metadata": {},
   "outputs": [
    {
     "data": {
      "text/plain": [
       "True"
      ]
     },
     "execution_count": 29,
     "metadata": {},
     "output_type": "execute_result"
    }
   ],
   "source": [
    "v=B((1, 7, 6, 5, -3, 4, 1,  ))\n",
    "w=B([  2,])\n",
    "u=L[7]\n",
    "m=1\n",
    "u==v*w^m/v"
   ]
  },
  {
   "cell_type": "code",
   "execution_count": 30,
   "metadata": {},
   "outputs": [],
   "source": [
    "puiseux.append([v,w^m,2,2])"
   ]
  },
  {
   "cell_type": "code",
   "execution_count": 31,
   "metadata": {},
   "outputs": [
    {
     "name": "stdout",
     "output_type": "stream",
     "text": [
      "((1, 7, 6, 5, 4, 5, 3, 6, 7, 2, 1, 5, 6, -7, -6, 2, -5, -4, 5, -3), (4,))\n"
     ]
    }
   ],
   "source": [
    "print(pares0[8])"
   ]
  },
  {
   "cell_type": "code",
   "execution_count": 32,
   "metadata": {},
   "outputs": [
    {
     "data": {
      "text/plain": [
       "True"
      ]
     },
     "execution_count": 32,
     "metadata": {},
     "output_type": "execute_result"
    }
   ],
   "source": [
    "v=B((1, 5, 4,  1, -2,))\n",
    "w=B([  3,])\n",
    "u=L[8]\n",
    "m=1\n",
    "u==v*w^m/v"
   ]
  },
  {
   "cell_type": "code",
   "execution_count": 33,
   "metadata": {},
   "outputs": [],
   "source": [
    "puiseux.append([v,w^m,3,2])"
   ]
  },
  {
   "cell_type": "code",
   "execution_count": 34,
   "metadata": {},
   "outputs": [
    {
     "name": "stdout",
     "output_type": "stream",
     "text": [
      "((7, 6, 5, 4, 5, 6), (7, 5, 6, -7, -6, -5, -6, -7, 6, 7, 6, 5, 6, -5))\n"
     ]
    }
   ],
   "source": [
    "print(pares0[9])"
   ]
  },
  {
   "cell_type": "code",
   "execution_count": 35,
   "metadata": {},
   "outputs": [
    {
     "data": {
      "text/plain": [
       "True"
      ]
     },
     "execution_count": 35,
     "metadata": {},
     "output_type": "execute_result"
    }
   ],
   "source": [
    "v=B((-6, ))\n",
    "w=B([ 5, ])\n",
    "u=L[9]\n",
    "m=2\n",
    "u==v*w^m/v"
   ]
  },
  {
   "cell_type": "code",
   "execution_count": 36,
   "metadata": {},
   "outputs": [],
   "source": [
    "puiseux.append([v,w^m,5,2])"
   ]
  },
  {
   "cell_type": "code",
   "execution_count": 37,
   "metadata": {},
   "outputs": [
    {
     "name": "stdout",
     "output_type": "stream",
     "text": [
      "((), (1, 7, 6, 5, 4, 5, 3, 6, 2, 1, 5, -6, 2, -5, 2, -6, 5, 1, 2, 6, 5, -6, 1, -5, -6, -3, -4, -5, -6, -7))\n"
     ]
    }
   ],
   "source": [
    "print(pares0[10])"
   ]
  },
  {
   "cell_type": "code",
   "execution_count": 38,
   "metadata": {},
   "outputs": [
    {
     "data": {
      "text/plain": [
       "True"
      ]
     },
     "execution_count": 38,
     "metadata": {},
     "output_type": "execute_result"
    }
   ],
   "source": [
    "v=B(( 7, 6, 5, 4, 3,))\n",
    "w=B([1,  2, 1, 2, 2, 1, 2, 1,  ])\n",
    "u=L[10]\n",
    "m=1\n",
    "u==v*w^m/v"
   ]
  },
  {
   "cell_type": "code",
   "execution_count": 39,
   "metadata": {},
   "outputs": [],
   "source": [
    "puiseux.append([v,w^m,1,3])"
   ]
  },
  {
   "cell_type": "code",
   "execution_count": 40,
   "metadata": {},
   "outputs": [
    {
     "name": "stdout",
     "output_type": "stream",
     "text": [
      "((7, 6, 5, 4), (3, 3))\n"
     ]
    }
   ],
   "source": [
    "print(pares0[11])"
   ]
  },
  {
   "cell_type": "code",
   "execution_count": 41,
   "metadata": {},
   "outputs": [
    {
     "data": {
      "text/plain": [
       "True"
      ]
     },
     "execution_count": 41,
     "metadata": {},
     "output_type": "execute_result"
    }
   ],
   "source": [
    "v=B(( 7, 6, 5, 4, ))\n",
    "w=B([3,  ])\n",
    "u=L[11]\n",
    "m=2\n",
    "u==v*w^m/v"
   ]
  },
  {
   "cell_type": "code",
   "execution_count": 42,
   "metadata": {},
   "outputs": [],
   "source": [
    "puiseux.append([v,w^m,1,3])"
   ]
  },
  {
   "cell_type": "code",
   "execution_count": 43,
   "metadata": {},
   "outputs": [
    {
     "name": "stdout",
     "output_type": "stream",
     "text": [
      "((7, 6, 5), (4, 6, 5, 4, -5, -5, -6))\n"
     ]
    }
   ],
   "source": [
    "print(pares0[12])"
   ]
  },
  {
   "cell_type": "code",
   "execution_count": 44,
   "metadata": {},
   "outputs": [
    {
     "data": {
      "text/plain": [
       "True"
      ]
     },
     "execution_count": 44,
     "metadata": {},
     "output_type": "execute_result"
    }
   ],
   "source": [
    "v=B(( 7, 6, 6, 5, ))\n",
    "w=B([4 ])\n",
    "u=L[12]\n",
    "m=1\n",
    "u==v*w^m/v"
   ]
  },
  {
   "cell_type": "code",
   "execution_count": 45,
   "metadata": {},
   "outputs": [],
   "source": [
    "puiseux.append([v,w^m,4,2])"
   ]
  },
  {
   "cell_type": "code",
   "execution_count": 46,
   "metadata": {},
   "outputs": [
    {
     "name": "stdout",
     "output_type": "stream",
     "text": [
      "((7,), (6, 5, 6, 5, 5, 6, 5, 6))\n"
     ]
    }
   ],
   "source": [
    "print(pares0[13])"
   ]
  },
  {
   "cell_type": "code",
   "execution_count": 47,
   "metadata": {},
   "outputs": [
    {
     "data": {
      "text/plain": [
       "True"
      ]
     },
     "execution_count": 47,
     "metadata": {},
     "output_type": "execute_result"
    }
   ],
   "source": [
    "v=B(( 7,))\n",
    "w=B([6, 5, 6, 5, 5, 6, 5, 6 ])\n",
    "u=L[13]\n",
    "m=1\n",
    "u==v*w^m/v"
   ]
  },
  {
   "cell_type": "code",
   "execution_count": 48,
   "metadata": {},
   "outputs": [],
   "source": [
    "puiseux.append([v,w^m,6,3])"
   ]
  },
  {
   "cell_type": "code",
   "execution_count": 49,
   "metadata": {},
   "outputs": [
    {
     "name": "stdout",
     "output_type": "stream",
     "text": [
      "((), (7, 7))\n"
     ]
    }
   ],
   "source": [
    "print(pares0[14])"
   ]
  },
  {
   "cell_type": "code",
   "execution_count": 50,
   "metadata": {},
   "outputs": [
    {
     "data": {
      "text/plain": [
       "True"
      ]
     },
     "execution_count": 50,
     "metadata": {},
     "output_type": "execute_result"
    }
   ],
   "source": [
    "v=B(( ))\n",
    "w=B([7 ])\n",
    "u=L[14]\n",
    "m=2\n",
    "u==v*w^m/v"
   ]
  },
  {
   "cell_type": "code",
   "execution_count": 51,
   "metadata": {},
   "outputs": [],
   "source": [
    "puiseux.append([v,w^m,7,2])"
   ]
  },
  {
   "cell_type": "markdown",
   "metadata": {},
   "source": [
    "The following cell shows the fifteen braids of the braid monodromy. We give to braids $\\alpha,\\beta$ and the braid is $\\alpha\\cdot\\beta\\cdot\\alpha^{-1}$."
   ]
  },
  {
   "cell_type": "code",
   "execution_count": 52,
   "metadata": {},
   "outputs": [
    {
     "name": "stdout",
     "output_type": "stream",
     "text": [
      "1\n"
     ]
    },
    {
     "data": {
      "text/html": [
       "<html>\\(\\displaystyle \\sigma_{6}^{-1}\\sigma_{6}^{-1}\\sigma_{5}\\sigma_{4}\\sigma_{3}\\)</html>"
      ],
      "text/latex": [
       "$\\displaystyle \\sigma_{6}^{-1}\\sigma_{6}^{-1}\\sigma_{5}\\sigma_{4}\\sigma_{3}$"
      ],
      "text/plain": [
       "s5^-2*s4*s3*s2"
      ]
     },
     "metadata": {},
     "output_type": "display_data"
    },
    {
     "data": {
      "text/html": [
       "<html>\\(\\displaystyle \\sigma_{2}\\)</html>"
      ],
      "text/latex": [
       "$\\displaystyle \\sigma_{2}$"
      ],
      "text/plain": [
       "s1"
      ]
     },
     "metadata": {},
     "output_type": "display_data"
    },
    {
     "name": "stdout",
     "output_type": "stream",
     "text": [
      "2\n"
     ]
    },
    {
     "data": {
      "text/html": [
       "<html>\\(\\displaystyle \\sigma_{1}\\sigma_{7}\\sigma_{6}\\sigma_{5}\\sigma_{4}\\sigma_{3}\\sigma_{6}\\sigma_{7}\\sigma_{5}\\sigma_{6}\\sigma_{7}\\sigma_{2}\\sigma_{7}\\sigma_{6}\\sigma_{5}\\sigma_{4}\\sigma_{3}\\sigma_{6}^{-1}\\sigma_{7}\\sigma_{6}^{-1}\\sigma_{5}\\sigma_{4}\\sigma_{4}\\sigma_{5}\\sigma_{6}\\sigma_{7}\\)</html>"
      ],
      "text/latex": [
       "$\\displaystyle \\sigma_{1}\\sigma_{7}\\sigma_{6}\\sigma_{5}\\sigma_{4}\\sigma_{3}\\sigma_{6}\\sigma_{7}\\sigma_{5}\\sigma_{6}\\sigma_{7}\\sigma_{2}\\sigma_{7}\\sigma_{6}\\sigma_{5}\\sigma_{4}\\sigma_{3}\\sigma_{6}^{-1}\\sigma_{7}\\sigma_{6}^{-1}\\sigma_{5}\\sigma_{4}\\sigma_{4}\\sigma_{5}\\sigma_{6}\\sigma_{7}$"
      ],
      "text/plain": [
       "s0*s6*s5*s4*s3*s2*s5*s6*s4*s5*s6*s1*s6*s5*s4*s3*s2*s5^-1*s6*s5^-1*s4*s3^2*s4*s5*s6"
      ]
     },
     "metadata": {},
     "output_type": "display_data"
    },
    {
     "data": {
      "text/html": [
       "<html>\\(\\displaystyle \\sigma_{5}\\sigma_{6}\\sigma_{6}\\sigma_{5}\\sigma_{6}\\sigma_{5}\\sigma_{5}\\sigma_{6}\\)</html>"
      ],
      "text/latex": [
       "$\\displaystyle \\sigma_{5}\\sigma_{6}\\sigma_{6}\\sigma_{5}\\sigma_{6}\\sigma_{5}\\sigma_{5}\\sigma_{6}$"
      ],
      "text/plain": [
       "s4*s5*(s5*s4)^2*s4*s5"
      ]
     },
     "metadata": {},
     "output_type": "display_data"
    },
    {
     "name": "stdout",
     "output_type": "stream",
     "text": [
      "3\n"
     ]
    },
    {
     "data": {
      "text/html": [
       "<html>\\(\\displaystyle \\sigma_{6}^{-1}\\sigma_{6}^{-1}\\sigma_{5}\\sigma_{5}\\sigma_{4}\\)</html>"
      ],
      "text/latex": [
       "$\\displaystyle \\sigma_{6}^{-1}\\sigma_{6}^{-1}\\sigma_{5}\\sigma_{5}\\sigma_{4}$"
      ],
      "text/plain": [
       "s5^-2*s4^2*s3"
      ]
     },
     "metadata": {},
     "output_type": "display_data"
    },
    {
     "data": {
      "text/html": [
       "<html>\\(\\displaystyle \\sigma_{3}\\sigma_{3}\\)</html>"
      ],
      "text/latex": [
       "$\\displaystyle \\sigma_{3}\\sigma_{3}$"
      ],
      "text/plain": [
       "s2^2"
      ]
     },
     "metadata": {},
     "output_type": "display_data"
    },
    {
     "name": "stdout",
     "output_type": "stream",
     "text": [
      "4\n"
     ]
    },
    {
     "data": {
      "text/html": [
       "<html>\\(\\displaystyle \\sigma_{1}\\sigma_{6}^{-1}\\sigma_{6}^{-1}\\sigma_{6}^{-1}\\sigma_{5}^{-1}\\sigma_{4}\\sigma_{2}\\)</html>"
      ],
      "text/latex": [
       "$\\displaystyle \\sigma_{1}\\sigma_{6}^{-1}\\sigma_{6}^{-1}\\sigma_{6}^{-1}\\sigma_{5}^{-1}\\sigma_{4}\\sigma_{2}$"
      ],
      "text/plain": [
       "s0*s5^-3*s4^-1*s3*s1"
      ]
     },
     "metadata": {},
     "output_type": "display_data"
    },
    {
     "data": {
      "text/html": [
       "<html>\\(\\displaystyle \\sigma_{3}\\sigma_{3}\\)</html>"
      ],
      "text/latex": [
       "$\\displaystyle \\sigma_{3}\\sigma_{3}$"
      ],
      "text/plain": [
       "s2^2"
      ]
     },
     "metadata": {},
     "output_type": "display_data"
    },
    {
     "name": "stdout",
     "output_type": "stream",
     "text": [
      "5\n"
     ]
    },
    {
     "data": {
      "text/html": [
       "<html>\\(\\displaystyle \\sigma_{1}\\sigma_{7}\\sigma_{6}\\sigma_{5}\\sigma_{4}\\sigma_{5}\\sigma_{3}\\sigma_{2}\\sigma_{5}\\sigma_{6}\\sigma_{7}\\sigma_{5}\\sigma_{4}\\sigma_{6}\\sigma_{5}\\sigma_{4}^{-1}\\sigma_{3}\\sigma_{4}\\sigma_{5}\\sigma_{6}\\sigma_{5}\\sigma_{4}\\sigma_{6}\\sigma_{7}\\)</html>"
      ],
      "text/latex": [
       "$\\displaystyle \\sigma_{1}\\sigma_{7}\\sigma_{6}\\sigma_{5}\\sigma_{4}\\sigma_{5}\\sigma_{3}\\sigma_{2}\\sigma_{5}\\sigma_{6}\\sigma_{7}\\sigma_{5}\\sigma_{4}\\sigma_{6}\\sigma_{5}\\sigma_{4}^{-1}\\sigma_{3}\\sigma_{4}\\sigma_{5}\\sigma_{6}\\sigma_{5}\\sigma_{4}\\sigma_{6}\\sigma_{7}$"
      ],
      "text/plain": [
       "s0*s6*s5*s4*s3*s4*s2*s1*s4*s5*s6*s4*s3*s5*s4*s3^-1*s2*s3*s4*s5*s4*s3*s5*s6"
      ]
     },
     "metadata": {},
     "output_type": "display_data"
    },
    {
     "data": {
      "text/html": [
       "<html>\\(\\displaystyle \\sigma_{6}\\sigma_{5}\\sigma_{6}\\sigma_{5}\\sigma_{6}\\sigma_{6}\\sigma_{6}\\sigma_{5}\\)</html>"
      ],
      "text/latex": [
       "$\\displaystyle \\sigma_{6}\\sigma_{5}\\sigma_{6}\\sigma_{5}\\sigma_{6}\\sigma_{6}\\sigma_{6}\\sigma_{5}$"
      ],
      "text/plain": [
       "(s5*s4)^2*s5^3*s4"
      ]
     },
     "metadata": {},
     "output_type": "display_data"
    },
    {
     "name": "stdout",
     "output_type": "stream",
     "text": [
      "6\n"
     ]
    },
    {
     "data": {
      "text/html": [
       "<html>\\(\\displaystyle \\sigma_{1}\\)</html>"
      ],
      "text/latex": [
       "$\\displaystyle \\sigma_{1}$"
      ],
      "text/plain": [
       "s0"
      ]
     },
     "metadata": {},
     "output_type": "display_data"
    },
    {
     "data": {
      "text/html": [
       "<html>\\(\\displaystyle \\sigma_{2}\\sigma_{2}\\)</html>"
      ],
      "text/latex": [
       "$\\displaystyle \\sigma_{2}\\sigma_{2}$"
      ],
      "text/plain": [
       "s1^2"
      ]
     },
     "metadata": {},
     "output_type": "display_data"
    },
    {
     "name": "stdout",
     "output_type": "stream",
     "text": [
      "7\n"
     ]
    },
    {
     "data": {
      "text/html": [
       "<html>\\(\\displaystyle \\sigma_{6}^{-1}\\sigma_{4}\\sigma_{5}\\)</html>"
      ],
      "text/latex": [
       "$\\displaystyle \\sigma_{6}^{-1}\\sigma_{4}\\sigma_{5}$"
      ],
      "text/plain": [
       "s5^-1*s3*s4"
      ]
     },
     "metadata": {},
     "output_type": "display_data"
    },
    {
     "data": {
      "text/html": [
       "<html>\\(\\displaystyle \\sigma_{6}\\)</html>"
      ],
      "text/latex": [
       "$\\displaystyle \\sigma_{6}$"
      ],
      "text/plain": [
       "s5"
      ]
     },
     "metadata": {},
     "output_type": "display_data"
    },
    {
     "name": "stdout",
     "output_type": "stream",
     "text": [
      "8\n"
     ]
    },
    {
     "data": {
      "text/html": [
       "<html>\\(\\displaystyle \\sigma_{1}\\sigma_{7}\\sigma_{6}\\sigma_{5}\\sigma_{3}^{-1}\\sigma_{4}\\sigma_{1}\\)</html>"
      ],
      "text/latex": [
       "$\\displaystyle \\sigma_{1}\\sigma_{7}\\sigma_{6}\\sigma_{5}\\sigma_{3}^{-1}\\sigma_{4}\\sigma_{1}$"
      ],
      "text/plain": [
       "s0*s6*s5*s4*s2^-1*s3*s0"
      ]
     },
     "metadata": {},
     "output_type": "display_data"
    },
    {
     "data": {
      "text/html": [
       "<html>\\(\\displaystyle \\sigma_{2}\\)</html>"
      ],
      "text/latex": [
       "$\\displaystyle \\sigma_{2}$"
      ],
      "text/plain": [
       "s1"
      ]
     },
     "metadata": {},
     "output_type": "display_data"
    },
    {
     "name": "stdout",
     "output_type": "stream",
     "text": [
      "9\n"
     ]
    },
    {
     "data": {
      "text/html": [
       "<html>\\(\\displaystyle \\sigma_{1}\\sigma_{5}\\sigma_{4}\\sigma_{1}\\sigma_{2}^{-1}\\)</html>"
      ],
      "text/latex": [
       "$\\displaystyle \\sigma_{1}\\sigma_{5}\\sigma_{4}\\sigma_{1}\\sigma_{2}^{-1}$"
      ],
      "text/plain": [
       "s0*s4*s3*s0*s1^-1"
      ]
     },
     "metadata": {},
     "output_type": "display_data"
    },
    {
     "data": {
      "text/html": [
       "<html>\\(\\displaystyle \\sigma_{3}\\)</html>"
      ],
      "text/latex": [
       "$\\displaystyle \\sigma_{3}$"
      ],
      "text/plain": [
       "s2"
      ]
     },
     "metadata": {},
     "output_type": "display_data"
    },
    {
     "name": "stdout",
     "output_type": "stream",
     "text": [
      "10\n"
     ]
    },
    {
     "data": {
      "text/html": [
       "<html>\\(\\displaystyle \\sigma_{6}^{-1}\\)</html>"
      ],
      "text/latex": [
       "$\\displaystyle \\sigma_{6}^{-1}$"
      ],
      "text/plain": [
       "s5^-1"
      ]
     },
     "metadata": {},
     "output_type": "display_data"
    },
    {
     "data": {
      "text/html": [
       "<html>\\(\\displaystyle \\sigma_{5}\\sigma_{5}\\)</html>"
      ],
      "text/latex": [
       "$\\displaystyle \\sigma_{5}\\sigma_{5}$"
      ],
      "text/plain": [
       "s4^2"
      ]
     },
     "metadata": {},
     "output_type": "display_data"
    },
    {
     "name": "stdout",
     "output_type": "stream",
     "text": [
      "11\n"
     ]
    },
    {
     "data": {
      "text/html": [
       "<html>\\(\\displaystyle \\sigma_{7}\\sigma_{6}\\sigma_{5}\\sigma_{4}\\sigma_{3}\\)</html>"
      ],
      "text/latex": [
       "$\\displaystyle \\sigma_{7}\\sigma_{6}\\sigma_{5}\\sigma_{4}\\sigma_{3}$"
      ],
      "text/plain": [
       "s6*s5*s4*s3*s2"
      ]
     },
     "metadata": {},
     "output_type": "display_data"
    },
    {
     "data": {
      "text/html": [
       "<html>\\(\\displaystyle \\sigma_{1}\\sigma_{2}\\sigma_{1}\\sigma_{2}\\sigma_{2}\\sigma_{1}\\sigma_{2}\\sigma_{1}\\)</html>"
      ],
      "text/latex": [
       "$\\displaystyle \\sigma_{1}\\sigma_{2}\\sigma_{1}\\sigma_{2}\\sigma_{2}\\sigma_{1}\\sigma_{2}\\sigma_{1}$"
      ],
      "text/plain": [
       "s0*(s1*s0*s1)^2*s0"
      ]
     },
     "metadata": {},
     "output_type": "display_data"
    },
    {
     "name": "stdout",
     "output_type": "stream",
     "text": [
      "12\n"
     ]
    },
    {
     "data": {
      "text/html": [
       "<html>\\(\\displaystyle \\sigma_{7}\\sigma_{6}\\sigma_{5}\\sigma_{4}\\)</html>"
      ],
      "text/latex": [
       "$\\displaystyle \\sigma_{7}\\sigma_{6}\\sigma_{5}\\sigma_{4}$"
      ],
      "text/plain": [
       "s6*s5*s4*s3"
      ]
     },
     "metadata": {},
     "output_type": "display_data"
    },
    {
     "data": {
      "text/html": [
       "<html>\\(\\displaystyle \\sigma_{3}\\sigma_{3}\\)</html>"
      ],
      "text/latex": [
       "$\\displaystyle \\sigma_{3}\\sigma_{3}$"
      ],
      "text/plain": [
       "s2^2"
      ]
     },
     "metadata": {},
     "output_type": "display_data"
    },
    {
     "name": "stdout",
     "output_type": "stream",
     "text": [
      "13\n"
     ]
    },
    {
     "data": {
      "text/html": [
       "<html>\\(\\displaystyle \\sigma_{7}\\sigma_{6}\\sigma_{6}\\sigma_{5}\\)</html>"
      ],
      "text/latex": [
       "$\\displaystyle \\sigma_{7}\\sigma_{6}\\sigma_{6}\\sigma_{5}$"
      ],
      "text/plain": [
       "s6*s5^2*s4"
      ]
     },
     "metadata": {},
     "output_type": "display_data"
    },
    {
     "data": {
      "text/html": [
       "<html>\\(\\displaystyle \\sigma_{4}\\)</html>"
      ],
      "text/latex": [
       "$\\displaystyle \\sigma_{4}$"
      ],
      "text/plain": [
       "s3"
      ]
     },
     "metadata": {},
     "output_type": "display_data"
    },
    {
     "name": "stdout",
     "output_type": "stream",
     "text": [
      "14\n"
     ]
    },
    {
     "data": {
      "text/html": [
       "<html>\\(\\displaystyle \\sigma_{7}\\)</html>"
      ],
      "text/latex": [
       "$\\displaystyle \\sigma_{7}$"
      ],
      "text/plain": [
       "s6"
      ]
     },
     "metadata": {},
     "output_type": "display_data"
    },
    {
     "data": {
      "text/html": [
       "<html>\\(\\displaystyle \\sigma_{6}\\sigma_{5}\\sigma_{6}\\sigma_{5}\\sigma_{5}\\sigma_{6}\\sigma_{5}\\sigma_{6}\\)</html>"
      ],
      "text/latex": [
       "$\\displaystyle \\sigma_{6}\\sigma_{5}\\sigma_{6}\\sigma_{5}\\sigma_{5}\\sigma_{6}\\sigma_{5}\\sigma_{6}$"
      ],
      "text/plain": [
       "s5*(s4*s5*s4)^2*s5"
      ]
     },
     "metadata": {},
     "output_type": "display_data"
    },
    {
     "name": "stdout",
     "output_type": "stream",
     "text": [
      "15\n"
     ]
    },
    {
     "data": {
      "text/html": [
       "<html>\\(\\displaystyle \\)</html>"
      ],
      "text/latex": [
       "$\\displaystyle $"
      ],
      "text/plain": [
       "1"
      ]
     },
     "metadata": {},
     "output_type": "display_data"
    },
    {
     "data": {
      "text/html": [
       "<html>\\(\\displaystyle \\sigma_{7}\\sigma_{7}\\)</html>"
      ],
      "text/latex": [
       "$\\displaystyle \\sigma_{7}\\sigma_{7}$"
      ],
      "text/plain": [
       "s6^2"
      ]
     },
     "metadata": {},
     "output_type": "display_data"
    }
   ],
   "source": [
    "m=1\n",
    "for i,j,k,l in puiseux:\n",
    "    print(m)\n",
    "    show(i)\n",
    "    show(j)\n",
    "    m+=1"
   ]
  },
  {
   "cell_type": "markdown",
   "metadata": {},
   "source": [
    "We have all the Puiseux decompositions of the braids. We need to identify to which component each meridian belongs. We see that the generators $\\mu_2,\\mu_4,\\mu_6$ correspond to the cubic. The other ones (and the meridian at infinity) correspond to the lines. We may distinguish the two triangles but we will do it later. This is done looking at the orbits by the monodromy action.\n",
    "\n",
    "We start with the free group corresponding to the fundamental group of the complement of the curve in a vertical line. We add the orbifold relations: the cubes of the meridians of the lines and the 9th power of the meridian of the cubic."
   ]
  },
  {
   "cell_type": "code",
   "execution_count": 55,
   "metadata": {},
   "outputs": [
    {
     "name": "stdout",
     "output_type": "stream",
     "text": [
      "[[1], [2, 4, 6], [3], [5], [7], [8]]\n"
     ]
    }
   ],
   "source": [
    "permutaciones=PermutationGroup([_.permutation() for _ in L])\n",
    "print(permutaciones.orbits())\n",
    "FL8=FreeGroup(8)\n",
    "L8=[FL8(_)^3 for _ in [[1], [3], [5], [7], [8], [1..8]]]+[FL8([2])^9]"
   ]
  },
  {
   "cell_type": "markdown",
   "metadata": {},
   "source": [
    "We add the relations of the braid monodromy using the Puiseux decomposition."
   ]
  },
  {
   "cell_type": "code",
   "execution_count": 56,
   "metadata": {},
   "outputs": [],
   "source": [
    "for tau1,tau2,m0,m1 in puiseux:\n",
    "    for j in [m0..m0+m1-1]:\n",
    "        v=((FL8([j])*tau2)/FL8([j]))*tau1^-1\n",
    "        L8.append(v)"
   ]
  },
  {
   "cell_type": "code",
   "execution_count": 57,
   "metadata": {},
   "outputs": [],
   "source": [
    "G=(FL8/L8)"
   ]
  },
  {
   "cell_type": "markdown",
   "metadata": {},
   "source": [
    "We simplify the presentation and we keep track of the meridians. We see that this orbifold group is finite. As it is bigger than the abelianization, the group is not abelian."
   ]
  },
  {
   "cell_type": "code",
   "execution_count": 58,
   "metadata": {},
   "outputs": [],
   "source": [
    "hom1=G.simplification_isomorphism()\n",
    "G2=hom1.codomain()"
   ]
  },
  {
   "cell_type": "code",
   "execution_count": 59,
   "metadata": {},
   "outputs": [
    {
     "data": {
      "text/plain": [
       "6561"
      ]
     },
     "execution_count": 59,
     "metadata": {},
     "output_type": "execute_result"
    }
   ],
   "source": [
    "G2.order()"
   ]
  },
  {
   "cell_type": "code",
   "execution_count": 60,
   "metadata": {},
   "outputs": [
    {
     "name": "stdout",
     "output_type": "stream",
     "text": [
      "(3, 3, 3, 3, 3, 9)\n"
     ]
    },
    {
     "data": {
      "text/plain": [
       "2187"
      ]
     },
     "execution_count": 60,
     "metadata": {},
     "output_type": "execute_result"
    }
   ],
   "source": [
    "ab=G2.abelian_invariants()\n",
    "print (ab)\n",
    "prod(ab)"
   ]
  },
  {
   "cell_type": "markdown",
   "metadata": {},
   "source": [
    "We express the meridians in terms of the generators of $G_2$. We denote by $w$ a meridian of the cubic and we put the commutators of the generators in a list."
   ]
  },
  {
   "cell_type": "code",
   "execution_count": 62,
   "metadata": {},
   "outputs": [
    {
     "name": "stdout",
     "output_type": "stream",
     "text": [
      "[(1,), (3,), (4,), (5,), (6,), (-6, -5, 3, 1, -2, -1, -3, -4, 1, -2, -1, -3, -2, -1), (2,)]\n"
     ]
    }
   ],
   "source": [
    "meridianos=[hom1(G(_)).Tietze() for _ in [[1],[3],[5],[7],[8],[-8..-1],[2]]]\n",
    "cnm=[G2(a)*G2(b)/G2(a)/G2(b) for a in meridianos for b in meridianos]\n",
    "w=G2(meridianos[-1])\n",
    "print(meridianos)"
   ]
  },
  {
   "cell_type": "markdown",
   "metadata": {},
   "source": [
    "We compute the derived subgroup (order $3$), we call $t$ a generator and we show its centrality (next three cells)"
   ]
  },
  {
   "cell_type": "code",
   "execution_count": 63,
   "metadata": {},
   "outputs": [
    {
     "data": {
      "text/plain": [
       "3"
      ]
     },
     "execution_count": 63,
     "metadata": {},
     "output_type": "execute_result"
    }
   ],
   "source": [
    "H=G2.subgroup(cnm)\n",
    "H.order()"
   ]
  },
  {
   "cell_type": "code",
   "execution_count": 64,
   "metadata": {},
   "outputs": [
    {
     "data": {
      "text/plain": [
       "3"
      ]
     },
     "execution_count": 64,
     "metadata": {},
     "output_type": "execute_result"
    }
   ],
   "source": [
    "t=w*G2(meridianos[0])/w/G2(meridianos[0])\n",
    "t.order()"
   ]
  },
  {
   "cell_type": "code",
   "execution_count": 67,
   "metadata": {},
   "outputs": [
    {
     "data": {
      "text/plain": [
       "True"
      ]
     },
     "execution_count": 67,
     "metadata": {},
     "output_type": "execute_result"
    }
   ],
   "source": [
    "control=True\n",
    "for a in G2.generators():\n",
    "    control=control and a*t/a/t==G2.one()\n",
    "control"
   ]
  },
  {
   "cell_type": "markdown",
   "metadata": {},
   "source": [
    "We check that the commutators of the meridians of the lines and the meridian of the cubic are of order $3$ and check that all are equal to $t$."
   ]
  },
  {
   "cell_type": "code",
   "execution_count": 69,
   "metadata": {},
   "outputs": [
    {
     "name": "stdout",
     "output_type": "stream",
     "text": [
      "3 True\n",
      "3 True\n",
      "3 True\n",
      "3 True\n",
      "3 True\n",
      "3 True\n"
     ]
    }
   ],
   "source": [
    "for a in meridianos[:-1]:\n",
    "    a1=G2(a)\n",
    "    c=w*a1/w/a1\n",
    "    print(c.order(),c==t)"
   ]
  },
  {
   "cell_type": "markdown",
   "metadata": {},
   "source": [
    "We check that the commutators of the meridians of the lines and the meridian of the cubic are of order $3$."
   ]
  },
  {
   "cell_type": "code",
   "execution_count": 73,
   "metadata": {},
   "outputs": [
    {
     "name": "stdout",
     "output_type": "stream",
     "text": [
      "3 True\n",
      "3 True\n",
      "3 True\n",
      "3 True\n",
      "3 True\n",
      "3 True\n"
     ]
    }
   ],
   "source": [
    "for a in meridianos[:-1]:\n",
    "    a1=G1(a)\n",
    "    c=w*a1/w/a1\n",
    "    print(c.order(),c==t)"
   ]
  },
  {
   "cell_type": "markdown",
   "metadata": {},
   "source": [
    "We need to check to which triangle are associated the meridians of the lines. "
   ]
  },
  {
   "cell_type": "code",
   "execution_count": 72,
   "metadata": {},
   "outputs": [
    {
     "name": "stdout",
     "output_type": "stream",
     "text": [
      "0 1\n",
      "0 3\n",
      "0 5\n",
      "1 2\n",
      "1 4\n",
      "2 3\n",
      "2 5\n",
      "3 4\n",
      "4 5\n"
     ]
    }
   ],
   "source": [
    "for i,j in Combinations(6,2):\n",
    "    a=G2(meridianos[i])\n",
    "    b=G2(meridianos[j])\n",
    "    u=a*b/a/b\n",
    "    if u==G2.one():\n",
    "        print(i,j)"
   ]
  },
  {
   "cell_type": "markdown",
   "metadata": {},
   "source": [
    "Let us denote by $x_1,x_2,x_3$ the meridians corresponding to the places $0,2,4$ and by $z_1,z_2,z_3$ the meridians corresponding to the places $1,5,3$. We are going to check the presentation given in Proposition 4.3"
   ]
  },
  {
   "cell_type": "code",
   "execution_count": 79,
   "metadata": {},
   "outputs": [],
   "source": [
    "x1,x2,x3=[G2(meridianos[j]) for j in (0,2,4)]\n",
    "z1,z2,z3=[G2(meridianos[j]) for j in (1,5,3)]"
   ]
  },
  {
   "cell_type": "code",
   "execution_count": 75,
   "metadata": {},
   "outputs": [
    {
     "data": {
      "text/plain": [
       "True"
      ]
     },
     "execution_count": 75,
     "metadata": {},
     "output_type": "execute_result"
    }
   ],
   "source": [
    "control=True\n",
    "for a,b in [(x1,x2),(x2,x3),(x3,x1)]:\n",
    "    control=control and (a*b/a/b)==t\n",
    "control"
   ]
  },
  {
   "cell_type": "code",
   "execution_count": 80,
   "metadata": {},
   "outputs": [
    {
     "data": {
      "text/plain": [
       "True"
      ]
     },
     "execution_count": 80,
     "metadata": {},
     "output_type": "execute_result"
    }
   ],
   "source": [
    "control=True\n",
    "for a,b in [(z1,z2),(z2,z3),(z3,z1)]:\n",
    "    control=control and (a*b/a/b)==t\n",
    "control"
   ]
  },
  {
   "cell_type": "code",
   "execution_count": 81,
   "metadata": {},
   "outputs": [
    {
     "data": {
      "text/plain": [
       "True"
      ]
     },
     "execution_count": 81,
     "metadata": {},
     "output_type": "execute_result"
    }
   ],
   "source": [
    "control=True\n",
    "for a in [x1,x2,x3]:\n",
    "    for b in [z1,z2,z3]:\n",
    "        control=control and (a*b/a/b).order()==1\n",
    "control"
   ]
  },
  {
   "cell_type": "code",
   "execution_count": 82,
   "metadata": {},
   "outputs": [
    {
     "data": {
      "text/plain": [
       "True"
      ]
     },
     "execution_count": 82,
     "metadata": {},
     "output_type": "execute_result"
    }
   ],
   "source": [
    "control=True\n",
    "for a in [x1,x2,x3,z1,z2,z3]:\n",
    "    control=control and w*a/w/a==t\n",
    "control"
   ]
  },
  {
   "cell_type": "markdown",
   "metadata": {},
   "source": [
    "We have proved that $G_2$ has the following properties.\n",
    "- It fits in a short exact sequence\n",
    "$$\n",
    "1\\longrightarrow\\mathbb{Z}/3\\longrightarrow G_1\\longrightarrow\\left(\\mathbb{Z}/3\\right)^5\\times\\mathbb{Z}/9\n",
    "\\longrightarrow 1\n",
    "$$\n",
    "where the kernel is $G'_2$ and the extension is central and the cokernel is presented as the abelian group \n",
    "generated by $x_1,x_2,x_3,z_1,z_2,z_3,w$, where\n",
    "$$\n",
    "x_i^3=y_i^3=w^9=x_1\\cdot x_2\\cdot x_3\\cdot z_1\\cdot z_2\\cdot z_3\\cdot w=1.\n",
    "$$\n",
    "- It is generated by $x_1,x_2,x_3,z_1,z_2,z_3,w,t$ with the following relations:\n",
    "    * $t^3=1$\n",
    "    * $[t,x_i]=[t,z_i]=[t,w]=1$\n",
    "    * $x_i^3=z_i^3=w^9=1$\n",
    "    * $x_1\\cdot x_2\\cdot x_3\\cdot z_1\\cdot z_2\\cdot z_3\\cdot w=t$\n",
    "    * $[x_1,x_2]=[x_2,x_3]=[x_3,x_1]=[z_1,z_2]=[z_2,z_3]=[z_3,z_1]=t$\n",
    "    * $[x_i,z_j]=1$\n",
    "    * $[w,x_i]=[w,z_j]=t$\n",
    "    \n",
    "The cells below end the proof."
   ]
  },
  {
   "cell_type": "code",
   "execution_count": 83,
   "metadata": {},
   "outputs": [
    {
     "data": {
      "text/plain": [
       "True"
      ]
     },
     "execution_count": 83,
     "metadata": {},
     "output_type": "execute_result"
    }
   ],
   "source": [
    "control\n",
    "for a in [x1,x2,x3,z1,z2,z3]:\n",
    "    control=control and a^3==G2.one()\n",
    "control"
   ]
  },
  {
   "cell_type": "code",
   "execution_count": 84,
   "metadata": {},
   "outputs": [
    {
     "data": {
      "text/plain": [
       "True"
      ]
     },
     "execution_count": 84,
     "metadata": {},
     "output_type": "execute_result"
    }
   ],
   "source": [
    "w^9==G2.one()"
   ]
  },
  {
   "cell_type": "code",
   "execution_count": 86,
   "metadata": {},
   "outputs": [
    {
     "data": {
      "text/plain": [
       "True"
      ]
     },
     "execution_count": 86,
     "metadata": {},
     "output_type": "execute_result"
    }
   ],
   "source": [
    "prod([x1,x2,x3,z1,z2,z3]+3*[w])==t"
   ]
  }
 ],
 "metadata": {
  "kernelspec": {
   "display_name": "SageMath 9.6",
   "language": "sage",
   "name": "sagemath"
  },
  "language_info": {
   "codemirror_mode": {
    "name": "ipython",
    "version": 3
   },
   "file_extension": ".py",
   "mimetype": "text/x-python",
   "name": "python",
   "nbconvert_exporter": "python",
   "pygments_lexer": "ipython3",
   "version": "3.10.6"
  }
 },
 "nbformat": 4,
 "nbformat_minor": 4
}
