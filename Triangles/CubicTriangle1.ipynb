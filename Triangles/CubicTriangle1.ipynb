{
 "cells": [
  {
   "cell_type": "markdown",
   "metadata": {},
   "source": [
    "We compute in this worksheet the orbifold fundamental group $G_1$ of Proposition 4.3 in the paper `Torsion divisors of plane curves with maximal flexes and Zariski pairs` by E. Artal, S. Bannai, T. Shirane and H. Tokunaga. As for other groups we use the package `sirocco` by M.Á Marco and M. Rodríguez. Since we need to know which are the meridians of the irreducible components (including the line at infinity), instead of using the method `fundamental_group` we need to use internal functions of `sirocco` in order to obtain the braid monodromy for a projection. In order to do that, we need to use some functions constructed by C. Alquézar, which will be part of `sirocco` in forthcoming versions. They are introduced in the next cell, which is hidden (click at the three points to see it)."
   ]
  },
  {
   "cell_type": "code",
   "execution_count": null,
   "metadata": {
    "jupyter": {
     "source_hidden": true
    }
   },
   "outputs": [],
   "source": [
    "from sage.schemes.curves import zariski_vankampen as zv\n",
    "\n",
    "import numpy as np\n",
    "\n",
    "from matplotlib import pyplot as plt\n",
    "\n",
    "from scipy.spatial import Voronoi, voronoi_plot_2d\n",
    "\n",
    "import copy\n",
    "\n",
    "def get_voronoi(points):\n",
    "    discpoints = np.array([(CC(a).real(), CC(a).imag()) for a in points])\n",
    "    added_points = 3 * abs(discpoints).max() + 1.0\n",
    "    configuration = np.vstack([discpoints, np.array([[added_points, 0], [-added_points, 0],\n",
    "                                               [0, added_points], [0, -added_points]])])\n",
    "    V = Voronoi(configuration)\n",
    "    return (V)\n",
    "\n",
    "class Graph:\n",
    "\n",
    "    def __init__(self, vor, clockwise=False):\n",
    "        r\"\"\"\n",
    "            Constructor\n",
    "        \"\"\"\n",
    "        self.vertices = np.array(copy.deepcopy(vor.vertices))\n",
    "        self.edges = [copy.deepcopy(x) for x in vor.ridge_vertices if -1 not in x]\n",
    "        self.regions = [copy.deepcopy(x) for x in vor.regions if -1 not in x]\n",
    "        self.regions = [copy.deepcopy(x) for x in self.regions if x]  # remove empty list\n",
    "        self.sort_all_regions(clockwise)\n",
    "        self.boundary = self.get_boundary_vertices(clockwise)\n",
    "        self.plot = False\n",
    "        self.fix_axes = True\n",
    "\n",
    "    def copy(self):\n",
    "        return (copy.deepcopy(self))\n",
    "\n",
    "#     def get_boundary_graph(self):\n",
    "\n",
    "#         vertices = self.vertices\n",
    "#         edges = self.get_boundary_edges()\n",
    "#         regions = [self.get_boundary_vertices()]\n",
    "#         data = []\n",
    "#         return Graph(data)\n",
    "\n",
    "    def get_boundary_edges(self):\n",
    "        r\"\"\"\n",
    "            Return\n",
    "        \"\"\"\n",
    "        boundary = []\n",
    "        for e in self.edges:\n",
    "            count = 0\n",
    "            for r in self.regions:\n",
    "                if self.is_in_region(e, r):\n",
    "                    count += 1\n",
    "                if count > 1:\n",
    "                    break\n",
    "            if count < 2:\n",
    "                boundary.append(e)\n",
    "        return (boundary)\n",
    "\n",
    "    def get_boundary_vertices(self, clockwise=False):\n",
    "        r\"\"\"\n",
    "            Return\n",
    "        \"\"\"\n",
    "        vertices = []\n",
    "        for e in self.get_boundary_edges():\n",
    "            vertices += e\n",
    "        boundary = list(set(vertices)) # remove redundancies\n",
    "        boundary = self.sort_region_vertices(boundary, clockwise)\n",
    "        return (boundary)\n",
    "\n",
    "#     def get_envelope(self):\n",
    "#         r\"\"\"\n",
    "#             Return the smallest square that contains the graph\n",
    "#         \"\"\"\n",
    "#         vmin = np.amin(self.vertices)\n",
    "#         vmax = np.amax(self.vertices)\n",
    "#         # corners\n",
    "#         bottom_left = [vmin, vmin]\n",
    "#         bottom_right = [vmin, vmax]\n",
    "#         top_left = [vmin, vmax]\n",
    "#         top_right = [vmax, vmax]\n",
    "#         # list of corners\n",
    "#         points = []\n",
    "#         points.append(bottom_left)\n",
    "#         points.append(bottom_right)\n",
    "#         points.append(top_right)\n",
    "#         points.append(top_left)\n",
    "#         return points\n",
    "\n",
    "    def is_in_region(self, edge, region):\n",
    "        r\"\"\"\n",
    "            Return true if the edge is in the boundary of the region\n",
    "        \"\"\"\n",
    "        isIn = True\n",
    "        for v in edge:\n",
    "            if v not in region:\n",
    "                isIn = False\n",
    "                break\n",
    "        return (isIn)\n",
    "\n",
    "    def get_region_boundary(self, region):\n",
    "        edges = []\n",
    "        for i in range(len(region)-1):\n",
    "            vertex1 = region[i]\n",
    "            for j in range(i+1, len(region)):\n",
    "                vertex2 = region[j]\n",
    "                edge = [vertex1, vertex2] if vertex1 < vertex2 else [vertex2, vertex1]\n",
    "                if edge in self.edges:\n",
    "                    edges.append(edge)\n",
    "        return (edges)\n",
    "\n",
    "    def get_region_coords(self, region):\n",
    "\n",
    "        coords = []\n",
    "        for v in region:\n",
    "            coords.append(self.vertices[v])\n",
    "        return (coords)\n",
    "\n",
    "    def is_ccw(self, region):\n",
    "        coords = self.get_region_coords(region)\n",
    "        coords1= copy.deepcopy(coords)\n",
    "        miny=min([_[1] for _ in coords1])\n",
    "        for a in coords1:\n",
    "            a[1]=a[1]-miny+1\n",
    "        sum = 0\n",
    "        for i in range(len(coords1)):\n",
    "            p0 = coords1[i]\n",
    "            p1 = coords1[(i+1)%len(coords1)]\n",
    "            sum += (p1[0]-p0[0])*(p1[1]+p0[0])\n",
    "        return (sum < 0)\n",
    "\n",
    "#     def is_ccw(self, region):\n",
    "#         coords = self.get_region_coords(region)\n",
    "#         ring = LinearRing(coords)\n",
    "#         if ring.is_ccw:\n",
    "#             return True\n",
    "#         else:\n",
    "#             return False\n",
    "\n",
    "    def get_regions_by_edge(self, e):\n",
    "\n",
    "        if e[1] < e[0]:\n",
    "            e.reverse()\n",
    "        regions = []\n",
    "        for r in self.regions:\n",
    "            boundary = self.get_region_boundary(r)\n",
    "            if e in boundary:\n",
    "                regions.append(r)\n",
    "                if len(regions) == 2:\n",
    "                    break\n",
    "        return (regions)\n",
    "\n",
    "    def get_consecutive_edge(self, edge, common_vertex, list_edges):\n",
    "        for e in list_edges:\n",
    "            if e != edge and common_vertex in e:\n",
    "                return (e)\n",
    "\n",
    "    def remove_edge(self,edge):\n",
    "        self.edges.remove(edge)\n",
    "\n",
    "    def remove_region(self, region, edge):\n",
    "        new_graph = self.copy()\n",
    "        if region in new_graph.regions:\n",
    "            graph_boundary = new_graph.get_boundary_edges()\n",
    "            region_boundary = new_graph.get_region_boundary(region)\n",
    "            candidates = []\n",
    "            for e in region_boundary:\n",
    "                if e in graph_boundary:\n",
    "                    candidates += [e]\n",
    "            connectedToEdge = [edge]\n",
    "            findmore = True\n",
    "            while findmore:\n",
    "                findmore = False\n",
    "                for e in connectedToEdge:\n",
    "                    if e in candidates:\n",
    "                        candidates.remove(e)\n",
    "                for e1 in connectedToEdge:\n",
    "                    aux = [e for e in candidates if e1[0] in e or e1[1] in e]\n",
    "                if len(aux) > 0:\n",
    "                    findmore = True\n",
    "                connectedToEdge += aux\n",
    "            for e in connectedToEdge:\n",
    "                if e in new_graph.edges:\n",
    "                    new_graph.edges.remove(e)\n",
    "            new_graph.regions.remove(region)\n",
    "\n",
    "        return (new_graph)\n",
    "\n",
    "    def sort_region_vertices(self, region, clockwise=False):\n",
    "\n",
    "        # firts get the region boundary\n",
    "        edges = self.get_region_boundary(region)\n",
    "        # select the first edge of the list\n",
    "        e = edges[0]\n",
    "        # create the new list (initially empty)\n",
    "        new_ordering = []\n",
    "        # the first vertex will be the first end of the edge 'e'\n",
    "        new_ordering.append(e[0])\n",
    "        # now follow the boundary of the region\n",
    "        next_vertex = e[1]\n",
    "        next_edge = self.get_consecutive_edge(e, next_vertex, edges)\n",
    "        #while next_vertex != new_ordering[0]:\n",
    "        while next_vertex not in new_ordering:\n",
    "            # add new vertex to list\n",
    "            new_ordering.append(next_vertex)\n",
    "            # get the other ending of the edge\n",
    "            next_vertex = next_edge[0] if next_edge[0] != next_vertex else next_edge[1]\n",
    "            next_edge = self.get_consecutive_edge(next_edge, next_vertex, edges)\n",
    "\n",
    "        if clockwise:\n",
    "            if self.is_ccw(new_ordering):\n",
    "                new_ordering.reverse()\n",
    "        else:\n",
    "            if not self.is_ccw(new_ordering):\n",
    "                new_ordering.reverse()\n",
    "\n",
    "        return (new_ordering)\n",
    "\n",
    "    def sort_all_regions(self, clockwise=False):\n",
    "        for r in range(len(self.regions)):\n",
    "            region = self.regions[r]\n",
    "            self.regions[r] = self.sort_region_vertices(region, clockwise)\n",
    "\n",
    "    def plot_graph(self, pause=0.1, color='k'):\n",
    "        r\"\"\"\n",
    "            Plot graph\n",
    "        \"\"\"\n",
    "        plt.clf()\n",
    "        plt.axis('off')\n",
    "        for e in self.edges:\n",
    "            v0 = self.vertices[e[0]]\n",
    "            v1 = self.vertices[e[1]]\n",
    "            x = [v0[0], v1[0]]\n",
    "            y = [v0[1], v1[1]]\n",
    "            vx = x[1]-x[0]\n",
    "            vy = y[1]-y[0]\n",
    "            angle = np.arctan2(vy,vx)\n",
    "            plt.plot(x, y, color=color)\n",
    "            v0 = self.vertices[e[0]]\n",
    "            v1 = self.vertices[e[1]]\n",
    "            plt.arrow(v0[0],v0[1],(v1[0]-v0[0])/2,(v1[1]-v0[1])/2,head_width=0.2, head_length=0.3, fc='k', ec='k')\n",
    "        axes = plt.gca()\n",
    "        if self.fix_axes:\n",
    "            xmin = np.amin(self.vertices[:, 0])\n",
    "            xmax = np.amax(self.vertices[:, 0])\n",
    "            ymin = np.amin(self.vertices[:, 1])\n",
    "            ymax = np.amax(self.vertices[:, 1])\n",
    "            axes.set_xlim([xmin, xmax])\n",
    "            axes.set_ylim([ymin, ymax])\n",
    "            self.fix_axes = False\n",
    "        for i in range(len(self.vertices)):\n",
    "            plt.text(self.vertices[i][0],self.vertices[i][1],str(i), fontsize=12)\n",
    "        for e in self.edges:\n",
    "            v0 = self.vertices[e[0]]\n",
    "            v1 = self.vertices[e[1]]\n",
    "            midx = (v0[0]+v1[0])/2\n",
    "            midy = (v0[1]+v1[1])/2\n",
    "            plt.text(midx,midy,str(self.edges.index(e)+1), fontsize=15)\n",
    "        \n",
    "        plt.pause(pause)\n",
    "\n",
    "def convertListEdges(ref, edges):\n",
    "    indexList = []\n",
    "    for e in edges:\n",
    "        if e in ref:\n",
    "            indexList.append(ref.index(e)+1)\n",
    "        else:\n",
    "            indexList.append(-(ref.index([e[1],e[0]])+1))\n",
    "    return (indexList)\n",
    "\n",
    "def find_basis(g, vertex_start, vertex_ending, generators=[], source_path=[], clockwise=False, initialGraph = None,count=0, plot=False):\n",
    "\n",
    "    if count == 0:\n",
    "        generators = []\n",
    "        source_path = []\n",
    "        #print(generators)\n",
    "    edge = [vertex_start, vertex_ending] if vertex_start < vertex_ending else [vertex_ending, vertex_start]\n",
    "    regions = g.get_regions_by_edge(edge)\n",
    "    if regions:\n",
    "        region = regions[0]  # only one region because the edge is on the boundary of the graph\n",
    "        if plot:\n",
    "            plt.cla()\n",
    "            initialGraph.plot_graph(pause=0.1, color=(0, 0, 0, 0.2))\n",
    "            g.plot_graph()\n",
    "        \n",
    "        ################################################################\n",
    "        index = region.index(vertex_start)\n",
    "        shift = index\n",
    "        region = np.roll(region, -shift).tolist()\n",
    "        ################################################################\n",
    "        # closed path around the region of interest\n",
    "        closedPathRegion = []\n",
    "        for w in range(len(region)):\n",
    "            w1 = region[w]\n",
    "            w2 = region[(w+1)%len(region)]\n",
    "            e = [w1, w2]\n",
    "            closedPathRegion += [e]\n",
    "        # geometric generator of the corresponding region from base point\n",
    "        generator = dict({})\n",
    "        generator['start'] = copy.deepcopy(source_path)\n",
    "        generator['region'] = closedPathRegion\n",
    "        reversedPath = copy.deepcopy(source_path)\n",
    "        reversedPath.reverse()\n",
    "        for e in reversedPath:\n",
    "            e.reverse()\n",
    "        generator['end'] = reversedPath\n",
    "        if plot:\n",
    "            for e in source_path:\n",
    "                g.colour_edge(e, pause=0.1)\n",
    "\n",
    "        if plot:\n",
    "            g.colour_region(region)\n",
    "\n",
    "        for e in closedPathRegion:\n",
    "            if plot:\n",
    "                g.colour_edge(e, pause=0.1)\n",
    "            \n",
    "        # add generator to the list of generators\n",
    "        generators += [generator]\n",
    "\n",
    "        source_path += [[vertex_start, vertex_ending]]\n",
    "        boundary_edges = g.get_boundary_edges()\n",
    "        next_edge = g.get_consecutive_edge(edge, vertex_ending, boundary_edges)\n",
    "        vertex_start = vertex_ending\n",
    "        vertex_ending = next_edge[0] if next_edge[0] != vertex_ending else next_edge[1]\n",
    "        while (g.is_in_region(next_edge, region) or len(g.get_regions_by_edge(next_edge)) == 0) and len(g.regions) > 1:\n",
    "            source_path += [[vertex_start, vertex_ending]]\n",
    "            if len(g.get_regions_by_edge(next_edge)) == 0:  # edge does not belong to any region\n",
    "                g.remove_edge(next_edge)\n",
    "            next_edge = g.get_consecutive_edge(next_edge, vertex_ending, boundary_edges)\n",
    "            vertex_start = vertex_ending\n",
    "            vertex_ending = next_edge[0] if next_edge[0] != vertex_ending else next_edge[1]\n",
    "\n",
    "        region = np.roll(region, shift).tolist()  # restore the default value of the region\n",
    "        count += 1\n",
    "        find_basis(g.remove_region(region, edge), vertex_start, vertex_ending, generators=generators, source_path=source_path, clockwise=clockwise, initialGraph=initialGraph, count=count, plot=plot)\n",
    "\n",
    "    return (generators)\n",
    "\n",
    "def get_basis(g, clockwise=False, plot=False):\n",
    "    g.sort_all_regions(clockwise)\n",
    "    boundary_vertices = g.get_boundary_vertices(clockwise)\n",
    "    v0 = boundary_vertices[0]\n",
    "    v1 = boundary_vertices[1]\n",
    "    generators = find_basis(g, v0, v1, initialGraph=g, plot=plot)\n",
    "    return (generators)\n"
   ]
  },
  {
   "cell_type": "markdown",
   "metadata": {},
   "source": [
    "We introduce the curve. The equations are in a number field; $f$ is the cubic, $T_1$ is the equation of one triangle (which contains the line at infinity) and $T_2$ is the equation of another triangle (this polynomial has three linear factors in an extension of the number field)."
   ]
  },
  {
   "cell_type": "code",
   "execution_count": null,
   "metadata": {},
   "outputs": [],
   "source": [
    "R0.<t0>=QQ[]\n",
    "p0=t0^2 - 3*t0 + 9\n",
    "a0=p0.roots(QQbar)[0][0]\n",
    "L.<u0>=NumberField(p0,embedding=a0)\n",
    "S1.<x,y>=L[]\n",
    "f=x^2*y+y^2+x\n",
    "T1=x*y\n",
    "T2=x^3 + y^3 + u0*x*y + 1\n",
    "F=(f*T1*T2)(x=x+y)"
   ]
  },
  {
   "cell_type": "markdown",
   "metadata": {},
   "source": [
    "The variable `disc` contains the points in the discriminant and the variable `segs` the edges where the braids needed to obtain the fundamental group are computed. The variable `g` contains the information of the Voronoi diagram used to compute the braids"
   ]
  },
  {
   "cell_type": "code",
   "execution_count": null,
   "metadata": {},
   "outputs": [],
   "source": [
    "disc = zv.discrim(F)\n",
    "segs = zv.segments(disc)\n",
    "g=Graph(get_voronoi(disc))"
   ]
  },
  {
   "cell_type": "markdown",
   "metadata": {},
   "source": [
    "Since we are combining the methods of `sirocco` and the new functions by C. Alquézar, we check that they are compatible."
   ]
  },
  {
   "cell_type": "code",
   "execution_count": null,
   "metadata": {},
   "outputs": [],
   "source": [
    "gv=[list(_) for _ in list(g.vertices)]\n",
    "ge=[tuple([gv[a][0]+I*gv[a][1] for a in b]) for b in g.edges]\n",
    "ge==segs"
   ]
  },
  {
   "cell_type": "markdown",
   "metadata": {},
   "source": [
    "The braids associated to the edges in `segs` (or `ge`) have been computed in a more powerful computed. The input is the list Tietze words of each braid, which are converted into actual braids."
   ]
  },
  {
   "cell_type": "code",
   "execution_count": null,
   "metadata": {},
   "outputs": [],
   "source": [
    "A=[(), (7, 6, 2, 5, 3, 4, 3, 5, 2, 6, 7), (7, 6, 7, 1, 5, 2, 4), (), (3, 6, 4, 2, 5, 1, 7, 6, 7), (6, 3, 2, -3, -6, -5, 6, 5, -2, -5), (4, -6, -7, -6, -5, -6, -5, 3, -5), (4, -3, -1, 5, -4, -2, -5), (-4, -3, -2), (6, 2, 7, 6, 5, 6), (-4, 5, -1, -3, -4), (1, 4, 5, 6), (-5, 3, -4), (4, 5, 3), (-3, 2), (7, -6, 4), (4, 6, -4, 7, 6, 4, 5, 4), (-6, -7, 6, 5, 6, -2), (5, -3, 4), (-4, 6, 7, 6, 5, 4), (-6, -4, -7), (3, -2), (4, 3, 2), (), (-1,), (-4, -5, -6, -4, -5, -3), (4, 3, 2, 1, 3, 2, -3, -4), (-5, -4, -1), (4, -6, -3, -5, 1, 2, 3, -1, -3), (5, -4, 1, 4), (3, -2, -1, -5, -3, -6), (-3, 6, -2, 5, -4, -5), (2, -5, 6, 5), (5, 4, -6, -5), (3,), (2, 5, -3), (), (-7, -6, -5, -4, -2, -5), (1, 7, 6), (-6, -1, -5, -7, 5, 4, 5, 6, 5, -4), (-4, 6, 3, 4, -7), (3, 1, 4, -3, -4, -2, -1, 4, 5, -4, -5, -7, -2), (-6, -3, -4, -7)]\n",
    "B=BraidGroup(8)\n",
    "tr1=[B(_) for _ in A]"
   ]
  },
  {
   "cell_type": "markdown",
   "metadata": {},
   "source": [
    "We produce a geometric basis for the fundamental group of the complement of the discriminant. This is done as a list of dictionnaries for the labels `'start'`, `'region'` and `'end'`. Each one is a list of integer: each integer is associated to a generator of a free group with basis the edges of the Voronoi diagram. The element for `'start'` represents a path from the base point to a point in a region;\n",
    "the element for `'region'` is a closed path that runs counterclockwise the corresponding region; the elemento for `'end'` is the inverse of the elemento for '`start'`.\n",
    "\n",
    "The product of the geometric basis (from last to first) is the counterclocwise boundary. The list `tr1` allows to define a morphism from this free group to the braid group. The images of the elements in the basis are the elements of braid monodromy."
   ]
  },
  {
   "cell_type": "code",
   "execution_count": null,
   "metadata": {},
   "outputs": [],
   "source": [
    "base0=get_basis(g)\n",
    "for gen in base0:\n",
    "    gen['start'] = convertListEdges(g.edges,gen['start'])\n",
    "    gen['region'] = convertListEdges(g.edges,gen['region'])\n",
    "    gen['end'] = convertListEdges(g.edges,gen['end'])\n",
    "FG=FreeGroup(len(g.edges))\n",
    "base1=[]\n",
    "for gen in base0:\n",
    "    gen1={a:FG(gen[a]) for a in gen.keys()}\n",
    "    base1.append(gen1)"
   ]
  },
  {
   "cell_type": "code",
   "execution_count": null,
   "metadata": {},
   "outputs": [],
   "source": [
    "bordeV=g.get_boundary_vertices()\n",
    "bordeE=[[bordeV[i],bordeV[(i+1)%(len(bordeV))]] for i in [0..len(bordeV)-1]]\n",
    "bordeE1=convertListEdges(g.edges,bordeE)\n",
    "infinito=FG(bordeE1)\n",
    "infinito"
   ]
  },
  {
   "cell_type": "code",
   "execution_count": null,
   "metadata": {},
   "outputs": [],
   "source": [
    "libre2braid=FG.hom(tr1,B)"
   ]
  },
  {
   "cell_type": "markdown",
   "metadata": {},
   "source": [
    "We compute the loops in the complement of the discriminant and the braids."
   ]
  },
  {
   "cell_type": "code",
   "execution_count": null,
   "metadata": {},
   "outputs": [],
   "source": [
    "lazos=[a['start']*a['region']*a['end'] for a in base1]\n",
    "trenzas=[libre2braid(a) for a in lazos]\n",
    "len(trenzas)"
   ]
  },
  {
   "cell_type": "code",
   "execution_count": null,
   "metadata": {},
   "outputs": [],
   "source": [
    "[_.exponent_sum() for _ in trenzas]"
   ]
  },
  {
   "cell_type": "markdown",
   "metadata": {},
   "source": [
    "There is a small gap in the above code and sometimes the loops of regions are clockwise. We inverse those ones and restart. .We check the product condition with the boundary"
   ]
  },
  {
   "cell_type": "code",
   "execution_count": null,
   "metadata": {},
   "outputs": [],
   "source": [
    "for i in [3,-2,-1]:\n",
    "    base1[i]['region']=base1[i]['region']^-1\n",
    "lazos=[a['start']*a['region']*a['end'] for a in base1]\n",
    "trenzas=[libre2braid(a) for a in lazos]\n",
    "w=FG.one()\n",
    "for a in lazos:\n",
    "    w=a*w\n",
    "w==infinito"
   ]
  },
  {
   "cell_type": "code",
   "execution_count": null,
   "metadata": {},
   "outputs": [],
   "source": [
    "[_.exponent_sum() for _ in trenzas]"
   ]
  },
  {
   "cell_type": "markdown",
   "metadata": {},
   "source": [
    "In fact it is more convenient to keep also the decomposition."
   ]
  },
  {
   "cell_type": "code",
   "execution_count": null,
   "metadata": {},
   "outputs": [],
   "source": [
    "puiseux0=[[libre2braid(a['start']),libre2braid(a['region'])] for a in base1]"
   ]
  },
  {
   "cell_type": "markdown",
   "metadata": {},
   "source": [
    "We want to modify the above decomposition in order to have positive braids for the middle braids. The result will be kept in the list `puiseux`. Each element of the list `puiseux` have four entries: two braids $\\tau_1,\\tau_2$ ($\\tau_2$ is a positive algebraic braid) and two numbers $m,n$. The braid associated to the basis element is $\\tau_1\\cdot\\tau_2\\cdot\\tau_1^{-1}$; $m$ is the first strand involved in $\\tau_2$ and $n$ is the number of strands involved in $\\tau_2$.\n",
    "\n",
    "In order to keep this computations as short as possible, we need to manipulate the braids one by one."
   ]
  },
  {
   "cell_type": "code",
   "execution_count": null,
   "metadata": {},
   "outputs": [],
   "source": [
    "puiseux=[]"
   ]
  },
  {
   "cell_type": "markdown",
   "metadata": {},
   "source": [
    "The first braid has the following decomposition, which is added to the new list `puiseux`."
   ]
  },
  {
   "cell_type": "code",
   "execution_count": null,
   "metadata": {},
   "outputs": [],
   "source": [
    "u=puiseux0[0][1]\n",
    "v=B([-5, -4, -3])\n",
    "w=B([2])\n",
    "show(u==v*w/v)\n",
    "v=puiseux0[0][0]*v\n",
    "v.Tietze()"
   ]
  },
  {
   "cell_type": "code",
   "execution_count": null,
   "metadata": {},
   "outputs": [],
   "source": [
    "puiseux.append([v,w,2,2])"
   ]
  },
  {
   "cell_type": "markdown",
   "metadata": {},
   "source": [
    "We repeat the process."
   ]
  },
  {
   "cell_type": "code",
   "execution_count": null,
   "metadata": {},
   "outputs": [],
   "source": [
    "puiseux0[1][1].Tietze()"
   ]
  },
  {
   "cell_type": "code",
   "execution_count": null,
   "metadata": {},
   "outputs": [],
   "source": [
    "u=puiseux0[1][1]\n",
    "v=B([4,-6,-7])\n",
    "w=B((6, 5, 6))^2*B((6,))^2\n",
    "u==v*w/v"
   ]
  },
  {
   "cell_type": "code",
   "execution_count": null,
   "metadata": {},
   "outputs": [],
   "source": [
    "puiseux0[1][0].Tietze()"
   ]
  },
  {
   "cell_type": "code",
   "execution_count": null,
   "metadata": {},
   "outputs": [],
   "source": [
    "v=B([3, -5])\n",
    "w=B((5, 4, 5))^2*B((4,))^2\n",
    "trenzas[1]==v*w/v"
   ]
  },
  {
   "cell_type": "markdown",
   "metadata": {},
   "source": [
    "Guardar : (6,5,4) actuando en (6,5,6)^2*(5)^2 da (5,4,5)^2*(4)^2"
   ]
  },
  {
   "cell_type": "code",
   "execution_count": null,
   "metadata": {},
   "outputs": [],
   "source": [
    "puiseux.append([v,w,4,3])"
   ]
  },
  {
   "cell_type": "code",
   "execution_count": null,
   "metadata": {},
   "outputs": [],
   "source": [
    "puiseux0[2][1].Tietze()"
   ]
  },
  {
   "cell_type": "code",
   "execution_count": null,
   "metadata": {},
   "outputs": [],
   "source": [
    "u=puiseux0[2][1]\n",
    "v=B([7])\n",
    "w=B((6, ))^2\n",
    "u==v*w/v"
   ]
  },
  {
   "cell_type": "code",
   "execution_count": null,
   "metadata": {},
   "outputs": [],
   "source": [
    "puiseux0[2][0].Tietze()"
   ]
  },
  {
   "cell_type": "code",
   "execution_count": null,
   "metadata": {},
   "outputs": [],
   "source": [
    "v=B([3, 4, 5, 6])\n",
    "w=B((7, ))^2\n",
    "trenzas[2]==v*w/v"
   ]
  },
  {
   "cell_type": "code",
   "execution_count": null,
   "metadata": {},
   "outputs": [],
   "source": [
    "puiseux.append([v,w,7,2])"
   ]
  },
  {
   "cell_type": "code",
   "execution_count": null,
   "metadata": {},
   "outputs": [],
   "source": [
    "print(puiseux0[3][1].Tietze())"
   ]
  },
  {
   "cell_type": "code",
   "execution_count": null,
   "metadata": {},
   "outputs": [],
   "source": [
    "u=puiseux0[3][1]\n",
    "v=B([])\n",
    "w=B((5, ))^2\n",
    "u==v*w/v"
   ]
  },
  {
   "cell_type": "code",
   "execution_count": null,
   "metadata": {},
   "outputs": [],
   "source": [
    "puiseux0[3][0].Tietze()"
   ]
  },
  {
   "cell_type": "code",
   "execution_count": null,
   "metadata": {},
   "outputs": [],
   "source": [
    "v=B([-1, -2, 3])\n",
    "w=B((4, ))^2\n",
    "trenzas[3]==v*w/v"
   ]
  },
  {
   "cell_type": "code",
   "execution_count": null,
   "metadata": {},
   "outputs": [],
   "source": [
    "puiseux.append([v,w,4,2])"
   ]
  },
  {
   "cell_type": "code",
   "execution_count": null,
   "metadata": {},
   "outputs": [],
   "source": [
    "len(puiseux)"
   ]
  },
  {
   "cell_type": "code",
   "execution_count": null,
   "metadata": {},
   "outputs": [],
   "source": [
    "print(puiseux0[4][1].Tietze())"
   ]
  },
  {
   "cell_type": "code",
   "execution_count": null,
   "metadata": {},
   "outputs": [],
   "source": [
    "u=puiseux0[4][1]\n",
    "v=B([-4])\n",
    "w=B(( 5,  ))\n",
    "u==v*w/v"
   ]
  },
  {
   "cell_type": "code",
   "execution_count": null,
   "metadata": {},
   "outputs": [],
   "source": [
    "print(puiseux0[4][0].Tietze())"
   ]
  },
  {
   "cell_type": "code",
   "execution_count": null,
   "metadata": {},
   "outputs": [],
   "source": [
    "v=B([-1, -1, -2, 3, 4])\n",
    "w=B((5, ))\n",
    "trenzas[4]==v*w/v"
   ]
  },
  {
   "cell_type": "code",
   "execution_count": null,
   "metadata": {},
   "outputs": [],
   "source": [
    "puiseux.append([v,w,5,2])\n",
    "len(puiseux)"
   ]
  },
  {
   "cell_type": "code",
   "execution_count": null,
   "metadata": {},
   "outputs": [],
   "source": [
    "print(puiseux0[5][1].Tietze())"
   ]
  },
  {
   "cell_type": "code",
   "execution_count": null,
   "metadata": {},
   "outputs": [],
   "source": [
    "u=puiseux0[5][1]\n",
    "v=B([-7, -6])\n",
    "w=B((4, 5, 4))^2* B((4,))^2\n",
    "u==v*w/v"
   ]
  },
  {
   "cell_type": "code",
   "execution_count": null,
   "metadata": {},
   "outputs": [],
   "source": [
    "print(puiseux0[5][0].Tietze())"
   ]
  },
  {
   "cell_type": "code",
   "execution_count": null,
   "metadata": {},
   "outputs": [],
   "source": [
    "v=B([])\n",
    "w=B((5, 4, 5))^2* B((5,))^2\n",
    "trenzas[5]==v*w/v"
   ]
  },
  {
   "cell_type": "code",
   "execution_count": null,
   "metadata": {},
   "outputs": [],
   "source": [
    "puiseux.append([v,w,4,3])\n",
    "len(puiseux)"
   ]
  },
  {
   "cell_type": "code",
   "execution_count": null,
   "metadata": {},
   "outputs": [],
   "source": [
    "print(puiseux0[6][1].Tietze())"
   ]
  },
  {
   "cell_type": "code",
   "execution_count": null,
   "metadata": {},
   "outputs": [],
   "source": [
    "u=puiseux0[6][1]\n",
    "v=B([-6])\n",
    "w=B((7,))^2\n",
    "u==v*w/v"
   ]
  },
  {
   "cell_type": "code",
   "execution_count": null,
   "metadata": {},
   "outputs": [],
   "source": [
    "print(puiseux0[6][0].Tietze())"
   ]
  },
  {
   "cell_type": "code",
   "execution_count": null,
   "metadata": {},
   "outputs": [],
   "source": [
    "v=B([3, -1, -1, 2])\n",
    "w=B((1,))^2\n",
    "trenzas[6]==v*w/v"
   ]
  },
  {
   "cell_type": "code",
   "execution_count": null,
   "metadata": {},
   "outputs": [],
   "source": [
    "puiseux.append([v,w,1,2])\n",
    "len(puiseux)"
   ]
  },
  {
   "cell_type": "code",
   "execution_count": null,
   "metadata": {},
   "outputs": [],
   "source": [
    "print(puiseux0[7][1].Tietze())"
   ]
  },
  {
   "cell_type": "code",
   "execution_count": null,
   "metadata": {},
   "outputs": [],
   "source": [
    "u=puiseux0[7][1]\n",
    "v=B([4])\n",
    "w=B((5,))^2\n",
    "u==v*w/v"
   ]
  },
  {
   "cell_type": "code",
   "execution_count": null,
   "metadata": {},
   "outputs": [],
   "source": [
    "print(puiseux0[7][0].Tietze())"
   ]
  },
  {
   "cell_type": "code",
   "execution_count": null,
   "metadata": {},
   "outputs": [],
   "source": [
    "v=B([5, 6])\n",
    "w=B((7,))^2\n",
    "trenzas[7]==v*w/v"
   ]
  },
  {
   "cell_type": "code",
   "execution_count": null,
   "metadata": {},
   "outputs": [],
   "source": [
    "puiseux.append([v,w,7,2])\n",
    "len(puiseux)"
   ]
  },
  {
   "cell_type": "code",
   "execution_count": null,
   "metadata": {},
   "outputs": [],
   "source": [
    "print(puiseux0[8][1].Tietze())"
   ]
  },
  {
   "cell_type": "code",
   "execution_count": null,
   "metadata": {},
   "outputs": [],
   "source": [
    "u=puiseux0[8][1]\n",
    "v=B([6,5])\n",
    "w=B((4,))\n",
    "u==v*w/v"
   ]
  },
  {
   "cell_type": "code",
   "execution_count": null,
   "metadata": {},
   "outputs": [],
   "source": [
    "print(puiseux0[8][0].Tietze())"
   ]
  },
  {
   "cell_type": "code",
   "execution_count": null,
   "metadata": {},
   "outputs": [],
   "source": [
    "v=B([-1, -1, -1, -1, -2, 3, -4])\n",
    "w=B((5,))\n",
    "trenzas[8]==v*w/v"
   ]
  },
  {
   "cell_type": "code",
   "execution_count": null,
   "metadata": {},
   "outputs": [],
   "source": [
    "puiseux.append([v,w,5,2])\n",
    "len(puiseux)"
   ]
  },
  {
   "cell_type": "code",
   "execution_count": null,
   "metadata": {},
   "outputs": [],
   "source": [
    "print(puiseux0[9][1].Tietze())"
   ]
  },
  {
   "cell_type": "code",
   "execution_count": null,
   "metadata": {},
   "outputs": [],
   "source": [
    "u=puiseux0[9][1]\n",
    "v=B([])\n",
    "w=B((1, ))^2\n",
    "u==v*w/v"
   ]
  },
  {
   "cell_type": "code",
   "execution_count": null,
   "metadata": {},
   "outputs": [],
   "source": [
    "print(puiseux0[9][0].Tietze())"
   ]
  },
  {
   "cell_type": "code",
   "execution_count": null,
   "metadata": {},
   "outputs": [],
   "source": [
    "v=B([-1, -1, -1])\n",
    "w=B((2, ))^2\n",
    "trenzas[9]==v*w/v"
   ]
  },
  {
   "cell_type": "code",
   "execution_count": null,
   "metadata": {},
   "outputs": [],
   "source": [
    "puiseux.append([v,w,2,2])\n",
    "len(puiseux)"
   ]
  },
  {
   "cell_type": "markdown",
   "metadata": {},
   "source": [
    "The following braid correspond to a vertical lines having two non-transversal points. It is the product of two commuting algebraic braids and we separate them."
   ]
  },
  {
   "cell_type": "code",
   "execution_count": null,
   "metadata": {},
   "outputs": [],
   "source": [
    "print(puiseux0[10][1].Tietze())"
   ]
  },
  {
   "cell_type": "code",
   "execution_count": null,
   "metadata": {},
   "outputs": [],
   "source": [
    "u=puiseux0[10][1]\n",
    "v1=B([4,7])\n",
    "w1=B((6, 5, 6))^2*B((6, ))^2\n",
    "v2=B([4, 3])\n",
    "w2=B((2, 1, 2))^2*B((1, ))^2\n",
    "u==v1*w1/v1*v2*w2/v2"
   ]
  },
  {
   "cell_type": "code",
   "execution_count": null,
   "metadata": {},
   "outputs": [],
   "source": [
    "print(puiseux0[10][0].Tietze())"
   ]
  },
  {
   "cell_type": "code",
   "execution_count": null,
   "metadata": {},
   "outputs": [],
   "source": [
    "v0=B((3, 6, 4,  5, 2, 1, 7, 6, 7, 4, 3, 2, 5, 4, 3, 5, 4, 6, 5, 4, 1, 7, 6, 2, 5, 3, 4, 3, 5, 2, 6, 7, 4, 5, 6, 4, 5, 3, 4, 5, 7, 6, 7, 5, 4, 3, 2, -4, -4, 3, 1, 6, 5, 4, 3, 2))\n",
    "v0==puiseux0[10][0]"
   ]
  },
  {
   "cell_type": "code",
   "execution_count": null,
   "metadata": {},
   "outputs": [],
   "source": [
    "v1=B([-1, -1, -7, -6, 5, -4, -1, 2, 2, 3, 2])\n",
    "w1=B((2, 1, 2))^2*B((1, ))^2\n",
    "v2=B([-1, -1, -1, -1, -2, -2, 5])\n",
    "w2=B((4, 3, 4))^2*B((4, ))^2\n",
    "trenzas[10]==v1*w1/v1*v2*w2/v2"
   ]
  },
  {
   "cell_type": "code",
   "execution_count": null,
   "metadata": {},
   "outputs": [],
   "source": [
    "puiseux.append([v1,w1,1,3])\n",
    "puiseux.append([v2,w2,3,3])\n",
    "len(puiseux)"
   ]
  },
  {
   "cell_type": "code",
   "execution_count": null,
   "metadata": {},
   "outputs": [],
   "source": [
    "print(puiseux0[11][1].Tietze())"
   ]
  },
  {
   "cell_type": "code",
   "execution_count": null,
   "metadata": {},
   "outputs": [],
   "source": [
    "u=puiseux0[11][1]\n",
    "v=B([6, 5, 1, -2, 3])\n",
    "w=B((4, ))\n",
    "u==v*w/v"
   ]
  },
  {
   "cell_type": "code",
   "execution_count": null,
   "metadata": {},
   "outputs": [],
   "source": [
    "print(puiseux0[11][0].Tietze())"
   ]
  },
  {
   "cell_type": "code",
   "execution_count": null,
   "metadata": {},
   "outputs": [],
   "source": [
    "v0=B([3, 6, 4, 2, 5, 1, 7, 6, 7, 4, 3, 2, 5, 4, 3, 5, 4, 6, 5, 4, 1, 7, 6, 2, 5, 3, 4, 3, 5, 6, 7, 4, 5, 6, 4, 2, 3, 4, 5, 4, 5, 6, 7, 5, 4, 3, 2, 6, 5, 4, 3, 2, 2, 1, 2, -5, -5, 6, 4, 4, 5])\n",
    "v0==puiseux0[11][0]"
   ]
  },
  {
   "cell_type": "code",
   "execution_count": null,
   "metadata": {},
   "outputs": [],
   "source": [
    "v=B([-1, -1, -1, 5, -7, 6, 4, -5, 2, 3, -1, 2, 1, 1, 4, 3, 3])\n",
    "w=B((2, ))\n",
    "trenzas[11]==v*w/v"
   ]
  },
  {
   "cell_type": "code",
   "execution_count": null,
   "metadata": {},
   "outputs": [],
   "source": [
    "puiseux.append([v,w,2,2])\n",
    "len(puiseux)"
   ]
  },
  {
   "cell_type": "code",
   "execution_count": null,
   "metadata": {},
   "outputs": [],
   "source": [
    "print(puiseux0[12][1].Tietze())"
   ]
  },
  {
   "cell_type": "code",
   "execution_count": null,
   "metadata": {},
   "outputs": [],
   "source": [
    "u=puiseux0[12][1]\n",
    "v=B([])\n",
    "w=B((2,   ))^2\n",
    "u==v*w/v"
   ]
  },
  {
   "cell_type": "code",
   "execution_count": null,
   "metadata": {},
   "outputs": [],
   "source": [
    "print(puiseux0[12][0].Tietze())"
   ]
  },
  {
   "cell_type": "code",
   "execution_count": null,
   "metadata": {},
   "outputs": [],
   "source": [
    "v=B([5, 4, 6, 3, 2, 1, 5, 4, 3, 2, 5, 4, 3, -4, -4, -4, 5, -4, 3, 7, 6, 5])\n",
    "w=B((4,   ))^2\n",
    "trenzas[12]==v*w/v"
   ]
  },
  {
   "cell_type": "code",
   "execution_count": null,
   "metadata": {},
   "outputs": [],
   "source": [
    "puiseux.append([v,w,4,2])"
   ]
  },
  {
   "cell_type": "code",
   "execution_count": null,
   "metadata": {},
   "outputs": [],
   "source": [
    "len(puiseux)"
   ]
  },
  {
   "cell_type": "code",
   "execution_count": null,
   "metadata": {},
   "outputs": [],
   "source": [
    "print(puiseux0[13][1].Tietze())"
   ]
  },
  {
   "cell_type": "code",
   "execution_count": null,
   "metadata": {},
   "outputs": [],
   "source": [
    "u=puiseux0[13][1]\n",
    "v=B([1, 2, 3, 4])\n",
    "w=B((5,))\n",
    "u==v*w/v"
   ]
  },
  {
   "cell_type": "code",
   "execution_count": null,
   "metadata": {},
   "outputs": [],
   "source": [
    "print(puiseux0[13][0].Tietze())"
   ]
  },
  {
   "cell_type": "code",
   "execution_count": null,
   "metadata": {},
   "outputs": [],
   "source": [
    "v=B([5, 4, 3, 2, 1, 1, 2, 3, 4, 5, -7, 6])\n",
    "w=B((7,))\n",
    "trenzas[13]==v*w/v"
   ]
  },
  {
   "cell_type": "code",
   "execution_count": null,
   "metadata": {},
   "outputs": [],
   "source": [
    "puiseux.append([v,w,7,2])"
   ]
  },
  {
   "cell_type": "markdown",
   "metadata": {},
   "source": [
    "We have all the Puiseux decompositions of the braids. We need to identify to which component each meridian belongs. We see that the generators $\\mu_2,\\mu_6,\\mu_7$ correspond to the cubic. The other ones (and the meridian at infinity) correspond to the lines. We may distinguish the two triangles but we will do it later. This is done looking at the orbits by the monodromy action."
   ]
  },
  {
   "cell_type": "code",
   "execution_count": null,
   "metadata": {},
   "outputs": [],
   "source": [
    "permutaciones=PermutationGroup([_.permutation() for _ in trenzas])\n",
    "permutaciones.orbits()"
   ]
  },
  {
   "cell_type": "markdown",
   "metadata": {},
   "source": [
    "We start with the free group corresponding to the fundamental group of the complement of the curve in a vertical line. We add the orbifold relations: the cubes of the meridians of the lines and the 9th power of the meridian of the cubic."
   ]
  },
  {
   "cell_type": "code",
   "execution_count": null,
   "metadata": {},
   "outputs": [],
   "source": [
    "FL8=FreeGroup(8)\n",
    "L8=[FL8(_)^3 for _ in [[1], [3], [4], [5], [8],[1..8]]]+[FL8([2])^9]"
   ]
  },
  {
   "cell_type": "markdown",
   "metadata": {},
   "source": [
    "We add the relations of the braid monodromy using the Puiseux decomposition."
   ]
  },
  {
   "cell_type": "code",
   "execution_count": null,
   "metadata": {},
   "outputs": [],
   "source": [
    "for tau1,tau2,m0,m1 in puiseux:\n",
    "    for j in [m0..m0+m1-1]:\n",
    "        v=((FL8([j])*tau2)/FL8([j]))*tau1^-1\n",
    "        L8.append(v)"
   ]
  },
  {
   "cell_type": "code",
   "execution_count": null,
   "metadata": {},
   "outputs": [],
   "source": [
    "G=FL8/L8"
   ]
  },
  {
   "cell_type": "markdown",
   "metadata": {},
   "source": [
    "We simplify the presentation and we keep track of the meridians. We see that this orbifold group is finite. As it is bigger than the abelianization, the group is not abelian."
   ]
  },
  {
   "cell_type": "code",
   "execution_count": null,
   "metadata": {},
   "outputs": [],
   "source": [
    "hom1=G.simplification_isomorphism()\n",
    "G1=hom1.codomain()"
   ]
  },
  {
   "cell_type": "code",
   "execution_count": null,
   "metadata": {},
   "outputs": [],
   "source": [
    "G1.order()"
   ]
  },
  {
   "cell_type": "code",
   "execution_count": null,
   "metadata": {},
   "outputs": [],
   "source": [
    "ab=G1.abelian_invariants()\n",
    "print(ab)\n",
    "prod(ab)"
   ]
  },
  {
   "cell_type": "markdown",
   "metadata": {},
   "source": [
    "We express the meridians in terms of the generators of $G_1$."
   ]
  },
  {
   "cell_type": "code",
   "execution_count": null,
   "metadata": {},
   "outputs": [],
   "source": [
    "meridianos=[hom1(G(_)).Tietze() for _ in [[1],[3],[4],[5],[8],[-8..-1],[6]]]\n",
    "meridianos"
   ]
  },
  {
   "cell_type": "markdown",
   "metadata": {},
   "source": [
    "Since there are `GAP` functions which are not natively translated in `Sagemath` we translate some objects into `GAP`."
   ]
  },
  {
   "cell_type": "code",
   "execution_count": null,
   "metadata": {},
   "outputs": [],
   "source": [
    "G1gap=G1.gap()"
   ]
  },
  {
   "cell_type": "code",
   "execution_count": null,
   "metadata": {},
   "outputs": [],
   "source": [
    "meridianosgap=[G1(_).gap() for _ in meridianos]\n",
    "len(meridianosgap)"
   ]
  },
  {
   "cell_type": "code",
   "execution_count": null,
   "metadata": {},
   "outputs": [],
   "source": [
    "hom=G1gap.IsomorphismPermGroup()\n",
    "G1a=hom.Range()\n",
    "G1gap.GeneratorsOfGroup()"
   ]
  },
  {
   "cell_type": "code",
   "execution_count": null,
   "metadata": {},
   "outputs": [],
   "source": [
    "[hom.Image(_).Order() for _ in meridianosgap]"
   ]
  },
  {
   "cell_type": "markdown",
   "metadata": {},
   "source": [
    "We check the commutators of the meridians. One of them, $v$, is the generator of the derived subgroup."
   ]
  },
  {
   "cell_type": "code",
   "execution_count": null,
   "metadata": {},
   "outputs": [],
   "source": [
    "G1gap.DerivedSubgroup().Size()"
   ]
  },
  {
   "cell_type": "code",
   "execution_count": null,
   "metadata": {},
   "outputs": [],
   "source": [
    "conms={(i,j):hom.Image(meridianosgap[i]*meridianosgap[j]/meridianosgap[i]/meridianosgap[j]) for i in [0..5] for j in [i+1..6]}\n",
    "for i in [0..4]:\n",
    "    for j in [i+1..5]:\n",
    "        print (i,j,conms[i,j].Order())"
   ]
  },
  {
   "cell_type": "code",
   "execution_count": null,
   "metadata": {},
   "outputs": [],
   "source": [
    "v=conms[0,4]^-1"
   ]
  },
  {
   "cell_type": "markdown",
   "metadata": {},
   "source": [
    "The commutations of the meridians allow us to identify the triangles. The meridians of distinct triangles pairwise commute. And the meridians in the same triangle do not commute. To match with the notations of Proposition 4.3, the meridians in $X$ are $0,5,4\\mapsto x_1,x_2,x_3$ while the meridians in $Y$ are $1,2,3\\mapsto y_1,y_2,y_3$. "
   ]
  },
  {
   "cell_type": "code",
   "execution_count": null,
   "metadata": {},
   "outputs": [],
   "source": [
    "X=[0,4,5]\n",
    "Y=[1,2,3]"
   ]
  },
  {
   "cell_type": "code",
   "execution_count": null,
   "metadata": {},
   "outputs": [],
   "source": [
    "for i in X:\n",
    "    for j in X:\n",
    "        if i<j:\n",
    "            c=conms[i,j]\n",
    "            print(c.Order(),c==v)"
   ]
  },
  {
   "cell_type": "code",
   "execution_count": null,
   "metadata": {},
   "outputs": [],
   "source": [
    "for i in Y:\n",
    "    for j in Y:\n",
    "        if i<j:\n",
    "            c=conms[i,j]\n",
    "            print(c.Order(),c==v)"
   ]
  },
  {
   "cell_type": "code",
   "execution_count": null,
   "metadata": {},
   "outputs": [],
   "source": [
    "for i in X:\n",
    "    for j in Y:\n",
    "        if i<j:\n",
    "            print(conms[i,j].Order())\n",
    "        if j<i:\n",
    "            print(conms[j,i].Order())"
   ]
  },
  {
   "cell_type": "markdown",
   "metadata": {},
   "source": [
    "We check which commutators equal $v$ or $v^{-1}$."
   ]
  },
  {
   "cell_type": "code",
   "execution_count": null,
   "metadata": {},
   "outputs": [],
   "source": [
    "for i in [0..4]:\n",
    "    for j in [i+1..5]:\n",
    "        if conms[i,j].Order()==3:\n",
    "            print(i,j,v==conms[i,j])"
   ]
  },
  {
   "cell_type": "code",
   "execution_count": null,
   "metadata": {},
   "outputs": [],
   "source": [
    "for i in [0..4]:\n",
    "    for j in [i+1..5]:\n",
    "        if conms[i,j].Order()==3:\n",
    "            print(i,j,v==conms[i,j])"
   ]
  },
  {
   "cell_type": "code",
   "execution_count": null,
   "metadata": {},
   "outputs": [],
   "source": [
    "for i in [0..5]:\n",
    "    u=conms[i,6]\n",
    "    if u.Order()==1:\n",
    "        print(i,\"trivial\")\n",
    "    elif u==v:\n",
    "        print(i,\"=v\")\n",
    "    else:\n",
    "        print(i,\"=inverse of v\")"
   ]
  },
  {
   "cell_type": "markdown",
   "metadata": {},
   "source": [
    "The cell below show the centrality of the derived subgroup."
   ]
  },
  {
   "cell_type": "code",
   "execution_count": null,
   "metadata": {},
   "outputs": [],
   "source": [
    "for a in G1gap.GeneratorsOfGroup():\n",
    "    b=hom.Image(a)\n",
    "    print ((b*v/b/v).Order())"
   ]
  },
  {
   "cell_type": "code",
   "execution_count": null,
   "metadata": {},
   "outputs": [],
   "source": []
  }
 ],
 "metadata": {
  "kernelspec": {
   "display_name": "SageMath 9.1.beta9",
   "language": "sage",
   "name": "sagemath"
  },
  "language_info": {
   "codemirror_mode": {
    "name": "ipython",
    "version": 3
   },
   "file_extension": ".py",
   "mimetype": "text/x-python",
   "name": "python",
   "nbconvert_exporter": "python",
   "pygments_lexer": "ipython3",
   "version": "3.7.3"
  }
 },
 "nbformat": 4,
 "nbformat_minor": 4
}
