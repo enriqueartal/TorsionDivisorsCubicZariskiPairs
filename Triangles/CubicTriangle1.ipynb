{
 "cells": [
  {
   "cell_type": "markdown",
   "metadata": {},
   "source": [
    "We compute in this worksheet the orbifold fundamental group $G_1$ of Proposition 4.3 in the paper `Torsion divisors of plane curves with maximal flexes and Zariski pairs` by E. Artal, S. Bannai, T. Shirane and H. Tokunaga. As for other groups we use the package `sirocco` by M.Á Marco and M. Rodríguez. Since we need to know which are the meridians of the irreducible components (including the line at infinity), instead of using the method `fundamental_group` we use `braid_monodromy`."
   ]
  },
  {
   "cell_type": "markdown",
   "metadata": {},
   "source": [
    "We introduce the curve. The equations are in a number field; $f$ is the cubic, $T_1$ is the equation of one triangle (which contains the line at infinity) and $T_2$ is the equation of another triangle (this polynomial has three linear factors in an extension of the number field)."
   ]
  },
  {
   "cell_type": "code",
   "execution_count": 1,
   "metadata": {},
   "outputs": [],
   "source": [
    "R0.<t0>=QQ[]\n",
    "p0=t0^2 - 3*t0 + 9\n",
    "a0=p0.roots(QQbar)[0][0]\n",
    "L.<u0>=NumberField(p0,embedding=a0)\n",
    "S1.<x,y>=L[]\n",
    "f=x^2*y+y^2+x\n",
    "T1=x*y\n",
    "T2=x^3 + y^3 + u0*x*y + 1\n",
    "F=(f*T1*T2)(x=x+y)"
   ]
  },
  {
   "cell_type": "code",
   "execution_count": 2,
   "metadata": {},
   "outputs": [
    {
     "name": "stdout",
     "output_type": "stream",
     "text": [
      "CPU times: user 744 ms, sys: 483 ms, total: 1.23 s\n",
      "Wall time: 3min 13s\n"
     ]
    }
   ],
   "source": [
    "%%time\n",
    "C=Curve(F)\n",
    "L=C.braid_monodromy()"
   ]
  },
  {
   "cell_type": "code",
   "execution_count": 3,
   "metadata": {},
   "outputs": [
    {
     "data": {
      "text/plain": [
       "14"
      ]
     },
     "execution_count": 3,
     "metadata": {},
     "output_type": "execute_result"
    }
   ],
   "source": [
    "len(L)"
   ]
  },
  {
   "cell_type": "markdown",
   "metadata": {},
   "source": [
    "The braid monodromy has $14$ braids (one of the them corresponding to two points where the curve is non transversal to the vertical line). We define functions to simplify the words of the braids and to separate the obvious conjugating braids."
   ]
  },
  {
   "cell_type": "code",
   "execution_count": 4,
   "metadata": {},
   "outputs": [],
   "source": [
    "def trconm(L):\n",
    "    A=[]\n",
    "    for j in range(len(L)):\n",
    "        if j not in A:\n",
    "            L1=[k for k in range(j+1,len(L)) if L[j]+L[k]==0]\n",
    "            if L1!=[]:\n",
    "                k=L1[0]\n",
    "                L2=[i for i in L[j+1:k] if abs(abs(i)-abs(L[j]))<2]\n",
    "                if L2==[]:\n",
    "                    A+=[j,k]\n",
    "    return tuple(L[j] for j in range(len(L)) if j not in A)\n",
    "\n",
    "def trconm2(L0):\n",
    "    L1=[_ for _ in L0]\n",
    "    L2=trconm(L1)\n",
    "    while len(L2)<len(L1):\n",
    "        L1=[_ for _ in L2]\n",
    "        L2=trconm(L1)\n",
    "    return(L2)\n",
    "\n",
    "def romper(L0):\n",
    "    c0=()\n",
    "    b0=L0\n",
    "    while b0[0]+b0[-1]==0:\n",
    "        c0=c0+(b0[0],)\n",
    "        b0=b0[1:-1]\n",
    "    return (c0,b0)"
   ]
  },
  {
   "cell_type": "code",
   "execution_count": 8,
   "metadata": {},
   "outputs": [],
   "source": [
    "F1=FreeGroup(8)\n",
    "B=BraidGroup(8)"
   ]
  },
  {
   "cell_type": "code",
   "execution_count": 9,
   "metadata": {},
   "outputs": [],
   "source": [
    "pares0=[]\n",
    "for aux in L:\n",
    "    aux=B(F1(aux.Tietze()).Tietze())\n",
    "    aux=B(trconm2(aux.Tietze()))\n",
    "    pares0.append(romper(aux.Tietze()))"
   ]
  },
  {
   "cell_type": "markdown",
   "metadata": {},
   "source": [
    "We want to modify the above decomposition in order to have positive braids for the middle braids. The result will be kept in the list `puiseux`. Each element of the list `puiseux` have four entries: two braids $\\tau_1,\\tau_2$ ($\\tau_2$ is a positive algebraic braid) and two numbers $m,n$. The braid associated to the basis element is $\\tau_1\\cdot\\tau_2\\cdot\\tau_1^{-1}$; $m$ is the first strand involved in $\\tau_2$ and $n$ is the number of strands involved in $\\tau_2$.\n",
    "\n",
    "In order to keep this computations as short as possible, we need to manipulate the braids one by one."
   ]
  },
  {
   "cell_type": "code",
   "execution_count": 10,
   "metadata": {},
   "outputs": [],
   "source": [
    "puiseux=[]"
   ]
  },
  {
   "cell_type": "code",
   "execution_count": 11,
   "metadata": {},
   "outputs": [
    {
     "name": "stdout",
     "output_type": "stream",
     "text": [
      "((1, 4, 5, 6, 4, 5, 3, 4, -3, 5, 2, 3, 4, 7, 6, 7, 1, 5, 2, 4, 6, 3, 4, 5, 7, 6, 7, 4, -6, -7), (6, 5, 6, 5, 5, 6, 5, 6))\n"
     ]
    }
   ],
   "source": [
    "print(pares0[0])"
   ]
  },
  {
   "cell_type": "markdown",
   "metadata": {},
   "source": [
    "The first braid has the following decomposition, which is added to the new list `puiseux`."
   ]
  },
  {
   "cell_type": "code",
   "execution_count": 13,
   "metadata": {},
   "outputs": [
    {
     "data": {
      "text/plain": [
       "True"
      ]
     },
     "execution_count": 13,
     "metadata": {},
     "output_type": "execute_result"
    }
   ],
   "source": [
    "v=B((4, 4, 5, 6, 7, 3, 4, 5, 2, 1, 3, 2, 4, 3, 6, 7, 5, 4,))\n",
    "w=B([5, 6, 5, 6, 6, 5, 6, 5, ])\n",
    "u=L[0]\n",
    "m=1\n",
    "u==v*w^m/v"
   ]
  },
  {
   "cell_type": "code",
   "execution_count": 14,
   "metadata": {},
   "outputs": [],
   "source": [
    "puiseux.append([v,w^m,5,2])"
   ]
  },
  {
   "cell_type": "markdown",
   "metadata": {},
   "source": [
    "We repeat the process."
   ]
  },
  {
   "cell_type": "code",
   "execution_count": 15,
   "metadata": {},
   "outputs": [
    {
     "name": "stdout",
     "output_type": "stream",
     "text": [
      "((1, 4, 5, 6, 4, 5, 3, 4, -3, 5, 2, 3, 4, 7, 6, 7, 1, 5), (2, 4, 6, 3, 4, 2, 5, 7, 6, 7, 4, -6, -7, -6, -5, -6, -5, 3, -5, 4, -3, 5, -4, -2, -5, -6, 5, -3, -4))\n"
     ]
    }
   ],
   "source": [
    "print(pares0[1])"
   ]
  },
  {
   "cell_type": "code",
   "execution_count": 16,
   "metadata": {},
   "outputs": [
    {
     "data": {
      "text/plain": [
       "True"
      ]
     },
     "execution_count": 16,
     "metadata": {},
     "output_type": "execute_result"
    }
   ],
   "source": [
    "v=B((-6, -6, 5, 4, 3, 2,))\n",
    "w=B([1, ])\n",
    "u=L[1]\n",
    "m=1\n",
    "u==v*w^m/v"
   ]
  },
  {
   "cell_type": "code",
   "execution_count": 17,
   "metadata": {},
   "outputs": [],
   "source": [
    "puiseux.append([v,w^m,1,2])"
   ]
  },
  {
   "cell_type": "code",
   "execution_count": 18,
   "metadata": {},
   "outputs": [
    {
     "name": "stdout",
     "output_type": "stream",
     "text": [
      "((1, 4, 5, 6, 4, 5, 3, 4, -3, 5), (2, 3, 4, 7, 6, 7, 5, 4, 3, -5, 6, -4, 5, -3, -4, -6, -5, -6, -7, -2, -6))\n"
     ]
    }
   ],
   "source": [
    "print(pares0[2])"
   ]
  },
  {
   "cell_type": "code",
   "execution_count": 19,
   "metadata": {},
   "outputs": [
    {
     "data": {
      "text/plain": [
       "True"
      ]
     },
     "execution_count": 19,
     "metadata": {},
     "output_type": "execute_result"
    }
   ],
   "source": [
    "v=B((4, -6, 5,  ))\n",
    "w=B([6,])\n",
    "u=L[2]\n",
    "m=1\n",
    "u==v*w^m/v"
   ]
  },
  {
   "cell_type": "code",
   "execution_count": 20,
   "metadata": {},
   "outputs": [],
   "source": [
    "puiseux.append([v,w^m,6,2])"
   ]
  },
  {
   "cell_type": "code",
   "execution_count": 21,
   "metadata": {},
   "outputs": [
    {
     "name": "stdout",
     "output_type": "stream",
     "text": [
      "((1, 4, 5, 6, 4, 5, 3, 4), (-3, 5, 6, 2, 7, 6, 5, 6, 4, 3, -5, 1, 4, 5, 2, 4, -5, 1, 3, -4, 2, -3, 4, 3, -2, -3, -1, -2, -3, -4, -6, -5, -6, -7, -6, -5))\n"
     ]
    }
   ],
   "source": [
    "print(pares0[3])"
   ]
  },
  {
   "cell_type": "code",
   "execution_count": 22,
   "metadata": {},
   "outputs": [
    {
     "data": {
      "text/plain": [
       "True"
      ]
     },
     "execution_count": 22,
     "metadata": {},
     "output_type": "execute_result"
    }
   ],
   "source": [
    "v=B((-6, 5, 4, 3,  ))\n",
    "w=B([2,])\n",
    "u=L[3]\n",
    "m=2\n",
    "u==v*w^m/v"
   ]
  },
  {
   "cell_type": "code",
   "execution_count": 23,
   "metadata": {},
   "outputs": [],
   "source": [
    "puiseux.append([v,w^m,2,2])"
   ]
  },
  {
   "cell_type": "code",
   "execution_count": 24,
   "metadata": {},
   "outputs": [
    {
     "name": "stdout",
     "output_type": "stream",
     "text": [
      "((4, 5, 6, 4, 5, 3), (4, 5, 6, 7, 6, 5, 6, 7, -6, -5, -4, -6, -7, -6))\n"
     ]
    }
   ],
   "source": [
    "print(pares0[4])"
   ]
  },
  {
   "cell_type": "code",
   "execution_count": 25,
   "metadata": {},
   "outputs": [
    {
     "data": {
      "text/plain": [
       "True"
      ]
     },
     "execution_count": 25,
     "metadata": {},
     "output_type": "execute_result"
    }
   ],
   "source": [
    "v=B((4, ))\n",
    "w=B([3,])\n",
    "u=L[4]\n",
    "m=2\n",
    "u==v*w^m/v"
   ]
  },
  {
   "cell_type": "code",
   "execution_count": 26,
   "metadata": {},
   "outputs": [],
   "source": [
    "puiseux.append([v,w^m,3,2])"
   ]
  },
  {
   "cell_type": "code",
   "execution_count": 27,
   "metadata": {},
   "outputs": [
    {
     "name": "stdout",
     "output_type": "stream",
     "text": [
      "((4, 5), (6, 4, 5, 6, 7, 6, 5, -6, -7, -5, -6, -5, -4, 7))\n"
     ]
    }
   ],
   "source": [
    "print(pares0[5])"
   ]
  },
  {
   "cell_type": "code",
   "execution_count": 28,
   "metadata": {},
   "outputs": [
    {
     "data": {
      "text/plain": [
       "True"
      ]
     },
     "execution_count": 28,
     "metadata": {},
     "output_type": "execute_result"
    }
   ],
   "source": [
    "v=B(( ))\n",
    "w=B([7])\n",
    "u=L[5]\n",
    "m=2\n",
    "u==v*w^m/v"
   ]
  },
  {
   "cell_type": "code",
   "execution_count": 29,
   "metadata": {},
   "outputs": [],
   "source": [
    "puiseux.append([v,w^m,7,2])"
   ]
  },
  {
   "cell_type": "code",
   "execution_count": 30,
   "metadata": {},
   "outputs": [
    {
     "name": "stdout",
     "output_type": "stream",
     "text": [
      "((), (4, -7, 5, 4, 5, 6, 5, 7, 3, 6, 1, -5, 4, 5, 6, -7, 4, 3, 2, 1, 3, 2, -3, -4, -6, -5, -6, 7, 6, 5, 6, 7, 6, 5, 4, -6, 3, -2, -3, -1, -2, -3, -4, -6, -5, -4, 5, -6, -3, -7, -5, -6, -5, -4, 7, -5, -4, -1))\n"
     ]
    }
   ],
   "source": [
    "print(pares0[6])"
   ]
  },
  {
   "cell_type": "code",
   "execution_count": 31,
   "metadata": {},
   "outputs": [
    {
     "data": {
      "text/plain": [
       "True"
      ]
     },
     "execution_count": 31,
     "metadata": {},
     "output_type": "execute_result"
    }
   ],
   "source": [
    "v=B((4, 4, 5, 6, 7, 3, 4, 5, 6, -2, 3, -5, 4, -5))\n",
    "w=B([ 6,])\n",
    "u=L[6]\n",
    "m=2\n",
    "u==v*w^m/v"
   ]
  },
  {
   "cell_type": "code",
   "execution_count": 32,
   "metadata": {},
   "outputs": [],
   "source": [
    "puiseux.append([v,w^m,6,2])"
   ]
  },
  {
   "cell_type": "markdown",
   "metadata": {},
   "source": [
    "The following braid correspond to a vertical lines having two non-transversal points. It is the product of two commuting algebraic braids and we separate them."
   ]
  },
  {
   "cell_type": "code",
   "execution_count": 33,
   "metadata": {},
   "outputs": [
    {
     "name": "stdout",
     "output_type": "stream",
     "text": [
      "((), (4, -7, 5, 4, 5, 6, 5, 7, 3, 6, 1, -5, 4, 5, 6, 4, 3, 2, 1, 3, 2, 6, 5, 1, 6, 5, 1, 2, 1, -3, -2, 5, 3, -4, -3, -7, -5, -6, -5, -4, 7, -5, -4, -1))\n"
     ]
    }
   ],
   "source": [
    "print(pares0[7])"
   ]
  },
  {
   "cell_type": "code",
   "execution_count": 34,
   "metadata": {},
   "outputs": [
    {
     "data": {
      "text/plain": [
       "True"
      ]
     },
     "execution_count": 34,
     "metadata": {},
     "output_type": "execute_result"
    }
   ],
   "source": [
    "v1=B((4, 4, 5, 6, 7, 4, -6, 5, 3, 4))\n",
    "w1=B([  6, 5, 6,  6, 5, 6, 5, 5, ])\n",
    "v2=B((-7, 5, 4, 6, 5, 3, 4))\n",
    "w2=B([  3, 2, 3,  3, 2, 3, 3, 3, ])\n",
    "u=L[7]\n",
    "m1=1\n",
    "m2=1\n",
    "u==v1*w1^m1/v1*v2*w2^m2/v2"
   ]
  },
  {
   "cell_type": "code",
   "execution_count": 35,
   "metadata": {},
   "outputs": [],
   "source": [
    "puiseux.append([v1,w1^m1,5,3])\n",
    "puiseux.append([v2,w2^m2,2,3])"
   ]
  },
  {
   "cell_type": "code",
   "execution_count": 36,
   "metadata": {},
   "outputs": [
    {
     "name": "stdout",
     "output_type": "stream",
     "text": [
      "((), (4, -7, 5, 4, 5, 6, 5, 3, 4, -3, -5, 1, 2, 3, 4, -3, -2, 5, -4, -3, 4, -5, -6, -5, -4, 7, -5, -4, -1))\n"
     ]
    }
   ],
   "source": [
    "print(pares0[8])"
   ]
  },
  {
   "cell_type": "code",
   "execution_count": 37,
   "metadata": {},
   "outputs": [
    {
     "data": {
      "text/plain": [
       "True"
      ]
     },
     "execution_count": 37,
     "metadata": {},
     "output_type": "execute_result"
    }
   ],
   "source": [
    "v=B((4,  4, -3, 1))\n",
    "w=B([ 2])\n",
    "u=L[8]\n",
    "m=1\n",
    "u==v*w^m/v"
   ]
  },
  {
   "cell_type": "code",
   "execution_count": 38,
   "metadata": {},
   "outputs": [],
   "source": [
    "puiseux.append([v,w^m,2,2])"
   ]
  },
  {
   "cell_type": "code",
   "execution_count": 39,
   "metadata": {},
   "outputs": [
    {
     "name": "stdout",
     "output_type": "stream",
     "text": [
      "((), (4, -7, 5, 4, 5, 6, 5, -4, 3, 7, 4, -5, 1, 2, 3, -4, -1, -2, -5, -3, -6, -5, -4, -5, -6, -7, -6, 4, 3, 5, 4, 6, 5, 4, 7, 6, 5, 4, -6, -5, -4, -3, 4, 3, 5, 2, 1, 4, -3, -2, 5, -4, -3, 4, -5, -6, -5, -4, 7, -5, -4, -1))\n"
     ]
    }
   ],
   "source": [
    "print(pares0[9])"
   ]
  },
  {
   "cell_type": "code",
   "execution_count": 40,
   "metadata": {},
   "outputs": [
    {
     "data": {
      "text/plain": [
       "True"
      ]
     },
     "execution_count": 40,
     "metadata": {},
     "output_type": "execute_result"
    }
   ],
   "source": [
    "v=B((4, -7, 4, 5,  6,))\n",
    "w=B([  7, ])\n",
    "u=L[9]\n",
    "m=2\n",
    "u==v*w^m/v"
   ]
  },
  {
   "cell_type": "code",
   "execution_count": 41,
   "metadata": {},
   "outputs": [],
   "source": [
    "puiseux.append([v,w^m,7,2])"
   ]
  },
  {
   "cell_type": "code",
   "execution_count": 42,
   "metadata": {},
   "outputs": [
    {
     "name": "stdout",
     "output_type": "stream",
     "text": [
      "((4,), (-7, 5, 4, 5, 6, 5, -4, 3, 4, -5, 1, 2, 3, -4, -1, -2, -1, -5, -3, -4, 3, 4, 3, 2, 5, -3, 4, -5, -6, -5, -4, 7, -5))\n"
     ]
    }
   ],
   "source": [
    "print(pares0[10])"
   ]
  },
  {
   "cell_type": "code",
   "execution_count": 43,
   "metadata": {},
   "outputs": [
    {
     "data": {
      "text/plain": [
       "True"
      ]
     },
     "execution_count": 43,
     "metadata": {},
     "output_type": "execute_result"
    }
   ],
   "source": [
    "v=B((-7, -6, -6, 5,  4, 3, 1))\n",
    "w=B([  2,])\n",
    "u=L[10]\n",
    "m=1\n",
    "u==v*w^m/v"
   ]
  },
  {
   "cell_type": "code",
   "execution_count": 44,
   "metadata": {},
   "outputs": [],
   "source": [
    "puiseux.append([v,w^m,2,2])"
   ]
  },
  {
   "cell_type": "code",
   "execution_count": 45,
   "metadata": {},
   "outputs": [
    {
     "name": "stdout",
     "output_type": "stream",
     "text": [
      "((4,), (-7, 5, 4, 5, 6, 5, -4, 3, -2, -3, 6, -5, 2, 3, -6, 2, -5, 6, 5, 4, -5, -6, -5, -4, 7, -5))\n"
     ]
    }
   ],
   "source": [
    "print(pares0[11])"
   ]
  },
  {
   "cell_type": "code",
   "execution_count": 46,
   "metadata": {},
   "outputs": [
    {
     "data": {
      "text/plain": [
       "True"
      ]
     },
     "execution_count": 46,
     "metadata": {},
     "output_type": "execute_result"
    }
   ],
   "source": [
    "v=B((-7, -6, 5, 4, ))\n",
    "w=B([ 3,  ])\n",
    "u=L[11]\n",
    "m=2\n",
    "u==v*w^m/v"
   ]
  },
  {
   "cell_type": "code",
   "execution_count": 47,
   "metadata": {},
   "outputs": [],
   "source": [
    "puiseux.append([v,w^m,3,2])"
   ]
  },
  {
   "cell_type": "code",
   "execution_count": 48,
   "metadata": {},
   "outputs": [
    {
     "name": "stdout",
     "output_type": "stream",
     "text": [
      "((4,), (-7, 5, 4, 5, 6, 5, -4, -5, -6, 5, -2, 6, -3, 5, -4, 3, 4, 3, -4, -5, 2, -5, 6, 5, 4, -5, -6, -5, -4, 7, -5))\n"
     ]
    }
   ],
   "source": [
    "print(pares0[12])"
   ]
  },
  {
   "cell_type": "code",
   "execution_count": 49,
   "metadata": {},
   "outputs": [
    {
     "data": {
      "text/plain": [
       "True"
      ]
     },
     "execution_count": 49,
     "metadata": {},
     "output_type": "execute_result"
    }
   ],
   "source": [
    "v=B((4, -7, 4, 4, -6, 5,  ))\n",
    "w=B([ 6,   ])\n",
    "u=L[12]\n",
    "m=1\n",
    "u==v*w^m/v"
   ]
  },
  {
   "cell_type": "code",
   "execution_count": 50,
   "metadata": {},
   "outputs": [],
   "source": [
    "puiseux.append([v,w^m,6,2])"
   ]
  },
  {
   "cell_type": "code",
   "execution_count": 51,
   "metadata": {},
   "outputs": [
    {
     "name": "stdout",
     "output_type": "stream",
     "text": [
      "((), (4, -7, 5, 4, 5, 6, 5, -4, -5, -6, 5, 5, 4, 5, 6, 7))\n"
     ]
    }
   ],
   "source": [
    "print(pares0[13])"
   ]
  },
  {
   "cell_type": "code",
   "execution_count": 52,
   "metadata": {},
   "outputs": [
    {
     "data": {
      "text/plain": [
       "True"
      ]
     },
     "execution_count": 52,
     "metadata": {},
     "output_type": "execute_result"
    }
   ],
   "source": [
    "v=B(( -7, -6 ))\n",
    "w=B([4,  4,  5, 4, 5, 5, 4, 5,  ])\n",
    "u=L[13]\n",
    "m=1\n",
    "u==v*w^m/v"
   ]
  },
  {
   "cell_type": "code",
   "execution_count": 53,
   "metadata": {},
   "outputs": [],
   "source": [
    "puiseux.append([v,w^m,4,3])"
   ]
  },
  {
   "cell_type": "code",
   "execution_count": 54,
   "metadata": {},
   "outputs": [
    {
     "data": {
      "text/plain": [
       "15"
      ]
     },
     "execution_count": 54,
     "metadata": {},
     "output_type": "execute_result"
    }
   ],
   "source": [
    "len(puiseux)"
   ]
  },
  {
   "cell_type": "markdown",
   "metadata": {},
   "source": [
    "We have all the Puiseux decompositions of the braids. We need to identify to which component each meridian belongs. We see that the generators $\\mu_1,\\mu_4,\\mu_6$ correspond to the cubic. The other ones (and the meridian at infinity) correspond to the lines. We may distinguish the two triangles but we will do it later. This is done looking at the orbits by the monodromy action."
   ]
  },
  {
   "cell_type": "code",
   "execution_count": 55,
   "metadata": {},
   "outputs": [
    {
     "data": {
      "text/plain": [
       "[[1, 4, 6], [2], [3], [5], [7], [8]]"
      ]
     },
     "execution_count": 55,
     "metadata": {},
     "output_type": "execute_result"
    }
   ],
   "source": [
    "permutaciones=PermutationGroup([_.permutation() for _ in L])\n",
    "permutaciones.orbits()"
   ]
  },
  {
   "cell_type": "markdown",
   "metadata": {},
   "source": [
    "We start with the free group corresponding to the fundamental group of the complement of the curve in a vertical line. We add the orbifold relations: the cubes of the meridians of the lines and the 9th power of the meridian of the cubic."
   ]
  },
  {
   "cell_type": "code",
   "execution_count": 56,
   "metadata": {},
   "outputs": [],
   "source": [
    "FL8=FreeGroup(8)\n",
    "L8=[FL8(_)^3 for _ in [[2], [3], [5], [7], [8],[1..8]]]+[FL8([1])^9]"
   ]
  },
  {
   "cell_type": "markdown",
   "metadata": {},
   "source": [
    "We add the relations of the braid monodromy using the Puiseux decomposition."
   ]
  },
  {
   "cell_type": "code",
   "execution_count": 57,
   "metadata": {},
   "outputs": [],
   "source": [
    "for tau1,tau2,m0,m1 in puiseux:\n",
    "    for j in [m0..m0+m1-1]:\n",
    "        v=((FL8([j])*tau2)/FL8([j]))*tau1^-1\n",
    "        L8.append(v)"
   ]
  },
  {
   "cell_type": "code",
   "execution_count": 58,
   "metadata": {},
   "outputs": [],
   "source": [
    "G=FL8/L8"
   ]
  },
  {
   "cell_type": "markdown",
   "metadata": {},
   "source": [
    "We simplify the presentation and we keep track of the meridians. We see that this orbifold group is finite. As it is bigger than the abelianization, the group is not abelian."
   ]
  },
  {
   "cell_type": "code",
   "execution_count": 59,
   "metadata": {},
   "outputs": [],
   "source": [
    "hom1=G.simplification_isomorphism()\n",
    "G1=hom1.codomain()"
   ]
  },
  {
   "cell_type": "code",
   "execution_count": 60,
   "metadata": {},
   "outputs": [
    {
     "data": {
      "text/plain": [
       "6561"
      ]
     },
     "execution_count": 60,
     "metadata": {},
     "output_type": "execute_result"
    }
   ],
   "source": [
    "G1.order()"
   ]
  },
  {
   "cell_type": "code",
   "execution_count": 61,
   "metadata": {},
   "outputs": [
    {
     "name": "stdout",
     "output_type": "stream",
     "text": [
      "(3, 3, 3, 3, 3, 9)\n"
     ]
    },
    {
     "data": {
      "text/plain": [
       "2187"
      ]
     },
     "execution_count": 61,
     "metadata": {},
     "output_type": "execute_result"
    }
   ],
   "source": [
    "ab=G1.abelian_invariants()\n",
    "print(ab)\n",
    "prod(ab)"
   ]
  },
  {
   "cell_type": "markdown",
   "metadata": {},
   "source": [
    "We express the meridians in terms of the generators of $G_1$."
   ]
  },
  {
   "cell_type": "code",
   "execution_count": 62,
   "metadata": {},
   "outputs": [
    {
     "data": {
      "text/plain": [
       "[(2,), (3,), (4,), (5,), (6,), (-6, -5, 6, -1, -6, -1, -4, -3, -2, -1), (1,)]"
      ]
     },
     "execution_count": 62,
     "metadata": {},
     "output_type": "execute_result"
    }
   ],
   "source": [
    "meridianos=[hom1(G(_)).Tietze() for _ in [[2],[3],[5],[7],[8],[-8..-1],[1]]]\n",
    "meridianos"
   ]
  },
  {
   "cell_type": "markdown",
   "metadata": {},
   "source": [
    "Since there are `GAP` functions which are not natively translated in `Sagemath` we translate some objects into `GAP`."
   ]
  },
  {
   "cell_type": "code",
   "execution_count": 63,
   "metadata": {},
   "outputs": [],
   "source": [
    "G1gap=G1.gap()"
   ]
  },
  {
   "cell_type": "code",
   "execution_count": 64,
   "metadata": {},
   "outputs": [
    {
     "data": {
      "text/plain": [
       "7"
      ]
     },
     "execution_count": 64,
     "metadata": {},
     "output_type": "execute_result"
    }
   ],
   "source": [
    "meridianosgap=[G1(_).gap() for _ in meridianos]\n",
    "len(meridianosgap)"
   ]
  },
  {
   "cell_type": "code",
   "execution_count": 65,
   "metadata": {},
   "outputs": [
    {
     "data": {
      "text/plain": [
       "[ x0, x1, x2, x4, x6, x7 ]"
      ]
     },
     "execution_count": 65,
     "metadata": {},
     "output_type": "execute_result"
    }
   ],
   "source": [
    "hom=G1gap.IsomorphismPermGroup()\n",
    "G1a=hom.Range()\n",
    "G1gap.GeneratorsOfGroup()"
   ]
  },
  {
   "cell_type": "code",
   "execution_count": 66,
   "metadata": {},
   "outputs": [
    {
     "data": {
      "text/plain": [
       "[3, 3, 3, 3, 3, 3, 9]"
      ]
     },
     "execution_count": 66,
     "metadata": {},
     "output_type": "execute_result"
    }
   ],
   "source": [
    "[hom.Image(_).Order() for _ in meridianosgap]"
   ]
  },
  {
   "cell_type": "markdown",
   "metadata": {},
   "source": [
    "We check the commutators of the meridians. One of them, $v$, is a generator of the derived subgroup which is cyclic of order $3$."
   ]
  },
  {
   "cell_type": "code",
   "execution_count": 67,
   "metadata": {},
   "outputs": [
    {
     "data": {
      "text/plain": [
       "3"
      ]
     },
     "execution_count": 67,
     "metadata": {},
     "output_type": "execute_result"
    }
   ],
   "source": [
    "G1gap.DerivedSubgroup().Size()"
   ]
  },
  {
   "cell_type": "code",
   "execution_count": 68,
   "metadata": {},
   "outputs": [
    {
     "name": "stdout",
     "output_type": "stream",
     "text": [
      "0 1 1\n",
      "0 2 3\n",
      "0 3 1\n",
      "0 4 3\n",
      "0 5 1\n",
      "1 2 1\n",
      "1 3 3\n",
      "1 4 1\n",
      "1 5 3\n",
      "2 3 1\n",
      "2 4 3\n",
      "2 5 1\n",
      "3 4 1\n",
      "3 5 3\n",
      "4 5 1\n"
     ]
    }
   ],
   "source": [
    "conms={(i,j):hom.Image(meridianosgap[i]*meridianosgap[j]/meridianosgap[i]/meridianosgap[j]) for i in [0..5] for j in [i+1..6]}\n",
    "for i in [0..4]:\n",
    "    for j in [i+1..5]:\n",
    "        print (i,j,conms[i,j].Order())"
   ]
  },
  {
   "cell_type": "code",
   "execution_count": 69,
   "metadata": {},
   "outputs": [],
   "source": [
    "v=conms[0,4]^-1"
   ]
  },
  {
   "cell_type": "markdown",
   "metadata": {},
   "source": [
    "The commutations of the meridians allow us to identify the triangles. The meridians of distinct triangles pairwise commute. And the meridians in the same triangle do not commute. To match with the notations of Proposition 4.3, the meridians in $X$ are $0,2,4\\mapsto x_1,x_2,x_3$ while the meridians in $Y$ are $1,3,5\\mapsto y_1,y_2,y_3$. We check which commutators are $v$ or $v^{-1}$."
   ]
  },
  {
   "cell_type": "code",
   "execution_count": 74,
   "metadata": {},
   "outputs": [],
   "source": [
    "X=[0,2,4]\n",
    "Y=[1,3,5]"
   ]
  },
  {
   "cell_type": "code",
   "execution_count": 75,
   "metadata": {},
   "outputs": [
    {
     "name": "stdout",
     "output_type": "stream",
     "text": [
      "3 True\n",
      "3 False\n",
      "3 True\n"
     ]
    }
   ],
   "source": [
    "for i in X:\n",
    "    for j in X:\n",
    "        if i<j:\n",
    "            c=conms[i,j]\n",
    "            print(c.Order(),c==v)"
   ]
  },
  {
   "cell_type": "code",
   "execution_count": 76,
   "metadata": {},
   "outputs": [
    {
     "name": "stdout",
     "output_type": "stream",
     "text": [
      "3 False\n",
      "3 True\n",
      "3 False\n"
     ]
    }
   ],
   "source": [
    "for i in Y:\n",
    "    for j in Y:\n",
    "        if i<j:\n",
    "            c=conms[i,j]\n",
    "            print(c.Order(),c==v)"
   ]
  },
  {
   "cell_type": "code",
   "execution_count": 77,
   "metadata": {},
   "outputs": [
    {
     "name": "stdout",
     "output_type": "stream",
     "text": [
      "1\n",
      "1\n",
      "1\n",
      "1\n",
      "1\n",
      "1\n",
      "1\n",
      "1\n",
      "1\n"
     ]
    }
   ],
   "source": [
    "for i in X:\n",
    "    for j in Y:\n",
    "        if i<j:\n",
    "            print(conms[i,j].Order())\n",
    "        if j<i:\n",
    "            print(conms[j,i].Order())"
   ]
  },
  {
   "cell_type": "markdown",
   "metadata": {},
   "source": [
    "We check which commutators equal $v$ or $v^{-1}$."
   ]
  },
  {
   "cell_type": "code",
   "execution_count": 78,
   "metadata": {},
   "outputs": [
    {
     "name": "stdout",
     "output_type": "stream",
     "text": [
      "0 2 True\n",
      "0 4 False\n",
      "1 3 False\n",
      "1 5 True\n",
      "2 4 True\n",
      "3 5 False\n"
     ]
    }
   ],
   "source": [
    "for i in [0..4]:\n",
    "    for j in [i+1..5]:\n",
    "        if conms[i,j].Order()==3:\n",
    "            print(i,j,v==conms[i,j])"
   ]
  },
  {
   "cell_type": "code",
   "execution_count": 79,
   "metadata": {},
   "outputs": [
    {
     "name": "stdout",
     "output_type": "stream",
     "text": [
      "0 2 True\n",
      "0 4 False\n",
      "1 3 False\n",
      "1 5 True\n",
      "2 4 True\n",
      "3 5 False\n"
     ]
    }
   ],
   "source": [
    "for i in [0..4]:\n",
    "    for j in [i+1..5]:\n",
    "        if conms[i,j].Order()==3:\n",
    "            print(i,j,v==conms[i,j])"
   ]
  },
  {
   "cell_type": "code",
   "execution_count": 80,
   "metadata": {},
   "outputs": [
    {
     "name": "stdout",
     "output_type": "stream",
     "text": [
      "0 =v\n",
      "1 =inverse of v\n",
      "2 =v\n",
      "3 =inverse of v\n",
      "4 =v\n",
      "5 =inverse of v\n"
     ]
    }
   ],
   "source": [
    "for i in [0..5]:\n",
    "    u=conms[i,6]\n",
    "    if u.Order()==1:\n",
    "        print(i,\"trivial\")\n",
    "    elif u==v:\n",
    "        print(i,\"=v\")\n",
    "    else:\n",
    "        print(i,\"=inverse of v\")"
   ]
  },
  {
   "cell_type": "markdown",
   "metadata": {},
   "source": [
    "The cell below show the centrality of the derived subgroup."
   ]
  },
  {
   "cell_type": "code",
   "execution_count": 81,
   "metadata": {},
   "outputs": [
    {
     "name": "stdout",
     "output_type": "stream",
     "text": [
      "1\n",
      "1\n",
      "1\n",
      "1\n",
      "1\n",
      "1\n"
     ]
    }
   ],
   "source": [
    "for a in G1gap.GeneratorsOfGroup():\n",
    "    b=hom.Image(a)\n",
    "    print ((b*v/b/v).Order())"
   ]
  },
  {
   "cell_type": "code",
   "execution_count": null,
   "metadata": {},
   "outputs": [],
   "source": []
  }
 ],
 "metadata": {
  "kernelspec": {
   "display_name": "SageMath 9.6",
   "language": "sage",
   "name": "sagemath"
  },
  "language_info": {
   "codemirror_mode": {
    "name": "ipython",
    "version": 3
   },
   "file_extension": ".py",
   "mimetype": "text/x-python",
   "name": "python",
   "nbconvert_exporter": "python",
   "pygments_lexer": "ipython3",
   "version": "3.10.5"
  }
 },
 "nbformat": 4,
 "nbformat_minor": 4
}
