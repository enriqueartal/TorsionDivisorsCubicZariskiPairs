{
 "cells": [
  {
   "cell_type": "markdown",
   "metadata": {},
   "source": [
    "In this worksheet we fill the details of Proposition 3.14 in the paper *Torsion divisors of plane curves with maximal flexes and Zariski pairs*, by E. Artal, S. Bannai, T. Shirane and H. Tokunaga\n",
    "\n",
    "We fix an elliptic curve $E$ such that its rational torsion group is $\\mathbb{Z}/12$. The point $O$ is $[0:1:0]$. The line $L_O$ is $z=0$."
   ]
  },
  {
   "cell_type": "code",
   "execution_count": 1,
   "metadata": {},
   "outputs": [
    {
     "data": {
      "text/html": [
       "<html>\\(\\displaystyle -x^{3} + x^{2} z + x y z + y^{2} z + 122 x z^{2} + y z^{2} - 1721 z^{3}\\)</html>"
      ],
      "text/latex": [
       "$\\displaystyle -x^{3} + x^{2} z + x y z + y^{2} z + 122 x z^{2} + y z^{2} - 1721 z^{3}$"
      ],
      "text/plain": [
       "-x^3 + x^2*z + x*y*z + y^2*z + 122*x*z^2 + y*z^2 - 1721*z^3"
      ]
     },
     "metadata": {},
     "output_type": "display_data"
    }
   ],
   "source": [
    "E = EllipticCurve(\"90c3\")\n",
    "p=E.defining_polynomial()\n",
    "R=p.parent()\n",
    "R.inject_variables(verbose=False)\n",
    "show(p)"
   ]
  },
  {
   "cell_type": "markdown",
   "metadata": {},
   "source": [
    "Let us see the torsion points"
   ]
  },
  {
   "cell_type": "code",
   "execution_count": 2,
   "metadata": {},
   "outputs": [
    {
     "data": {
      "text/html": [
       "<html>\\(\\displaystyle \\left(-15 : 7 : 1\\right) 2\\)</html>"
      ],
      "text/latex": [
       "$\\displaystyle \\left(-15 : 7 : 1\\right) 2$"
      ],
      "text/plain": [
       "(-15 : 7 : 1) 2"
      ]
     },
     "metadata": {},
     "output_type": "display_data"
    },
    {
     "data": {
      "text/html": [
       "<html>\\(\\displaystyle \\left(-9 : -41 : 1\\right) 12\\)</html>"
      ],
      "text/latex": [
       "$\\displaystyle \\left(-9 : -41 : 1\\right) 12$"
      ],
      "text/plain": [
       "(-9 : -41 : 1) 12"
      ]
     },
     "metadata": {},
     "output_type": "display_data"
    },
    {
     "data": {
      "text/html": [
       "<html>\\(\\displaystyle \\left(-9 : 49 : 1\\right) 12\\)</html>"
      ],
      "text/latex": [
       "$\\displaystyle \\left(-9 : 49 : 1\\right) 12$"
      ],
      "text/plain": [
       "(-9 : 49 : 1) 12"
      ]
     },
     "metadata": {},
     "output_type": "display_data"
    },
    {
     "data": {
      "text/html": [
       "<html>\\(\\displaystyle \\left(0 : 1 : 0\\right) 1\\)</html>"
      ],
      "text/latex": [
       "$\\displaystyle \\left(0 : 1 : 0\\right) 1$"
      ],
      "text/plain": [
       "(0 : 1 : 0) 1"
      ]
     },
     "metadata": {},
     "output_type": "display_data"
    },
    {
     "data": {
      "text/html": [
       "<html>\\(\\displaystyle \\left(1 : -41 : 1\\right) 3\\)</html>"
      ],
      "text/latex": [
       "$\\displaystyle \\left(1 : -41 : 1\\right) 3$"
      ],
      "text/plain": [
       "(1 : -41 : 1) 3"
      ]
     },
     "metadata": {},
     "output_type": "display_data"
    },
    {
     "data": {
      "text/html": [
       "<html>\\(\\displaystyle \\left(1 : 39 : 1\\right) 3\\)</html>"
      ],
      "text/latex": [
       "$\\displaystyle \\left(1 : 39 : 1\\right) 3$"
      ],
      "text/plain": [
       "(1 : 39 : 1) 3"
      ]
     },
     "metadata": {},
     "output_type": "display_data"
    },
    {
     "data": {
      "text/html": [
       "<html>\\(\\displaystyle \\left(9 : -41 : 1\\right) 4\\)</html>"
      ],
      "text/latex": [
       "$\\displaystyle \\left(9 : -41 : 1\\right) 4$"
      ],
      "text/plain": [
       "(9 : -41 : 1) 4"
      ]
     },
     "metadata": {},
     "output_type": "display_data"
    },
    {
     "data": {
      "text/html": [
       "<html>\\(\\displaystyle \\left(9 : 31 : 1\\right) 4\\)</html>"
      ],
      "text/latex": [
       "$\\displaystyle \\left(9 : 31 : 1\\right) 4$"
      ],
      "text/plain": [
       "(9 : 31 : 1) 4"
      ]
     },
     "metadata": {},
     "output_type": "display_data"
    },
    {
     "data": {
      "text/html": [
       "<html>\\(\\displaystyle \\left(21 : -101 : 1\\right) 6\\)</html>"
      ],
      "text/latex": [
       "$\\displaystyle \\left(21 : -101 : 1\\right) 6$"
      ],
      "text/plain": [
       "(21 : -101 : 1) 6"
      ]
     },
     "metadata": {},
     "output_type": "display_data"
    },
    {
     "data": {
      "text/html": [
       "<html>\\(\\displaystyle \\left(21 : 79 : 1\\right) 6\\)</html>"
      ],
      "text/latex": [
       "$\\displaystyle \\left(21 : 79 : 1\\right) 6$"
      ],
      "text/plain": [
       "(21 : 79 : 1) 6"
      ]
     },
     "metadata": {},
     "output_type": "display_data"
    },
    {
     "data": {
      "text/html": [
       "<html>\\(\\displaystyle \\left(81 : -761 : 1\\right) 12\\)</html>"
      ],
      "text/latex": [
       "$\\displaystyle \\left(81 : -761 : 1\\right) 12$"
      ],
      "text/plain": [
       "(81 : -761 : 1) 12"
      ]
     },
     "metadata": {},
     "output_type": "display_data"
    },
    {
     "data": {
      "text/html": [
       "<html>\\(\\displaystyle \\left(81 : 679 : 1\\right) 12\\)</html>"
      ],
      "text/latex": [
       "$\\displaystyle \\left(81 : 679 : 1\\right) 12$"
      ],
      "text/plain": [
       "(81 : 679 : 1) 12"
      ]
     },
     "metadata": {},
     "output_type": "display_data"
    }
   ],
   "source": [
    "for P in E.torsion_points():\n",
    "    show(P,P.order())"
   ]
  },
  {
   "cell_type": "markdown",
   "metadata": {},
   "source": [
    "We take $P$ as a point of order $4$."
   ]
  },
  {
   "cell_type": "code",
   "execution_count": 3,
   "metadata": {},
   "outputs": [],
   "source": [
    "P=E.point((9 , -41 , 1))"
   ]
  },
  {
   "cell_type": "markdown",
   "metadata": {},
   "source": [
    "For a point $P\\in E\\setminus\\{O\\}$ we construct a conic $C$ such that $(C\\cdot E)_P=5$. We assume that the other point is not $O$. This is done using blow-ups. "
   ]
  },
  {
   "cell_type": "code",
   "execution_count": 4,
   "metadata": {},
   "outputs": [],
   "source": [
    "def conica(P,K1=QQ):\n",
    "    S.<a0,a1,a2,a3,a4,x1,y1>=K1[]\n",
    "    R1=R.change_ring(K1)\n",
    "    R1.inject_variables(verbose=False)\n",
    "    q=1+a0*x1+a1*y1+a2*x1^2+a3*x1*y1+a4*y1^2\n",
    "    a=P[0]/P[2]\n",
    "    b=P[1]/P[2]\n",
    "    q0=q(x1=x1+a,y1=y1+b)\n",
    "    p0=p.change_ring(K1)(x=x1+a,y=y1+b,z=1)\n",
    "    q=q.reduce([q0(x1=0,y1=0)])\n",
    "    q0=q0.reduce([q0(x1=0,y1=0)])\n",
    "    for j in [1..4]:\n",
    "        c=-p0.coefficient({x1:1,y1:0})/p0.coefficient({y1:1,x1:0})\n",
    "        p0=S(p0(y1=(x1)*(y1+c))/x1)\n",
    "        q0=S(q0(y1=(x1)*(y1+c))/x1)\n",
    "        q=q.reduce([q0(x1=0,y1=0)])\n",
    "        q0=q0.reduce([q0(x1=0,y1=0)])\n",
    "    q=q(x1=x,y1=y)\n",
    "    q=R1(z^2*q(x=(x/z),y=(y/z)))\n",
    "    s=R1(p.change_ring(K1).resultant(q,y)/(x-a*z)^5)(z=1)\n",
    "    t=R1(p.change_ring(K1).resultant(q,x)/(y-b*z)^5)(z=1)\n",
    "    a1=x.reduce([s])\n",
    "    b1=y.reduce([t])\n",
    "    R.inject_variables(verbose=False)\n",
    "    return q,E.change_ring(K1).point((a1,b1,1))     "
   ]
  },
  {
   "cell_type": "markdown",
   "metadata": {},
   "source": [
    "We apply the above function to $P$. We obtain the conic $C_1$ and the other point $Q$. We construct also the other conic $C_2$."
   ]
  },
  {
   "cell_type": "code",
   "execution_count": 5,
   "metadata": {},
   "outputs": [
    {
     "data": {
      "text/html": [
       "<html>\\(\\displaystyle \\left(9 : 31 : 1\\right)\\)</html>"
      ],
      "text/latex": [
       "$\\displaystyle \\left(9 : 31 : 1\\right)$"
      ],
      "text/plain": [
       "(9 : 31 : 1)"
      ]
     },
     "metadata": {},
     "output_type": "display_data"
    },
    {
     "data": {
      "text/html": [
       "<html>\\(\\displaystyle \\mathrm{True}\\)</html>"
      ],
      "text/latex": [
       "$\\displaystyle \\mathrm{True}$"
      ],
      "text/plain": [
       "True"
      ]
     },
     "metadata": {},
     "output_type": "display_data"
    }
   ],
   "source": [
    "c1,Q=conica(P)\n",
    "c2,P1=conica(Q)\n",
    "show(Q)\n",
    "show(P==P1)"
   ]
  },
  {
   "cell_type": "markdown",
   "metadata": {},
   "source": [
    "The computation below ensures that $C_1\\cap C_2\\cap L_O=\\emptyset$"
   ]
  },
  {
   "cell_type": "code",
   "execution_count": 6,
   "metadata": {},
   "outputs": [
    {
     "data": {
      "text/plain": [
       "-783/87387422319376*x^4"
      ]
     },
     "execution_count": 6,
     "metadata": {},
     "output_type": "execute_result"
    }
   ],
   "source": [
    "c1(z=0).resultant(c2(z=0),y)"
   ]
  },
  {
   "cell_type": "markdown",
   "metadata": {},
   "source": [
    "As this resultant is square-free, $C_1\\pitchfork C_2$"
   ]
  },
  {
   "cell_type": "code",
   "execution_count": 7,
   "metadata": {},
   "outputs": [
    {
     "data": {
      "text/plain": [
       "(27/87387422319376) * (31*x - 9*y) * (41*x + 9*y) * (1157*x^2 + 4338*x*y + 4077*y^2)"
      ]
     },
     "execution_count": 7,
     "metadata": {},
     "output_type": "execute_result"
    }
   ],
   "source": [
    "c1.resultant(c2,z).factor()"
   ]
  },
  {
   "cell_type": "markdown",
   "metadata": {},
   "source": [
    "We repeat the above computations for a point of $12$-torsion."
   ]
  },
  {
   "cell_type": "code",
   "execution_count": 8,
   "metadata": {},
   "outputs": [
    {
     "data": {
      "text/html": [
       "<html>\\(\\displaystyle \\left(81 : 679 : 1\\right)\\)</html>"
      ],
      "text/latex": [
       "$\\displaystyle \\left(81 : 679 : 1\\right)$"
      ],
      "text/plain": [
       "(81 : 679 : 1)"
      ]
     },
     "metadata": {},
     "output_type": "display_data"
    },
    {
     "data": {
      "text/html": [
       "<html>\\(\\displaystyle \\mathrm{True}\\)</html>"
      ],
      "text/latex": [
       "$\\displaystyle \\mathrm{True}$"
      ],
      "text/plain": [
       "True"
      ]
     },
     "metadata": {},
     "output_type": "display_data"
    },
    {
     "data": {
      "text/html": [
       "<html>\\(\\displaystyle \\frac{219375}{2314719960507981376} x^{4}\\)</html>"
      ],
      "text/latex": [
       "$\\displaystyle \\frac{219375}{2314719960507981376} x^{4}$"
      ],
      "text/plain": [
       "219375/2314719960507981376*x^4"
      ]
     },
     "metadata": {},
     "output_type": "display_data"
    },
    {
     "data": {
      "text/html": [
       "<html>\\(\\displaystyle \\left(-\\frac{16875}{1157359980253990688}\\right) \\cdot (41 x - 9 y) \\cdot (679 x - 81 y) \\cdot (119219 x^{2} - 27927 x y + 5454 y^{2})\\)</html>"
      ],
      "text/latex": [
       "$\\displaystyle \\left(-\\frac{16875}{1157359980253990688}\\right) \\cdot (41 x - 9 y) \\cdot (679 x - 81 y) \\cdot (119219 x^{2} - 27927 x y + 5454 y^{2})$"
      ],
      "text/plain": [
       "(-16875/1157359980253990688) * (41*x - 9*y) * (679*x - 81*y) * (119219*x^2 - 27927*x*y + 5454*y^2)"
      ]
     },
     "metadata": {},
     "output_type": "display_data"
    }
   ],
   "source": [
    "P=E.point((-9,-41,1))\n",
    "c1,Q=conica(P)\n",
    "c2,P1=conica(Q)\n",
    "show(Q)\n",
    "show(P==P1)\n",
    "show(c1(z=0).resultant(c2(z=0),y))\n",
    "show(c1.resultant(c2,z).factor())"
   ]
  },
  {
   "cell_type": "markdown",
   "metadata": {},
   "source": [
    "Let us find a point of $8$-torsion. We start with a point of $4$-torsion."
   ]
  },
  {
   "cell_type": "code",
   "execution_count": 9,
   "metadata": {},
   "outputs": [],
   "source": [
    "P0=E.point((9,-41,1))"
   ]
  },
  {
   "cell_type": "markdown",
   "metadata": {},
   "source": [
    "We define functions to obtain the tangent line and the polar curve."
   ]
  },
  {
   "cell_type": "code",
   "execution_count": 10,
   "metadata": {},
   "outputs": [],
   "source": [
    "def tg(P):\n",
    "    a,b,c=P\n",
    "    px=p.derivative(x)\n",
    "    py=p.derivative(y)\n",
    "    pz=p.derivative(z)\n",
    "    return(z*pz(x=a,y=b,z=c)+y*py(x=a,y=b,z=c)+x*px(x=a,y=b,z=c))\n",
    "def polar(P):\n",
    "    a,b,c=P\n",
    "    px=p.derivative(x)\n",
    "    py=p.derivative(y)\n",
    "    pz=p.derivative(z)\n",
    "    return(a*px+b*py+c*pz)"
   ]
  },
  {
   "cell_type": "markdown",
   "metadata": {},
   "source": [
    "We want to compute a field where there is $8$-torsion."
   ]
  },
  {
   "cell_type": "code",
   "execution_count": 11,
   "metadata": {},
   "outputs": [
    {
     "data": {
      "text/plain": [
       "t^4 - 36*t^3 + 270*t^2 - 9396*t - 42039"
      ]
     },
     "execution_count": 11,
     "metadata": {},
     "output_type": "execute_result"
    }
   ],
   "source": [
    "pol=polar(P0)\n",
    "p1=R(pol.resultant(p,y)/(x-P0[0]*z)^2)\n",
    "p1\n",
    "Rt.<t>=QQ[]\n",
    "q=p1(z=1,x=t)\n",
    "q"
   ]
  },
  {
   "cell_type": "code",
   "execution_count": 12,
   "metadata": {},
   "outputs": [
    {
     "data": {
      "text/plain": [
       "[(a, 1), (-1/576*a^3 + 17/192*a^2 - 115/64*a + 1809/64, 1)]"
      ]
     },
     "execution_count": 12,
     "metadata": {},
     "output_type": "execute_result"
    }
   ],
   "source": [
    "K.<a>=NumberField(q)\n",
    "Ra=R.change_ring(K)\n",
    "q.roots(K)"
   ]
  },
  {
   "cell_type": "code",
   "execution_count": 13,
   "metadata": {},
   "outputs": [
    {
     "data": {
      "text/plain": [
       "1/72*a^3 - 3/8*a^2 + 11/8*a - 265/8"
      ]
     },
     "execution_count": 13,
     "metadata": {},
     "output_type": "execute_result"
    }
   ],
   "source": [
    "y0= p(x=a)(z=1,y=t).roots(K)[0][0]\n",
    "y0"
   ]
  },
  {
   "cell_type": "code",
   "execution_count": 14,
   "metadata": {},
   "outputs": [
    {
     "data": {
      "text/plain": [
       "(0, 0)"
      ]
     },
     "execution_count": 14,
     "metadata": {},
     "output_type": "execute_result"
    }
   ],
   "source": [
    "pol(x=a,y=y0,z=1),p(x=a,y=y0,z=1)"
   ]
  },
  {
   "cell_type": "markdown",
   "metadata": {},
   "source": [
    "We repeat the above computations for $P=[a:y_0:1]$ which is of $8$-torsion since $\\langle -2 \\rangle P=P_0$. "
   ]
  },
  {
   "cell_type": "code",
   "execution_count": 15,
   "metadata": {},
   "outputs": [
    {
     "data": {
      "text/html": [
       "<html>\\(\\displaystyle \\left(-\\frac{1}{576} a^{3} + \\frac{17}{192} a^{2} - \\frac{115}{64} a + \\frac{1809}{64} : \\frac{5}{288} a^{3} - \\frac{53}{96} a^{2} + \\frac{127}{32} a - \\frac{6613}{32} : 1\\right)\\)</html>"
      ],
      "text/latex": [
       "$\\displaystyle \\left(-\\frac{1}{576} a^{3} + \\frac{17}{192} a^{2} - \\frac{115}{64} a + \\frac{1809}{64} : \\frac{5}{288} a^{3} - \\frac{53}{96} a^{2} + \\frac{127}{32} a - \\frac{6613}{32} : 1\\right)$"
      ],
      "text/plain": [
       "(-1/576*a^3 + 17/192*a^2 - 115/64*a + 1809/64 : 5/288*a^3 - 53/96*a^2 + 127/32*a - 6613/32 : 1)"
      ]
     },
     "metadata": {},
     "output_type": "display_data"
    },
    {
     "data": {
      "text/html": [
       "<html>\\(\\displaystyle \\mathrm{True}\\)</html>"
      ],
      "text/latex": [
       "$\\displaystyle \\mathrm{True}$"
      ],
      "text/plain": [
       "True"
      ]
     },
     "metadata": {},
     "output_type": "display_data"
    },
    {
     "data": {
      "text/html": [
       "<html>\\(\\displaystyle \\mathrm{False}\\)</html>"
      ],
      "text/latex": [
       "$\\displaystyle \\mathrm{False}$"
      ],
      "text/plain": [
       "False"
      ]
     },
     "metadata": {},
     "output_type": "display_data"
    },
    {
     "data": {
      "text/html": [
       "<html>\\(\\displaystyle \\mathrm{False}\\)</html>"
      ],
      "text/latex": [
       "$\\displaystyle \\mathrm{False}$"
      ],
      "text/plain": [
       "False"
      ]
     },
     "metadata": {},
     "output_type": "display_data"
    }
   ],
   "source": [
    "E1=E.change_ring(K)\n",
    "P=E1.point((a,y0,1))\n",
    "c1,Q=conica(P,K1=K)\n",
    "c2,P1=conica(Q,K1=K)\n",
    "show(Q)\n",
    "show(P==P1)\n",
    "R.change_ring(K).inject_variables(verbose=False)\n",
    "show(c1(z=0).resultant(c2(z=0),y)==0)\n",
    "show(c1.resultant(c2,z).discriminant(y)==0)\n",
    "R.inject_variables(verbose=False)"
   ]
  },
  {
   "cell_type": "markdown",
   "metadata": {},
   "source": [
    "We want to compute a field where there is $24$-torsion."
   ]
  },
  {
   "cell_type": "code",
   "execution_count": 16,
   "metadata": {},
   "outputs": [
    {
     "data": {
      "text/plain": [
       "t^4 + 36*t^3 + 216*t^2 - 18144*t + 81891"
      ]
     },
     "execution_count": 16,
     "metadata": {},
     "output_type": "execute_result"
    }
   ],
   "source": [
    "P0=E.point((-9,-41,1))\n",
    "pol=polar(P0)\n",
    "p1=R(pol.resultant(p,y)/(x-P0[0]*z)^2)\n",
    "p1\n",
    "Rt.<t>=QQ[]\n",
    "q=p1(z=1,x=t)\n",
    "q"
   ]
  },
  {
   "cell_type": "code",
   "execution_count": 17,
   "metadata": {},
   "outputs": [
    {
     "data": {
      "text/plain": [
       "[(a, 1), (-1/576*a^3 - 7/192*a^2 + 11/64*a + 891/64, 1)]"
      ]
     },
     "execution_count": 17,
     "metadata": {},
     "output_type": "execute_result"
    }
   ],
   "source": [
    "K.<a>=NumberField(q)\n",
    "Ra=R.change_ring(K)\n",
    "q.roots(K)"
   ]
  },
  {
   "cell_type": "code",
   "execution_count": 18,
   "metadata": {},
   "outputs": [
    {
     "data": {
      "text/plain": [
       "1/90*a^3 + 3/10*a^2 + 7/10*a - 509/10"
      ]
     },
     "execution_count": 18,
     "metadata": {},
     "output_type": "execute_result"
    }
   ],
   "source": [
    "y0= p(x=a)(z=1,y=t).roots(K)[0][0]\n",
    "y0"
   ]
  },
  {
   "cell_type": "code",
   "execution_count": 19,
   "metadata": {},
   "outputs": [
    {
     "data": {
      "text/html": [
       "<html>\\(\\displaystyle \\left(\\frac{7}{360} a^{3} + \\frac{113}{120} a^{2} + \\frac{659}{40} a - \\frac{5013}{40} : -\\frac{121}{360} a^{3} - \\frac{1999}{120} a^{2} - \\frac{11917}{40} a + \\frac{81979}{40} : 1\\right)\\)</html>"
      ],
      "text/latex": [
       "$\\displaystyle \\left(\\frac{7}{360} a^{3} + \\frac{113}{120} a^{2} + \\frac{659}{40} a - \\frac{5013}{40} : -\\frac{121}{360} a^{3} - \\frac{1999}{120} a^{2} - \\frac{11917}{40} a + \\frac{81979}{40} : 1\\right)$"
      ],
      "text/plain": [
       "(7/360*a^3 + 113/120*a^2 + 659/40*a - 5013/40 : -121/360*a^3 - 1999/120*a^2 - 11917/40*a + 81979/40 : 1)"
      ]
     },
     "metadata": {},
     "output_type": "display_data"
    },
    {
     "data": {
      "text/html": [
       "<html>\\(\\displaystyle \\mathrm{True}\\)</html>"
      ],
      "text/latex": [
       "$\\displaystyle \\mathrm{True}$"
      ],
      "text/plain": [
       "True"
      ]
     },
     "metadata": {},
     "output_type": "display_data"
    },
    {
     "data": {
      "text/html": [
       "<html>\\(\\displaystyle \\mathrm{False}\\)</html>"
      ],
      "text/latex": [
       "$\\displaystyle \\mathrm{False}$"
      ],
      "text/plain": [
       "False"
      ]
     },
     "metadata": {},
     "output_type": "display_data"
    },
    {
     "data": {
      "text/html": [
       "<html>\\(\\displaystyle \\mathrm{False}\\)</html>"
      ],
      "text/latex": [
       "$\\displaystyle \\mathrm{False}$"
      ],
      "text/plain": [
       "False"
      ]
     },
     "metadata": {},
     "output_type": "display_data"
    }
   ],
   "source": [
    "E1=E.change_ring(K)\n",
    "P=E1.point((a,y0,1))\n",
    "c1,Q=conica(P,K1=K)\n",
    "c2,P1=conica(Q,K1=K)\n",
    "show(Q)\n",
    "show(P==P1)\n",
    "R.change_ring(K).inject_variables(verbose=False)\n",
    "show(c1(z=0).resultant(c2(z=0),y)==0)\n",
    "show(c1.resultant(c2,z).discriminant(y)==0)\n",
    "R.inject_variables(verbose=False)"
   ]
  },
  {
   "cell_type": "code",
   "execution_count": null,
   "metadata": {},
   "outputs": [],
   "source": []
  }
 ],
 "metadata": {
  "kernelspec": {
   "display_name": "SageMath 9.6",
   "language": "sage",
   "name": "sagemath"
  },
  "language_info": {
   "codemirror_mode": {
    "name": "ipython",
    "version": 3
   },
   "file_extension": ".py",
   "mimetype": "text/x-python",
   "name": "python",
   "nbconvert_exporter": "python",
   "pygments_lexer": "ipython3",
   "version": "3.10.5"
  },
  "widgets": {
   "application/vnd.jupyter.widget-state+json": {
    "state": {},
    "version_major": 2,
    "version_minor": 0
   }
  }
 },
 "nbformat": 4,
 "nbformat_minor": 4
}
